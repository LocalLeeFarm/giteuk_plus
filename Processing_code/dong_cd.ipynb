{
 "cells": [
  {
   "cell_type": "markdown",
   "id": "1cadba3a",
   "metadata": {},
   "source": [
    "### 행정동코드 처리"
   ]
  },
  {
   "cell_type": "markdown",
   "id": "0c07f64a",
   "metadata": {},
   "source": [
    "https://www.mois.go.kr/frt/bbs/type001/commonSelectBoardArticle.do?bbsId=BBSMSTR_000000000052&nttId=78512\n",
    "\n",
    "행정안전부 - '주민등록 주소 코드 변경 (2020. 6.18 시행)'를 참고하여 행정동 코드 통합"
   ]
  },
  {
   "cell_type": "code",
   "execution_count": 1,
   "id": "02b45019",
   "metadata": {},
   "outputs": [],
   "source": [
    "import pandas as pd"
   ]
  },
  {
   "cell_type": "code",
   "execution_count": 2,
   "id": "ce7faaf8",
   "metadata": {},
   "outputs": [],
   "source": [
    "dong_cd = pd.read_excel('KIKcd_H.20191213.xlsx').iloc[:,:-2]\n",
    "dong_cd = dong_cd[dong_cd['시도명'] =='서울특별시'].dropna()\n",
    "dong_cd.reset_index(inplace=True,drop=True)"
   ]
  },
  {
   "cell_type": "markdown",
   "id": "5eccb6d0",
   "metadata": {},
   "source": [
    "활성화 지표와 읍면동명 통일 - 온점을 중간점으로 수정\n",
    "\n",
    "ex) 종로1.2가동 -> 종로1·2가동"
   ]
  },
  {
   "cell_type": "code",
   "execution_count": 3,
   "id": "718f945d",
   "metadata": {},
   "outputs": [],
   "source": [
    "dong_cd['읍면동명'] = dong_cd['읍면동명'].apply(lambda x : x.replace('.','·'))"
   ]
  },
  {
   "cell_type": "markdown",
   "id": "e0f4598b",
   "metadata": {},
   "source": [
    "활성화 지표와 읍면동명 통일 - 홍제제1동 -> 홍제1동"
   ]
  },
  {
   "cell_type": "code",
   "execution_count": 4,
   "id": "dffb5297",
   "metadata": {},
   "outputs": [],
   "source": [
    "dong_cd['읍면동명'] = dong_cd['읍면동명'].apply(lambda x : x.replace('제',''))"
   ]
  },
  {
   "cell_type": "code",
   "execution_count": 5,
   "id": "18be57aa",
   "metadata": {},
   "outputs": [],
   "source": [
    "dong_cd.loc[dong_cd.loc[dong_cd['읍면동명'] == '기동'].index,'읍면동명'] = '제기동'\n",
    "dong_cd.loc[dong_cd.loc[dong_cd['읍면동명'] == '홍1동'].index,'읍면동명'] = '홍제1동'\n",
    "dong_cd.loc[dong_cd.loc[dong_cd['읍면동명'] == '홍2동'].index,'읍면동명'] = '홍제2동'\n",
    "dong_cd.loc[dong_cd.loc[dong_cd['읍면동명'] == '홍3동'].index,'읍면동명'] = '홍제3동'"
   ]
  },
  {
   "cell_type": "code",
   "execution_count": 6,
   "id": "f2069ff3",
   "metadata": {},
   "outputs": [],
   "source": [
    "dong_cd.to_csv('dong_cd.csv',encoding='cp949',index=False)"
   ]
  },
  {
   "cell_type": "code",
   "execution_count": null,
   "id": "3d7fa665",
   "metadata": {},
   "outputs": [],
   "source": []
  }
 ],
 "metadata": {
  "kernelspec": {
   "display_name": "Python 3",
   "language": "python",
   "name": "python3"
  },
  "language_info": {
   "codemirror_mode": {
    "name": "ipython",
    "version": 3
   },
   "file_extension": ".py",
   "mimetype": "text/x-python",
   "name": "python",
   "nbconvert_exporter": "python",
   "pygments_lexer": "ipython3",
   "version": "3.8.8"
  }
 },
 "nbformat": 4,
 "nbformat_minor": 5
}
