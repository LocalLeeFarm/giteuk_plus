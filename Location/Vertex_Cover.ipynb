{
 "cells": [
  {
   "cell_type": "code",
   "execution_count": 1,
   "metadata": {
    "colab": {
     "base_uri": "https://localhost:8080/"
    },
    "executionInfo": {
     "elapsed": 8283,
     "status": "ok",
     "timestamp": 1629139711377,
     "user": {
      "displayName": "김수현",
      "photoUrl": "https://lh3.googleusercontent.com/a-/AOh14GijZ3xe-J20Au2BKRV6uwj8N4YOQTu4Eo-R4B1UyoA=s64",
      "userId": "15719847712439197632"
     },
     "user_tz": -540
    },
    "id": "_W8RrF5rQ3YT",
    "outputId": "323747ae-b2bf-4791-e1a4-a5e4ad3dc679",
    "scrolled": true
   },
   "outputs": [
    {
     "name": "stdout",
     "output_type": "stream",
     "text": [
      "Requirement already satisfied: pulp in c:\\users\\kimsoohyun\\anaconda3\\lib\\site-packages (2.5.0)\n"
     ]
    }
   ],
   "source": [
    "!pip install pulp"
   ]
  },
  {
   "cell_type": "markdown",
   "metadata": {},
   "source": [
    "### 필요 모듈 로드"
   ]
  },
  {
   "cell_type": "code",
   "execution_count": 2,
   "metadata": {},
   "outputs": [],
   "source": [
    "import networkx as nx\n",
    "import numpy as np\n",
    "import matplotlib.pyplot as plt\n",
    "import scipy as sp\n",
    "import pandas as pd\n",
    "from scipy import sparse\n",
    "\n",
    "%matplotlib inline"
   ]
  },
  {
   "cell_type": "markdown",
   "metadata": {},
   "source": [
    "### 인접행렬 정의"
   ]
  },
  {
   "cell_type": "code",
   "execution_count": 3,
   "metadata": {
    "colab": {
     "base_uri": "https://localhost:8080/",
     "height": 696
    },
    "executionInfo": {
     "elapsed": 379,
     "status": "ok",
     "timestamp": 1629197855172,
     "user": {
      "displayName": "김수현",
      "photoUrl": "https://lh3.googleusercontent.com/a-/AOh14GijZ3xe-J20Au2BKRV6uwj8N4YOQTu4Eo-R4B1UyoA=s64",
      "userId": "15719847712439197632"
     },
     "user_tz": -540
    },
    "id": "bfkyPqB9Qm4w",
    "outputId": "67e3af46-7a37-444f-bd7b-f268fdf0b4ae"
   },
   "outputs": [],
   "source": [
    "row0 =[0,1,1,0,0,0,0,0,1,0,0,0,0]\n",
    "row1 =[1,0,1,1,1,0,0,0,0,0,0,0,0]\n",
    "row2 =[1,1,0,1,1,0,0,0,0,0,0,0,0]\n",
    "row3 =[0,1,1,0,1,0,0,0,0,0,0,0,0]\n",
    "row4 =[0,1,1,1,0,0,0,0,0,1,0,0,0]\n",
    "row5 =[0,0,0,0,0,0,1,1,0,0,0,0,0]\n",
    "row6 =[0,0,0,0,0,1,0,1,0,0,0,0,0]\n",
    "row7 =[0,0,0,0,0,1,1,0,0,0,1,1,1]\n",
    "row8 =[1,0,0,0,0,0,0,0,0,0,0,0,0]\n",
    "row9 =[0,0,0,0,1,0,0,0,0,0,0,0,0]\n",
    "row10=[0,0,0,0,0,0,0,1,0,0,0,0,0]\n",
    "row11=[0,0,0,0,0,0,0,1,0,0,0,0,0]\n",
    "row12=[0,0,0,0,0,0,0,1,0,0,0,0,0]\n",
    "\n",
    "adj_matrix = np.matrix([row0,row1,row2,row3,row4,row5,row6,row7,row8,row9,row10,row11,row12])\n",
    "adj_sparse = sp.sparse.coo_matrix(adj_matrix, dtype=np.int8)\n",
    "labels = range(1,len(row1)+1)\n",
    "DF_adj = pd.DataFrame(adj_sparse.toarray(),index=labels,columns=labels)"
   ]
  },
  {
   "cell_type": "markdown",
   "metadata": {},
   "source": [
    "정의된 인접행렬"
   ]
  },
  {
   "cell_type": "code",
   "execution_count": 4,
   "metadata": {},
   "outputs": [
    {
     "name": "stdout",
     "output_type": "stream",
     "text": [
      "    1   2   3   4   5   6   7   8   9   10  11  12  13\n",
      "1    0   1   1   0   0   0   0   0   1   0   0   0   0\n",
      "2    1   0   1   1   1   0   0   0   0   0   0   0   0\n",
      "3    1   1   0   1   1   0   0   0   0   0   0   0   0\n",
      "4    0   1   1   0   1   0   0   0   0   0   0   0   0\n",
      "5    0   1   1   1   0   0   0   0   0   1   0   0   0\n",
      "6    0   0   0   0   0   0   1   1   0   0   0   0   0\n",
      "7    0   0   0   0   0   1   0   1   0   0   0   0   0\n",
      "8    0   0   0   0   0   1   1   0   0   0   1   1   1\n",
      "9    1   0   0   0   0   0   0   0   0   0   0   0   0\n",
      "10   0   0   0   0   1   0   0   0   0   0   0   0   0\n",
      "11   0   0   0   0   0   0   0   1   0   0   0   0   0\n",
      "12   0   0   0   0   0   0   0   1   0   0   0   0   0\n",
      "13   0   0   0   0   0   0   0   1   0   0   0   0   0\n"
     ]
    }
   ],
   "source": [
    "print(DF_adj)"
   ]
  },
  {
   "cell_type": "code",
   "execution_count": 5,
   "metadata": {
    "colab": {
     "base_uri": "https://localhost:8080/",
     "height": 585
    },
    "executionInfo": {
     "elapsed": 357,
     "status": "ok",
     "timestamp": 1629197855524,
     "user": {
      "displayName": "김수현",
      "photoUrl": "https://lh3.googleusercontent.com/a-/AOh14GijZ3xe-J20Au2BKRV6uwj8N4YOQTu4Eo-R4B1UyoA=s64",
      "userId": "15719847712439197632"
     },
     "user_tz": -540
    },
    "id": "T8PmnvG_QsmM",
    "outputId": "653a0ca1-5b61-4cae-ed49-11397046533c"
   },
   "outputs": [
    {
     "data": {
      "image/png": "[encoded data removed]",
      "text/plain": [
       "<Figure size 432x288 with 1 Axes>"
      ]
     },
     "metadata": {},
     "output_type": "display_data"
    }
   ],
   "source": [
    "G = nx.Graph()\n",
    "G.add_nodes_from(labels)\n",
    "\n",
    "for i in range(DF_adj.shape[0]):\n",
    "    col_label = DF_adj.columns[i]\n",
    "    for j in range(DF_adj.shape[1]):\n",
    "        row_label = DF_adj.index[j]\n",
    "        node = DF_adj.iloc[i,j]\n",
    "        if node == 1:\n",
    "            G.add_edge(col_label,row_label)\n",
    "nx.draw(G,with_labels = True)\n",
    "\n",
    "DF_re = pd.DataFrame(np.zeros([len(G.nodes()),len(G.nodes())]),index=G.nodes(),columns=G.nodes())\n",
    "for col_label,row_label in G.edges():\n",
    "    DF_re.loc[col_label,row_label] = 1\n",
    "    DF_re.loc[row_label,col_label] = 1"
   ]
  },
  {
   "cell_type": "markdown",
   "metadata": {},
   "source": [
    "### Minimum Vertex Cover 함수 정의"
   ]
  },
  {
   "cell_type": "code",
   "execution_count": 6,
   "metadata": {
    "colab": {
     "base_uri": "https://localhost:8080/"
    },
    "executionInfo": {
     "elapsed": 8,
     "status": "ok",
     "timestamp": 1629197855525,
     "user": {
      "displayName": "김수현",
      "photoUrl": "https://lh3.googleusercontent.com/a-/AOh14GijZ3xe-J20Au2BKRV6uwj8N4YOQTu4Eo-R4B1UyoA=s64",
      "userId": "15719847712439197632"
     },
     "user_tz": -540
    },
    "id": "huH0qcDCTNU6",
    "outputId": "a7e65a99-3a1e-4467-9ed0-dff1ecb4b24a"
   },
   "outputs": [],
   "source": [
    "def greedy_vc(input_graph):\n",
    "    cover = []\n",
    "    valid, num_edge = valid_cover(input_graph, cover)\n",
    "    \n",
    "    while not valid:\n",
    "        m = [x for x in range(0, len(num_edge)) if num_edge[x] == max(num_edge)][0]\n",
    "        cover.append(m)\n",
    "        valid, num_edge = valid_cover(input_graph, cover)\n",
    "        \n",
    "    return cover\n",
    "\n",
    "def valid_cover(graph, cover):\n",
    "    valid = True\n",
    "    num_edge = [0] * len(graph)\n",
    "    for i in range(0, len(graph)):\n",
    "        for j in range(i, len(graph)):\n",
    "            if graph[i][j] == 1:\n",
    "                if (i not in cover) and (j not in cover):\n",
    "                    valid = False\n",
    "                    num_edge[i] += 1\n",
    "                    num_edge[j] += 1\n",
    "    return valid, num_edge\n",
    "\n",
    "def Minimum_vertex(M):\n",
    "    graph = M.A\n",
    "    cover = greedy_vc(graph)\n",
    "    print(cover)\n"
   ]
  },
  {
   "cell_type": "markdown",
   "metadata": {},
   "source": [
    "### 최종 입지 도출"
   ]
  },
  {
   "cell_type": "code",
   "execution_count": 7,
   "metadata": {},
   "outputs": [
    {
     "name": "stdout",
     "output_type": "stream",
     "text": [
      "[7, 1, 2, 4, 0, 5]\n"
     ]
    }
   ],
   "source": [
    "Minimum_vertex(adj_matrix)"
   ]
  },
  {
   "cell_type": "code",
   "execution_count": null,
   "metadata": {},
   "outputs": [],
   "source": []
  },
  {
   "cell_type": "code",
   "execution_count": null,
   "metadata": {},
   "outputs": [],
   "source": []
  }
 ],
 "metadata": {
  "colab": {
   "authorship_tag": "ABX9TyMuzOepY+1D/ZmGCtG0kjAO",
   "collapsed_sections": [],
   "mount_file_id": "1QWaRdYB4H4fIwurH4aCQAgZ9bg8auikb",
   "name": "Vertex_Cover.ipynb",
   "provenance": []
  },
  "kernelspec": {
   "display_name": "Python 3",
   "language": "python",
   "name": "python3"
  },
  "language_info": {
   "codemirror_mode": {
    "name": "ipython",
    "version": 3
   },
   "file_extension": ".py",
   "mimetype": "text/x-python",
   "name": "python",
   "nbconvert_exporter": "python",
   "pygments_lexer": "ipython3",
   "version": "3.8.8"
  }
 },
 "nbformat": 4,
 "nbformat_minor": 1
}
