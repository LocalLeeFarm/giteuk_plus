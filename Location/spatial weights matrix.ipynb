{
 "cells": [
  {
   "cell_type": "markdown",
   "metadata": {
    "id": "uLSknFp1J2PF"
   },
   "source": [
    "### 라이브러리 설치 및 로드"
   ]
  },
  {
   "cell_type": "code",
   "execution_count": null,
   "metadata": {
    "id": "OkwbQ5jXOu_q"
   },
   "outputs": [],
   "source": [
    "!pip install pysal"
   ]
  },
  {
   "cell_type": "code",
   "execution_count": null,
   "metadata": {
    "id": "6W500baQXk_L"
   },
   "outputs": [],
   "source": [
    "!pip install contextily"
   ]
  },
  {
   "cell_type": "code",
   "execution_count": 3,
   "metadata": {
    "colab": {
     "base_uri": "https://localhost:8080/"
    },
    "executionInfo": {
     "elapsed": 1080,
     "status": "ok",
     "timestamp": 1629608624898,
     "user": {
      "displayName": "김수현",
      "photoUrl": "https://lh3.googleusercontent.com/a-/AOh14GijZ3xe-J20Au2BKRV6uwj8N4YOQTu4Eo-R4B1UyoA=s64",
      "userId": "15719847712439197632"
     },
     "user_tz": -540
    },
    "id": "6FvibfZvUqYz",
    "outputId": "30784559-d0e8-4d76-c5fa-554e499f2c19"
   },
   "outputs": [
    {
     "name": "stderr",
     "output_type": "stream",
     "text": [
      "/usr/local/lib/python3.7/dist-packages/geopandas/_compat.py:110: UserWarning: The Shapely GEOS version (3.8.0-CAPI-1.13.1 ) is incompatible with the GEOS version PyGEOS was compiled with (3.9.1-CAPI-1.14.2). Conversions between both will be slow.\n",
      "  shapely_geos_version, geos_capi_version_string\n"
     ]
    }
   ],
   "source": [
    "import pandas as pd\n",
    "import numpy as np\n",
    "import matplotlib.pyplot as plt\n",
    "import seaborn as sns\n",
    "from pysal.lib import weights\n",
    "import geopandas as gpd\n"
   ]
  },
  {
   "cell_type": "markdown",
   "metadata": {
    "id": "2GvQ0kB9J9T5"
   },
   "source": [
    "### 영등포구 총 인구 수 SHP 파일 로드\n",
    "\n",
    "http://map.ngii.go.kr/ms/map/NlipMap.do?tabGb=statsMap\n",
    "\n",
    "국토정보맵, 서울특별시 영등포구 총 인구 수 100M 격자, 20년 10월 기준 사용"
   ]
  },
  {
   "cell_type": "code",
   "execution_count": 4,
   "metadata": {
    "executionInfo": {
     "elapsed": 646,
     "status": "ok",
     "timestamp": 1629608625538,
     "user": {
      "displayName": "김수현",
      "photoUrl": "https://lh3.googleusercontent.com/a-/AOh14GijZ3xe-J20Au2BKRV6uwj8N4YOQTu4Eo-R4B1UyoA=s64",
      "userId": "15719847712439197632"
     },
     "user_tz": -540
    },
    "id": "c56ExrmsXjpT"
   },
   "outputs": [],
   "source": [
    "db = gpd.read_file('/QGIS/Population/nlsp_021001001.shp',encoding='utf-8')"
   ]
  },
  {
   "cell_type": "code",
   "execution_count": 5,
   "metadata": {
    "colab": {
     "base_uri": "https://localhost:8080/"
    },
    "executionInfo": {
     "elapsed": 6,
     "status": "ok",
     "timestamp": 1629608625539,
     "user": {
      "displayName": "김수현",
      "photoUrl": "https://lh3.googleusercontent.com/a-/AOh14GijZ3xe-J20Au2BKRV6uwj8N4YOQTu4Eo-R4B1UyoA=s64",
      "userId": "15719847712439197632"
     },
     "user_tz": -540
    },
    "id": "p9RN85xYZX4F",
    "outputId": "fab17021-9ecf-4877-fe65-bdbccd2f4d1b"
   },
   "outputs": [
    {
     "name": "stdout",
     "output_type": "stream",
     "text": [
      "<class 'geopandas.geodataframe.GeoDataFrame'>\n",
      "RangeIndex: 2605 entries, 0 to 2604\n",
      "Data columns (total 4 columns):\n",
      " #   Column    Non-Null Count  Dtype   \n",
      "---  ------    --------------  -----   \n",
      " 0   gid       2605 non-null   object  \n",
      " 1   lbl       1241 non-null   object  \n",
      " 2   val       2605 non-null   float64 \n",
      " 3   geometry  2605 non-null   geometry\n",
      "dtypes: float64(1), geometry(1), object(2)\n",
      "memory usage: 81.5+ KB\n"
     ]
    }
   ],
   "source": [
    "db['val'] = db['val'].fillna(0)\n",
    "\n",
    "db.info()"
   ]
  },
  {
   "cell_type": "code",
   "execution_count": 6,
   "metadata": {
    "colab": {
     "base_uri": "https://localhost:8080/"
    },
    "executionInfo": {
     "elapsed": 5,
     "status": "ok",
     "timestamp": 1629608625539,
     "user": {
      "displayName": "김수현",
      "photoUrl": "https://lh3.googleusercontent.com/a-/AOh14GijZ3xe-J20Au2BKRV6uwj8N4YOQTu4Eo-R4B1UyoA=s64",
      "userId": "15719847712439197632"
     },
     "user_tz": -540
    },
    "id": "6AEWfewXYTAD",
    "outputId": "0f6257c7-b76d-41e8-e5bf-ab3a73997122"
   },
   "outputs": [
    {
     "data": {
      "text/plain": [
       "<Projected CRS: EPSG:5179>\n",
       "Name: Korea 2000 / Unified CS\n",
       "Axis Info [cartesian]:\n",
       "- X[north]: Northing (metre)\n",
       "- Y[east]: Easting (metre)\n",
       "Area of Use:\n",
       "- name: Republic of Korea (South Korea) - onshore and offshore.\n",
       "- bounds: (122.71, 28.6, 134.28, 40.27)\n",
       "Coordinate Operation:\n",
       "- name: Korea Unified Belt\n",
       "- method: Transverse Mercator\n",
       "Datum: Geocentric datum of Korea\n",
       "- Ellipsoid: GRS 1980\n",
       "- Prime Meridian: Greenwich"
      ]
     },
     "execution_count": 6,
     "metadata": {},
     "output_type": "execute_result"
    }
   ],
   "source": [
    "db.crs # 좌표계"
   ]
  },
  {
   "cell_type": "code",
   "execution_count": 7,
   "metadata": {
    "colab": {
     "base_uri": "https://localhost:8080/",
     "height": 295
    },
    "executionInfo": {
     "elapsed": 1175,
     "status": "ok",
     "timestamp": 1629608626711,
     "user": {
      "displayName": "김수현",
      "photoUrl": "https://lh3.googleusercontent.com/a-/AOh14GijZ3xe-J20Au2BKRV6uwj8N4YOQTu4Eo-R4B1UyoA=s64",
      "userId": "15719847712439197632"
     },
     "user_tz": -540
    },
    "id": "NZeftm8bYbPl",
    "outputId": "c3a0c615-dea5-4bb8-c763-dfec5eac624d"
   },
   "outputs": [
    {
     "data": {
      "text/plain": [
       "<matplotlib.axes._subplots.AxesSubplot at 0x7fb9ce7a2a10>"
      ]
     },
     "execution_count": 7,
     "metadata": {},
     "output_type": "execute_result"
    },
    {
     "data": {
      "image/png": "[encoded data removed]",
      "text/plain": [
       "<Figure size 432x288 with 1 Axes>"
      ]
     },
     "metadata": {
      "needs_background": "light"
     },
     "output_type": "display_data"
    }
   ],
   "source": [
    "db.plot()"
   ]
  },
  {
   "cell_type": "markdown",
   "metadata": {
    "id": "h0YnL1jxLsey"
   },
   "source": [
    "Queen contiguity를 통해 Weights 계산"
   ]
  },
  {
   "cell_type": "code",
   "execution_count": 8,
   "metadata": {
    "executionInfo": {
     "elapsed": 594,
     "status": "ok",
     "timestamp": 1629608627300,
     "user": {
      "displayName": "김수현",
      "photoUrl": "https://lh3.googleusercontent.com/a-/AOh14GijZ3xe-J20Au2BKRV6uwj8N4YOQTu4Eo-R4B1UyoA=s64",
      "userId": "15719847712439197632"
     },
     "user_tz": -540
    },
    "id": "HSq4CvyY1FnC"
   },
   "outputs": [],
   "source": [
    "w = weights.Queen.from_dataframe(db)\n",
    "w.transform = 'R' "
   ]
  },
  {
   "cell_type": "code",
   "execution_count": 9,
   "metadata": {
    "executionInfo": {
     "elapsed": 363,
     "status": "ok",
     "timestamp": 1629608627662,
     "user": {
      "displayName": "김수현",
      "photoUrl": "https://lh3.googleusercontent.com/a-/AOh14GijZ3xe-J20Au2BKRV6uwj8N4YOQTu4Eo-R4B1UyoA=s64",
      "userId": "15719847712439197632"
     },
     "user_tz": -540
    },
    "id": "qG7hdGhMoB2e"
   },
   "outputs": [],
   "source": [
    "Wmatrix, ids = w.full()"
   ]
  },
  {
   "cell_type": "markdown",
   "metadata": {
    "id": "EIp0drrOMB6h"
   },
   "source": [
    "### 가중합 계산\n",
    "\n",
    "가중합 = 기준 격자 값 + 인접한 8개 격자의 평균값 계산"
   ]
  },
  {
   "cell_type": "code",
   "execution_count": 10,
   "metadata": {
    "executionInfo": {
     "elapsed": 1697,
     "status": "ok",
     "timestamp": 1629608629357,
     "user": {
      "displayName": "김수현",
      "photoUrl": "https://lh3.googleusercontent.com/a-/AOh14GijZ3xe-J20Au2BKRV6uwj8N4YOQTu4Eo-R4B1UyoA=s64",
      "userId": "15719847712439197632"
     },
     "user_tz": -540
    },
    "id": "3zWzmc8Bzfc4"
   },
   "outputs": [],
   "source": [
    "val_list = []\n",
    "for i in range(len(db)):\n",
    "  val_list.append(sum(pd.Series(Wmatrix[i]) * db['val']) + db['val'][i])"
   ]
  },
  {
   "cell_type": "code",
   "execution_count": 11,
   "metadata": {
    "executionInfo": {
     "elapsed": 9,
     "status": "ok",
     "timestamp": 1629608629362,
     "user": {
      "displayName": "김수현",
      "photoUrl": "https://lh3.googleusercontent.com/a-/AOh14GijZ3xe-J20Au2BKRV6uwj8N4YOQTu4Eo-R4B1UyoA=s64",
      "userId": "15719847712439197632"
     },
     "user_tz": -540
    },
    "id": "0z2O9qPrzrkH"
   },
   "outputs": [],
   "source": [
    "db['result'] = val_list"
   ]
  },
  {
   "cell_type": "code",
   "execution_count": 12,
   "metadata": {
    "colab": {
     "base_uri": "https://localhost:8080/",
     "height": 422
    },
    "executionInfo": {
     "elapsed": 9,
     "status": "ok",
     "timestamp": 1629608629363,
     "user": {
      "displayName": "김수현",
      "photoUrl": "https://lh3.googleusercontent.com/a-/AOh14GijZ3xe-J20Au2BKRV6uwj8N4YOQTu4Eo-R4B1UyoA=s64",
      "userId": "15719847712439197632"
     },
     "user_tz": -540
    },
    "id": "hf5p-LBxoUqO",
    "outputId": "66fdaebc-ff8e-4c5b-cadc-0ed4d0bdd499"
   },
   "outputs": [
    {
     "data": {
      "text/html": [
       "<div>\n",
       "<style scoped>\n",
       "    .dataframe tbody tr th:only-of-type {\n",
       "        vertical-align: middle;\n",
       "    }\n",
       "\n",
       "    .dataframe tbody tr th {\n",
       "        vertical-align: top;\n",
       "    }\n",
       "\n",
       "    .dataframe thead th {\n",
       "        text-align: right;\n",
       "    }\n",
       "</style>\n",
       "<table border=\"1\" class=\"dataframe\">\n",
       "  <thead>\n",
       "    <tr style=\"text-align: right;\">\n",
       "      <th></th>\n",
       "      <th>gid</th>\n",
       "      <th>lbl</th>\n",
       "      <th>val</th>\n",
       "      <th>geometry</th>\n",
       "      <th>result</th>\n",
       "    </tr>\n",
       "  </thead>\n",
       "  <tbody>\n",
       "    <tr>\n",
       "      <th>0</th>\n",
       "      <td>다사469469</td>\n",
       "      <td>383.00</td>\n",
       "      <td>383.0</td>\n",
       "      <td>POLYGON ((946900.000 1946900.000, 946900.000 1...</td>\n",
       "      <td>515.375</td>\n",
       "    </tr>\n",
       "    <tr>\n",
       "      <th>1</th>\n",
       "      <td>다사466473</td>\n",
       "      <td>42.00</td>\n",
       "      <td>42.0</td>\n",
       "      <td>POLYGON ((946600.000 1947300.000, 946600.000 1...</td>\n",
       "      <td>472.875</td>\n",
       "    </tr>\n",
       "    <tr>\n",
       "      <th>2</th>\n",
       "      <td>다사471472</td>\n",
       "      <td>28.00</td>\n",
       "      <td>28.0</td>\n",
       "      <td>POLYGON ((947100.000 1947200.000, 947100.000 1...</td>\n",
       "      <td>371.375</td>\n",
       "    </tr>\n",
       "    <tr>\n",
       "      <th>3</th>\n",
       "      <td>다사479468</td>\n",
       "      <td>21.00</td>\n",
       "      <td>21.0</td>\n",
       "      <td>POLYGON ((947900.000 1946800.000, 947900.000 1...</td>\n",
       "      <td>213.000</td>\n",
       "    </tr>\n",
       "    <tr>\n",
       "      <th>4</th>\n",
       "      <td>다사478439</td>\n",
       "      <td>60.00</td>\n",
       "      <td>60.0</td>\n",
       "      <td>POLYGON ((947800.000 1943900.000, 947800.000 1...</td>\n",
       "      <td>181.500</td>\n",
       "    </tr>\n",
       "    <tr>\n",
       "      <th>...</th>\n",
       "      <td>...</td>\n",
       "      <td>...</td>\n",
       "      <td>...</td>\n",
       "      <td>...</td>\n",
       "      <td>...</td>\n",
       "    </tr>\n",
       "    <tr>\n",
       "      <th>2600</th>\n",
       "      <td>다사506468</td>\n",
       "      <td>None</td>\n",
       "      <td>0.0</td>\n",
       "      <td>POLYGON ((950600.000 1946800.000, 950600.000 1...</td>\n",
       "      <td>0.000</td>\n",
       "    </tr>\n",
       "    <tr>\n",
       "      <th>2601</th>\n",
       "      <td>다사473458</td>\n",
       "      <td>None</td>\n",
       "      <td>0.0</td>\n",
       "      <td>POLYGON ((947300.000 1945800.000, 947300.000 1...</td>\n",
       "      <td>509.250</td>\n",
       "    </tr>\n",
       "    <tr>\n",
       "      <th>2602</th>\n",
       "      <td>다사493475</td>\n",
       "      <td>None</td>\n",
       "      <td>0.0</td>\n",
       "      <td>POLYGON ((949300.000 1947500.000, 949300.000 1...</td>\n",
       "      <td>0.000</td>\n",
       "    </tr>\n",
       "    <tr>\n",
       "      <th>2603</th>\n",
       "      <td>다사501474</td>\n",
       "      <td>None</td>\n",
       "      <td>0.0</td>\n",
       "      <td>POLYGON ((950100.000 1947400.000, 950100.000 1...</td>\n",
       "      <td>0.000</td>\n",
       "    </tr>\n",
       "    <tr>\n",
       "      <th>2604</th>\n",
       "      <td>다사500477</td>\n",
       "      <td>None</td>\n",
       "      <td>0.0</td>\n",
       "      <td>POLYGON ((950000.000 1947700.000, 950000.000 1...</td>\n",
       "      <td>0.000</td>\n",
       "    </tr>\n",
       "  </tbody>\n",
       "</table>\n",
       "<p>2605 rows × 5 columns</p>\n",
       "</div>"
      ],
      "text/plain": [
       "           gid  ...   result\n",
       "0     다사469469  ...  515.375\n",
       "1     다사466473  ...  472.875\n",
       "2     다사471472  ...  371.375\n",
       "3     다사479468  ...  213.000\n",
       "4     다사478439  ...  181.500\n",
       "...        ...  ...      ...\n",
       "2600  다사506468  ...    0.000\n",
       "2601  다사473458  ...  509.250\n",
       "2602  다사493475  ...    0.000\n",
       "2603  다사501474  ...    0.000\n",
       "2604  다사500477  ...    0.000\n",
       "\n",
       "[2605 rows x 5 columns]"
      ]
     },
     "execution_count": 12,
     "metadata": {},
     "output_type": "execute_result"
    }
   ],
   "source": [
    "db"
   ]
  },
  {
   "cell_type": "code",
   "execution_count": 13,
   "metadata": {
    "executionInfo": {
     "elapsed": 361,
     "status": "ok",
     "timestamp": 1629608629717,
     "user": {
      "displayName": "김수현",
      "photoUrl": "https://lh3.googleusercontent.com/a-/AOh14GijZ3xe-J20Au2BKRV6uwj8N4YOQTu4Eo-R4B1UyoA=s64",
      "userId": "15719847712439197632"
     },
     "user_tz": -540
    },
    "id": "zxE7-d1BHaRg"
   },
   "outputs": [],
   "source": [
    "db.to_csv('/QGIS/Demand/영등포구_인구가중합.csv',encoding='cp949',index=False)"
   ]
  },
  {
   "cell_type": "code",
   "execution_count": 13,
   "metadata": {
    "executionInfo": {
     "elapsed": 4,
     "status": "ok",
     "timestamp": 1629608629718,
     "user": {
      "displayName": "김수현",
      "photoUrl": "https://lh3.googleusercontent.com/a-/AOh14GijZ3xe-J20Au2BKRV6uwj8N4YOQTu4Eo-R4B1UyoA=s64",
      "userId": "15719847712439197632"
     },
     "user_tz": -540
    },
    "id": "8R6C-SUyPCYR"
   },
   "outputs": [],
   "source": []
  }
 ],
 "metadata": {
  "colab": {
   "authorship_tag": "ABX9TyOkZm95dAOdq/AiKgksVlOp",
   "collapsed_sections": [],
   "mount_file_id": "1PC8kcsxLAe2epZpS9YseumRt-NoZqfOc",
   "name": "spatial weights matrix.ipynb",
   "provenance": []
  },
  "kernelspec": {
   "display_name": "Python 3",
   "language": "python",
   "name": "python3"
  },
  "language_info": {
   "codemirror_mode": {
    "name": "ipython",
    "version": 3
   },
   "file_extension": ".py",
   "mimetype": "text/x-python",
   "name": "python",
   "nbconvert_exporter": "python",
   "pygments_lexer": "ipython3",
   "version": "3.8.8"
  }
 },
 "nbformat": 4,
 "nbformat_minor": 1
}
