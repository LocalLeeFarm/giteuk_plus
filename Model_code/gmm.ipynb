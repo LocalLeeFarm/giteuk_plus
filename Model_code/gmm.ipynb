{
 "cells": [
  {
   "cell_type": "markdown",
   "id": "7dbc4594-7fab-4c4c-ab6f-81cb072d8f39",
   "metadata": {},
   "source": [
    "## gmm"
   ]
  },
  {
   "cell_type": "markdown",
   "id": "6bf8f678-ed40-4d4f-8206-60e34f1e7eda",
   "metadata": {},
   "source": [
    "## 라이브러리 import"
   ]
  },
  {
   "cell_type": "code",
   "execution_count": 1,
   "id": "0ef288fe",
   "metadata": {},
   "outputs": [],
   "source": [
    "import pandas as pd  #데이터 분석 라이브러리\n",
    "import numpy as np # 계산 라이브러리\n",
    "from sklearn.mixture import GaussianMixture #gmm 라이브러리\n",
    "from sklearn.decomposition import PCA #주성분 분석 라이브러리\n",
    "\n",
    "import matplotlib as mpl # 그래프 라이브러리\n",
    "import plotly.express as px #그래프 라이브러리\n",
    "import seaborn as sns #seaborn 그래프 라이브러리\n",
    "\n",
    "import matplotlib.pyplot as plt #pyplot 그래프 라이브러리\n",
    "import matplotlib.font_manager as fm  #그래프 폰트 라이브러리\n",
    "%matplotlib inline\n",
    "\n",
    "fm._rebuild() #json파일에 업데이트 해주기\n",
    "\n",
    "plt.rc(\"font\", family=\"Malgun Gothic\") #폰트 맑은 고딕 적용\n"
   ]
  },
  {
   "cell_type": "markdown",
   "id": "82388e44-8096-49b8-8015-2437c958ab2b",
   "metadata": {},
   "source": [
    "## 데이터 불러오기"
   ]
  },
  {
   "cell_type": "code",
   "execution_count": 2,
   "id": "8c0c8e40",
   "metadata": {},
   "outputs": [],
   "source": [
    "df1 = pd.read_csv('../Data/Preprocessing/활성화지표_추가본.csv',encoding='cp949') #데이터 불러오기\n",
    "df1 = df1.drop(df1.index[275]) #항동 제거"
   ]
  },
  {
   "cell_type": "code",
   "execution_count": 3,
   "id": "2003a582",
   "metadata": {},
   "outputs": [
    {
     "data": {
      "text/html": [
       "<div>\n",
       "<style scoped>\n",
       "    .dataframe tbody tr th:only-of-type {\n",
       "        vertical-align: middle;\n",
       "    }\n",
       "\n",
       "    .dataframe tbody tr th {\n",
       "        vertical-align: top;\n",
       "    }\n",
       "\n",
       "    .dataframe thead th {\n",
       "        text-align: right;\n",
       "    }\n",
       "</style>\n",
       "<table border=\"1\" class=\"dataframe\">\n",
       "  <thead>\n",
       "    <tr style=\"text-align: right;\">\n",
       "      <th></th>\n",
       "      <th>자치구</th>\n",
       "      <th>행정동명</th>\n",
       "      <th>행정동코드</th>\n",
       "      <th>과거대비인구변화(%)</th>\n",
       "      <th>최근인구변화(연속감소년수)</th>\n",
       "      <th>과거대비사업체변화(%)</th>\n",
       "      <th>최근사업체변화(연속감소년수)</th>\n",
       "      <th>노후건축물비율(%)</th>\n",
       "      <th>노인인구비율</th>\n",
       "      <th>기초생활 대상자 비율</th>\n",
       "    </tr>\n",
       "  </thead>\n",
       "  <tbody>\n",
       "    <tr>\n",
       "      <th>0</th>\n",
       "      <td>종로구</td>\n",
       "      <td>사직동</td>\n",
       "      <td>1111053000</td>\n",
       "      <td>-13.703589</td>\n",
       "      <td>2</td>\n",
       "      <td>0.338696</td>\n",
       "      <td>1</td>\n",
       "      <td>73.636364</td>\n",
       "      <td>0.187946</td>\n",
       "      <td>0.013155</td>\n",
       "    </tr>\n",
       "    <tr>\n",
       "      <th>1</th>\n",
       "      <td>종로구</td>\n",
       "      <td>삼청동</td>\n",
       "      <td>1111054000</td>\n",
       "      <td>-71.395349</td>\n",
       "      <td>3</td>\n",
       "      <td>-2.691790</td>\n",
       "      <td>1</td>\n",
       "      <td>77.192982</td>\n",
       "      <td>0.231695</td>\n",
       "      <td>0.014094</td>\n",
       "    </tr>\n",
       "    <tr>\n",
       "      <th>2</th>\n",
       "      <td>종로구</td>\n",
       "      <td>부암동</td>\n",
       "      <td>1111055000</td>\n",
       "      <td>-28.333333</td>\n",
       "      <td>5</td>\n",
       "      <td>4.251386</td>\n",
       "      <td>1</td>\n",
       "      <td>75.547703</td>\n",
       "      <td>0.177973</td>\n",
       "      <td>0.014517</td>\n",
       "    </tr>\n",
       "    <tr>\n",
       "      <th>3</th>\n",
       "      <td>종로구</td>\n",
       "      <td>평창동</td>\n",
       "      <td>1111056000</td>\n",
       "      <td>-4.272303</td>\n",
       "      <td>4</td>\n",
       "      <td>2.092050</td>\n",
       "      <td>0</td>\n",
       "      <td>71.133568</td>\n",
       "      <td>0.182865</td>\n",
       "      <td>0.007373</td>\n",
       "    </tr>\n",
       "    <tr>\n",
       "      <th>4</th>\n",
       "      <td>종로구</td>\n",
       "      <td>무악동</td>\n",
       "      <td>1111057000</td>\n",
       "      <td>-37.690513</td>\n",
       "      <td>3</td>\n",
       "      <td>-15.185185</td>\n",
       "      <td>4</td>\n",
       "      <td>54.545455</td>\n",
       "      <td>0.169926</td>\n",
       "      <td>0.018040</td>\n",
       "    </tr>\n",
       "  </tbody>\n",
       "</table>\n",
       "</div>"
      ],
      "text/plain": [
       "   자치구 행정동명       행정동코드  과거대비인구변화(%)  최근인구변화(연속감소년수)  과거대비사업체변화(%)  \\\n",
       "0  종로구  사직동  1111053000   -13.703589               2      0.338696   \n",
       "1  종로구  삼청동  1111054000   -71.395349               3     -2.691790   \n",
       "2  종로구  부암동  1111055000   -28.333333               5      4.251386   \n",
       "3  종로구  평창동  1111056000    -4.272303               4      2.092050   \n",
       "4  종로구  무악동  1111057000   -37.690513               3    -15.185185   \n",
       "\n",
       "   최근사업체변화(연속감소년수)  노후건축물비율(%)    노인인구비율  기초생활 대상자 비율  \n",
       "0                1   73.636364  0.187946     0.013155  \n",
       "1                1   77.192982  0.231695     0.014094  \n",
       "2                1   75.547703  0.177973     0.014517  \n",
       "3                0   71.133568  0.182865     0.007373  \n",
       "4                4   54.545455  0.169926     0.018040  "
      ]
     },
     "execution_count": 3,
     "metadata": {},
     "output_type": "execute_result"
    }
   ],
   "source": [
    "df1.head()"
   ]
  },
  {
   "cell_type": "code",
   "execution_count": 4,
   "id": "2ff41fbd-a4fc-4cc8-b6d0-1a297f12b448",
   "metadata": {},
   "outputs": [
    {
     "data": {
      "text/plain": [
       "Index(['자치구', '행정동명', '행정동코드', '과거대비인구변화(%)', '최근인구변화(연속감소년수)', '과거대비사업체변화(%)',\n",
       "       '최근사업체변화(연속감소년수)', '노후건축물비율(%)', '노인인구비율', '기초생활 대상자 비율'],\n",
       "      dtype='object')"
      ]
     },
     "execution_count": 4,
     "metadata": {},
     "output_type": "execute_result"
    }
   ],
   "source": [
    "df1.columns #데이터 컬럼 확인"
   ]
  },
  {
   "cell_type": "code",
   "execution_count": 5,
   "id": "f621e3da-b1a6-4d52-849c-c387aff73813",
   "metadata": {},
   "outputs": [],
   "source": [
    "hang = df1['행정동코드'] #행정동코드만 따로 분리"
   ]
  },
  {
   "cell_type": "code",
   "execution_count": 6,
   "id": "7d1cb469-70f5-4822-aa04-44eb7743cdef",
   "metadata": {},
   "outputs": [],
   "source": [
    "df1_use = df1[['과거대비인구변화(%)','최근인구변화(연속감소년수)','과거대비사업체변화(%)','최근사업체변화(연속감소년수)','노후건축물비율(%)', '노인인구비율', '기초생활 대상자 비율']]\n",
    "# 최종 사용 변수\n"
   ]
  },
  {
   "cell_type": "code",
   "execution_count": null,
   "id": "a8eb551b-b03d-40af-9f3a-f826d589dd8c",
   "metadata": {},
   "outputs": [],
   "source": []
  },
  {
   "cell_type": "markdown",
   "id": "1b306c82-2fa9-4a1b-8388-a3501d90875a",
   "metadata": {},
   "source": [
    "## aic , bic"
   ]
  },
  {
   "cell_type": "code",
   "execution_count": 7,
   "id": "8f89cb24-dfd9-4727-b052-da741a9be3a7",
   "metadata": {},
   "outputs": [
    {
     "name": "stdout",
     "output_type": "stream",
     "text": [
      "1 bic : 9003.006495856584 aic : 8861.348469589964\n",
      "2 bic : 8859.50300146333 aic : 8572.139576751044\n",
      "3 bic : 8763.81891710218 aic : 8330.750093944229\n",
      "4 bic : 8813.27873587116 aic : 8234.50451426754\n",
      "5 bic : 8924.114229021056 aic : 8199.634608971772\n",
      "6 bic : 8925.25307430925 aic : 8055.068055814301\n",
      "7 bic : 9082.404852544898 aic : 8066.514435604283\n",
      "8 bic : 9312.664157940246 aic : 8151.068342553964\n",
      "9 bic : 9414.409302988168 aic : 8107.10808915622\n",
      "10 bic : 9464.063834807708 aic : 8011.057222530095\n",
      "11 bic : 7497.535138747179 aic : 5898.8231280239\n",
      "12 bic : 7555.242299415942 aic : 5810.824890246997\n",
      "13 bic : 7704.439386712433 aic : 5814.316579097821\n",
      "14 bic : 7875.939799126109 aic : 5840.111593065832\n",
      "15 bic : 10101.920800959495 aic : 7920.387196453551\n",
      "16 bic : 7918.184963779604 aic : 5590.945960827995\n",
      "17 bic : 10148.92347999655 aic : 7675.979078599275\n",
      "18 bic : 8207.828125208322 aic : 5589.178325365379\n",
      "19 bic : 8336.356313353 aic : 5572.001115064394\n"
     ]
    }
   ],
   "source": [
    "#gmm은 elbow 대신 이거 씀\n",
    "#이게 작을수록 좋다\n",
    "#https://berrrrr.github.io/datascience/2020/11/16/hands-on-ml-9/\n",
    "k = range(1,20)\n",
    "for i in k:\n",
    "    gmm_model = GaussianMixture(n_components=i, random_state=42)\n",
    "    gmm_mm = gmm_model.fit_predict(df1_use)\n",
    "    b = gmm_model.bic(df1_use)\n",
    "    a = gmm_model.aic(df1_use)\n",
    "    print(i,'bic :',b,'aic :',a)"
   ]
  },
  {
   "cell_type": "markdown",
   "id": "c05ad47b-01a0-4120-960f-31c579893a71",
   "metadata": {},
   "source": [
    "## gmm"
   ]
  },
  {
   "cell_type": "code",
   "execution_count": 8,
   "id": "cd44c18a-be59-4c26-94cb-5c4f5832b6ad",
   "metadata": {},
   "outputs": [
    {
     "name": "stderr",
     "output_type": "stream",
     "text": [
      "<ipython-input-8-3cab13376c72>:6: SettingWithCopyWarning: \n",
      "A value is trying to be set on a copy of a slice from a DataFrame.\n",
      "Try using .loc[row_indexer,col_indexer] = value instead\n",
      "\n",
      "See the caveats in the documentation: https://pandas.pydata.org/pandas-docs/stable/user_guide/indexing.html#returning-a-view-versus-a-copy\n",
      "  df1_use['gmm_cluster'] = gmm_labels\n"
     ]
    }
   ],
   "source": [
    "# GMM 적용\n",
    "gmm = GaussianMixture(n_components=4, random_state=42) # n_components로 미리 군집 개수 설정\n",
    "gmm_labels = gmm.fit_predict(df1_use)\n",
    "\n",
    "# GMM 후 클러스터링 레이블을 따로 설정\n",
    "df1_use['gmm_cluster'] = gmm_labels\n"
   ]
  },
  {
   "cell_type": "code",
   "execution_count": 9,
   "id": "fc2df35d-7734-481c-a711-0472b0b0e371",
   "metadata": {},
   "outputs": [
    {
     "data": {
      "text/html": [
       "<div>\n",
       "<style scoped>\n",
       "    .dataframe tbody tr th:only-of-type {\n",
       "        vertical-align: middle;\n",
       "    }\n",
       "\n",
       "    .dataframe tbody tr th {\n",
       "        vertical-align: top;\n",
       "    }\n",
       "\n",
       "    .dataframe thead th {\n",
       "        text-align: right;\n",
       "    }\n",
       "</style>\n",
       "<table border=\"1\" class=\"dataframe\">\n",
       "  <thead>\n",
       "    <tr style=\"text-align: right;\">\n",
       "      <th></th>\n",
       "      <th>과거대비인구변화(%)</th>\n",
       "      <th>최근인구변화(연속감소년수)</th>\n",
       "      <th>과거대비사업체변화(%)</th>\n",
       "      <th>최근사업체변화(연속감소년수)</th>\n",
       "      <th>노후건축물비율(%)</th>\n",
       "      <th>노인인구비율</th>\n",
       "      <th>기초생활 대상자 비율</th>\n",
       "      <th>gmm_cluster</th>\n",
       "    </tr>\n",
       "  </thead>\n",
       "  <tbody>\n",
       "    <tr>\n",
       "      <th>0</th>\n",
       "      <td>-13.703589</td>\n",
       "      <td>2</td>\n",
       "      <td>0.338696</td>\n",
       "      <td>1</td>\n",
       "      <td>73.636364</td>\n",
       "      <td>0.187946</td>\n",
       "      <td>0.013155</td>\n",
       "      <td>3</td>\n",
       "    </tr>\n",
       "    <tr>\n",
       "      <th>1</th>\n",
       "      <td>-71.395349</td>\n",
       "      <td>3</td>\n",
       "      <td>-2.691790</td>\n",
       "      <td>1</td>\n",
       "      <td>77.192982</td>\n",
       "      <td>0.231695</td>\n",
       "      <td>0.014094</td>\n",
       "      <td>0</td>\n",
       "    </tr>\n",
       "    <tr>\n",
       "      <th>2</th>\n",
       "      <td>-28.333333</td>\n",
       "      <td>5</td>\n",
       "      <td>4.251386</td>\n",
       "      <td>1</td>\n",
       "      <td>75.547703</td>\n",
       "      <td>0.177973</td>\n",
       "      <td>0.014517</td>\n",
       "      <td>3</td>\n",
       "    </tr>\n",
       "    <tr>\n",
       "      <th>3</th>\n",
       "      <td>-4.272303</td>\n",
       "      <td>4</td>\n",
       "      <td>2.092050</td>\n",
       "      <td>0</td>\n",
       "      <td>71.133568</td>\n",
       "      <td>0.182865</td>\n",
       "      <td>0.007373</td>\n",
       "      <td>3</td>\n",
       "    </tr>\n",
       "    <tr>\n",
       "      <th>4</th>\n",
       "      <td>-37.690513</td>\n",
       "      <td>3</td>\n",
       "      <td>-15.185185</td>\n",
       "      <td>4</td>\n",
       "      <td>54.545455</td>\n",
       "      <td>0.169926</td>\n",
       "      <td>0.018040</td>\n",
       "      <td>1</td>\n",
       "    </tr>\n",
       "  </tbody>\n",
       "</table>\n",
       "</div>"
      ],
      "text/plain": [
       "   과거대비인구변화(%)  최근인구변화(연속감소년수)  과거대비사업체변화(%)  최근사업체변화(연속감소년수)  노후건축물비율(%)  \\\n",
       "0   -13.703589               2      0.338696                1   73.636364   \n",
       "1   -71.395349               3     -2.691790                1   77.192982   \n",
       "2   -28.333333               5      4.251386                1   75.547703   \n",
       "3    -4.272303               4      2.092050                0   71.133568   \n",
       "4   -37.690513               3    -15.185185                4   54.545455   \n",
       "\n",
       "     노인인구비율  기초생활 대상자 비율  gmm_cluster  \n",
       "0  0.187946     0.013155            3  \n",
       "1  0.231695     0.014094            0  \n",
       "2  0.177973     0.014517            3  \n",
       "3  0.182865     0.007373            3  \n",
       "4  0.169926     0.018040            1  "
      ]
     },
     "execution_count": 9,
     "metadata": {},
     "output_type": "execute_result"
    }
   ],
   "source": [
    "df1_use.head() #데이터 확인"
   ]
  },
  {
   "cell_type": "code",
   "execution_count": 10,
   "id": "f37834fa-07c3-4d3b-8713-4a13935fff4d",
   "metadata": {},
   "outputs": [],
   "source": [
    "df1_use = pd.concat([df1_use,hang],axis=1) #행정동 코드 붙이기"
   ]
  },
  {
   "cell_type": "code",
   "execution_count": 11,
   "id": "9f88c9dd-d5c3-4eca-9f76-cd88e65e46bf",
   "metadata": {},
   "outputs": [
    {
     "data": {
      "text/html": [
       "<div>\n",
       "<style scoped>\n",
       "    .dataframe tbody tr th:only-of-type {\n",
       "        vertical-align: middle;\n",
       "    }\n",
       "\n",
       "    .dataframe tbody tr th {\n",
       "        vertical-align: top;\n",
       "    }\n",
       "\n",
       "    .dataframe thead th {\n",
       "        text-align: right;\n",
       "    }\n",
       "</style>\n",
       "<table border=\"1\" class=\"dataframe\">\n",
       "  <thead>\n",
       "    <tr style=\"text-align: right;\">\n",
       "      <th></th>\n",
       "      <th>과거대비인구변화(%)</th>\n",
       "      <th>최근인구변화(연속감소년수)</th>\n",
       "      <th>과거대비사업체변화(%)</th>\n",
       "      <th>최근사업체변화(연속감소년수)</th>\n",
       "      <th>노후건축물비율(%)</th>\n",
       "      <th>노인인구비율</th>\n",
       "      <th>기초생활 대상자 비율</th>\n",
       "      <th>gmm_cluster</th>\n",
       "      <th>행정동코드</th>\n",
       "    </tr>\n",
       "  </thead>\n",
       "  <tbody>\n",
       "    <tr>\n",
       "      <th>0</th>\n",
       "      <td>-13.703589</td>\n",
       "      <td>2</td>\n",
       "      <td>0.338696</td>\n",
       "      <td>1</td>\n",
       "      <td>73.636364</td>\n",
       "      <td>0.187946</td>\n",
       "      <td>0.013155</td>\n",
       "      <td>3</td>\n",
       "      <td>1111053000</td>\n",
       "    </tr>\n",
       "    <tr>\n",
       "      <th>1</th>\n",
       "      <td>-71.395349</td>\n",
       "      <td>3</td>\n",
       "      <td>-2.691790</td>\n",
       "      <td>1</td>\n",
       "      <td>77.192982</td>\n",
       "      <td>0.231695</td>\n",
       "      <td>0.014094</td>\n",
       "      <td>0</td>\n",
       "      <td>1111054000</td>\n",
       "    </tr>\n",
       "    <tr>\n",
       "      <th>2</th>\n",
       "      <td>-28.333333</td>\n",
       "      <td>5</td>\n",
       "      <td>4.251386</td>\n",
       "      <td>1</td>\n",
       "      <td>75.547703</td>\n",
       "      <td>0.177973</td>\n",
       "      <td>0.014517</td>\n",
       "      <td>3</td>\n",
       "      <td>1111055000</td>\n",
       "    </tr>\n",
       "    <tr>\n",
       "      <th>3</th>\n",
       "      <td>-4.272303</td>\n",
       "      <td>4</td>\n",
       "      <td>2.092050</td>\n",
       "      <td>0</td>\n",
       "      <td>71.133568</td>\n",
       "      <td>0.182865</td>\n",
       "      <td>0.007373</td>\n",
       "      <td>3</td>\n",
       "      <td>1111056000</td>\n",
       "    </tr>\n",
       "    <tr>\n",
       "      <th>4</th>\n",
       "      <td>-37.690513</td>\n",
       "      <td>3</td>\n",
       "      <td>-15.185185</td>\n",
       "      <td>4</td>\n",
       "      <td>54.545455</td>\n",
       "      <td>0.169926</td>\n",
       "      <td>0.018040</td>\n",
       "      <td>1</td>\n",
       "      <td>1111057000</td>\n",
       "    </tr>\n",
       "  </tbody>\n",
       "</table>\n",
       "</div>"
      ],
      "text/plain": [
       "   과거대비인구변화(%)  최근인구변화(연속감소년수)  과거대비사업체변화(%)  최근사업체변화(연속감소년수)  노후건축물비율(%)  \\\n",
       "0   -13.703589               2      0.338696                1   73.636364   \n",
       "1   -71.395349               3     -2.691790                1   77.192982   \n",
       "2   -28.333333               5      4.251386                1   75.547703   \n",
       "3    -4.272303               4      2.092050                0   71.133568   \n",
       "4   -37.690513               3    -15.185185                4   54.545455   \n",
       "\n",
       "     노인인구비율  기초생활 대상자 비율  gmm_cluster       행정동코드  \n",
       "0  0.187946     0.013155            3  1111053000  \n",
       "1  0.231695     0.014094            0  1111054000  \n",
       "2  0.177973     0.014517            3  1111055000  \n",
       "3  0.182865     0.007373            3  1111056000  \n",
       "4  0.169926     0.018040            1  1111057000  "
      ]
     },
     "execution_count": 11,
     "metadata": {},
     "output_type": "execute_result"
    }
   ],
   "source": [
    "df1_use.head()"
   ]
  },
  {
   "cell_type": "markdown",
   "id": "b4ab60d7-0a7b-4511-a5e7-8b765cab2f5c",
   "metadata": {},
   "source": [
    "## 클러스터별 데이터 분리"
   ]
  },
  {
   "cell_type": "code",
   "execution_count": 12,
   "id": "47b16186-e841-419d-b823-d20a350b6484",
   "metadata": {},
   "outputs": [],
   "source": [
    "data_a = df1_use[df1_use['gmm_cluster'] == 0]\n",
    "data_b = df1_use[df1_use['gmm_cluster'] == 1]\n",
    "data_c = df1_use[df1_use['gmm_cluster'] == 2]\n",
    "data_d = df1_use[df1_use['gmm_cluster'] == 3]"
   ]
  },
  {
   "cell_type": "markdown",
   "id": "4b3374af-007e-43ab-b95a-ae63d393dc74",
   "metadata": {},
   "source": [
    "## box plot"
   ]
  },
  {
   "cell_type": "code",
   "execution_count": 13,
   "id": "cb3635ce-00d3-4b64-8367-24df7359e5fb",
   "metadata": {},
   "outputs": [
    {
     "name": "stderr",
     "output_type": "stream",
     "text": [
      "c:\\programdata\\miniconda3\\lib\\site-packages\\matplotlib\\backends\\backend_agg.py:238: RuntimeWarning: Glyph 8722 missing from current font.\n",
      "  font.set_text(s, 0.0, flags=flags)\n",
      "c:\\programdata\\miniconda3\\lib\\site-packages\\matplotlib\\backends\\backend_agg.py:201: RuntimeWarning: Glyph 8722 missing from current font.\n",
      "  font.set_text(s, 0, flags=flags)\n"
     ]
    },
    {
     "data": {
      "image/png": "[encoded data removed]",
      "text/plain": [
       "<Figure size 432x288 with 1 Axes>"
      ]
     },
     "metadata": {
      "needs_background": "light"
     },
     "output_type": "display_data"
    },
    {
     "data": {
      "image/png": "[encoded data removed]",
      "text/plain": [
       "<Figure size 432x288 with 1 Axes>"
      ]
     },
     "metadata": {
      "needs_background": "light"
     },
     "output_type": "display_data"
    },
    {
     "data": {
      "image/png": "[encoded data removed]",
      "text/plain": [
       "<Figure size 432x288 with 1 Axes>"
      ]
     },
     "metadata": {
      "needs_background": "light"
     },
     "output_type": "display_data"
    },
    {
     "data": {
      "image/png": "[encoded data removed]",
      "text/plain": [
       "<Figure size 432x288 with 1 Axes>"
      ]
     },
     "metadata": {
      "needs_background": "light"
     },
     "output_type": "display_data"
    },
    {
     "data": {
      "image/png": "[encoded data removed]",
      "text/plain": [
       "<Figure size 432x288 with 1 Axes>"
      ]
     },
     "metadata": {
      "needs_background": "light"
     },
     "output_type": "display_data"
    }
   ],
   "source": [
    "plot_list = ['과거대비인구변화(%)', '과거대비사업체변화(%)',\n",
    "       '노후건축물비율(%)', '가구당인구수', '노인인구비율', '기초생활 대상자 비율']\n",
    "count=0\n",
    "for i in range(0,len(data_a.columns)-1):\n",
    "    count+=1\n",
    "    if count==5:\n",
    "        count=0\n",
    "    if data_a.iloc[:,i].name not in plot_list:\n",
    "        continue\n",
    "    fig, ax = plt.subplots()\n",
    "    \n",
    "    ax.boxplot([data_a.iloc[:,i], data_b.iloc[:,i], data_c.iloc[:,i], data_d.iloc[:,i]])\n",
    "\n",
    "    plt.title('[k-medoids] ' + data_a.iloc[:,i].name)\n",
    "    \n",
    "plt.show()"
   ]
  },
  {
   "cell_type": "code",
   "execution_count": 14,
   "id": "7d36aa86-9167-4eb1-b468-91329cafa00f",
   "metadata": {},
   "outputs": [
    {
     "name": "stdout",
     "output_type": "stream",
     "text": [
      "0: 3.642857142857143\n",
      "1: 3.402877697841727\n",
      "2: 2.490566037735849\n",
      "3: 3.813131313131313\n"
     ]
    }
   ],
   "source": [
    "#최근 인구 변화\n",
    "\n",
    "df1_use.iloc[:,1].groupby([df1_use['gmm_cluster']]).count()\n",
    "p_a = 42\n",
    "p_b = 139\n",
    "p_c = 53\n",
    "p_d = 198\n",
    "\n",
    "df1_use.iloc[:,1].groupby([df1_use['gmm_cluster']]).sum() \n",
    "s_a = 153\n",
    "s_b =473\n",
    "s_c = 132\n",
    "s_d = 755\n",
    "print('0:',s_a/p_a)\n",
    "print('1:',s_b/p_b)\n",
    "print('2:',s_c/p_c)\n",
    "print('3:',s_d/p_d)"
   ]
  },
  {
   "cell_type": "code",
   "execution_count": 15,
   "id": "1a1b68a5-e863-4a8f-a942-6a5a965e7974",
   "metadata": {},
   "outputs": [
    {
     "name": "stdout",
     "output_type": "stream",
     "text": [
      "0: 2.5714285714285716\n",
      "1: 2.2661870503597124\n",
      "2: 1.6415094339622642\n",
      "3: 1.6161616161616161\n"
     ]
    }
   ],
   "source": [
    "#최근 사업체 변화\n",
    "df1_use.iloc[:,3].groupby([df1_use['gmm_cluster']]).sum()\n",
    "s_a = 108\n",
    "s_b =315\n",
    "s_c = 87\n",
    "s_d = 320\n",
    "print('0:',s_a/p_a)\n",
    "print('1:',s_b/p_b)\n",
    "print('2:',s_c/p_c)\n",
    "print('3:',s_d/p_d)"
   ]
  },
  {
   "cell_type": "markdown",
   "id": "4914260c-ded8-4ca0-9ab1-4dad30dada7d",
   "metadata": {},
   "source": [
    "## PCA"
   ]
  },
  {
   "cell_type": "code",
   "execution_count": 20,
   "id": "69920d43-5ed5-4899-98a9-822ecae42113",
   "metadata": {},
   "outputs": [
    {
     "data": {
      "text/html": [
       "<div>\n",
       "<style scoped>\n",
       "    .dataframe tbody tr th:only-of-type {\n",
       "        vertical-align: middle;\n",
       "    }\n",
       "\n",
       "    .dataframe tbody tr th {\n",
       "        vertical-align: top;\n",
       "    }\n",
       "\n",
       "    .dataframe thead th {\n",
       "        text-align: right;\n",
       "    }\n",
       "</style>\n",
       "<table border=\"1\" class=\"dataframe\">\n",
       "  <thead>\n",
       "    <tr style=\"text-align: right;\">\n",
       "      <th></th>\n",
       "      <th>principal component1</th>\n",
       "      <th>principal component2</th>\n",
       "      <th>gmm_cluster</th>\n",
       "    </tr>\n",
       "  </thead>\n",
       "  <tbody>\n",
       "    <tr>\n",
       "      <th>0</th>\n",
       "      <td>-4.803259</td>\n",
       "      <td>-5.414629</td>\n",
       "      <td>3.0</td>\n",
       "    </tr>\n",
       "    <tr>\n",
       "      <th>1</th>\n",
       "      <td>47.414729</td>\n",
       "      <td>18.111318</td>\n",
       "      <td>0.0</td>\n",
       "    </tr>\n",
       "    <tr>\n",
       "      <th>2</th>\n",
       "      <td>8.119012</td>\n",
       "      <td>-0.692897</td>\n",
       "      <td>3.0</td>\n",
       "    </tr>\n",
       "    <tr>\n",
       "      <th>3</th>\n",
       "      <td>-14.425949</td>\n",
       "      <td>-7.661018</td>\n",
       "      <td>3.0</td>\n",
       "    </tr>\n",
       "    <tr>\n",
       "      <th>4</th>\n",
       "      <td>10.059206</td>\n",
       "      <td>23.596934</td>\n",
       "      <td>1.0</td>\n",
       "    </tr>\n",
       "    <tr>\n",
       "      <th>...</th>\n",
       "      <td>...</td>\n",
       "      <td>...</td>\n",
       "      <td>...</td>\n",
       "    </tr>\n",
       "    <tr>\n",
       "      <th>419</th>\n",
       "      <td>-8.192029</td>\n",
       "      <td>4.583837</td>\n",
       "      <td>3.0</td>\n",
       "    </tr>\n",
       "    <tr>\n",
       "      <th>420</th>\n",
       "      <td>-6.942935</td>\n",
       "      <td>5.715386</td>\n",
       "      <td>3.0</td>\n",
       "    </tr>\n",
       "    <tr>\n",
       "      <th>421</th>\n",
       "      <td>-8.972186</td>\n",
       "      <td>-8.486532</td>\n",
       "      <td>3.0</td>\n",
       "    </tr>\n",
       "    <tr>\n",
       "      <th>422</th>\n",
       "      <td>-11.524998</td>\n",
       "      <td>2.093691</td>\n",
       "      <td>3.0</td>\n",
       "    </tr>\n",
       "    <tr>\n",
       "      <th>423</th>\n",
       "      <td>NaN</td>\n",
       "      <td>NaN</td>\n",
       "      <td>3.0</td>\n",
       "    </tr>\n",
       "  </tbody>\n",
       "</table>\n",
       "<p>424 rows × 3 columns</p>\n",
       "</div>"
      ],
      "text/plain": [
       "     principal component1  principal component2  gmm_cluster\n",
       "0               -4.803259             -5.414629          3.0\n",
       "1               47.414729             18.111318          0.0\n",
       "2                8.119012             -0.692897          3.0\n",
       "3              -14.425949             -7.661018          3.0\n",
       "4               10.059206             23.596934          1.0\n",
       "..                    ...                   ...          ...\n",
       "419             -8.192029              4.583837          3.0\n",
       "420             -6.942935              5.715386          3.0\n",
       "421             -8.972186             -8.486532          3.0\n",
       "422            -11.524998              2.093691          3.0\n",
       "423                   NaN                   NaN          3.0\n",
       "\n",
       "[424 rows x 3 columns]"
      ]
     },
     "execution_count": 20,
     "metadata": {},
     "output_type": "execute_result"
    }
   ],
   "source": [
    "df1_plot = df1_use[['과거대비인구변화(%)', '최근인구변화(연속감소년수)', '과거대비사업체변화(%)',\n",
    "       '최근사업체변화(연속감소년수)', '노후건축물비율(%)', '노인인구비율', '기초생활 대상자 비율']]\n",
    "pca = PCA(n_components=2) # 주성분 2개로 결정\n",
    "printcipalComponents = pca.fit_transform(df1_plot) #주성분 분석 \n",
    "principalDf = pd.DataFrame(data=printcipalComponents, columns = ['principal component1', 'principal component2']) #data frame 형태로 변환\n",
    "df1_plot_final = pd.concat([principalDf,df1_use['gmm_cluster']],axis=1) #주성분 분석 dataframe + cluster 정보 합침\n",
    "df1_plot_final\n"
   ]
  },
  {
   "cell_type": "code",
   "execution_count": 21,
   "id": "b6c8a02d-e8b2-4502-a216-3610e9280e06",
   "metadata": {},
   "outputs": [],
   "source": [
    "df1_plot_final['gmm_cluster'] = df1_plot_final['gmm_cluster'].apply(lambda x :str(x)) #클러스터 열 데이터 형태 str로 바꾸기"
   ]
  },
  {
   "cell_type": "markdown",
   "id": "ea9de01e-77bf-472b-9cad-87a7a8862a3f",
   "metadata": {},
   "source": [
    "## 산점도"
   ]
  },
  {
   "cell_type": "code",
   "execution_count": 22,
   "id": "c9f855b5-d18e-494e-a7de-507e12472e22",
   "metadata": {},
   "outputs": [
    {
     "data": {
      "application/vnd.plotly.v1+json": {
       "config": {
        "plotlyServerURL": "https://plot.ly"
       },
       "data": [
        {
         "hovertemplate": "gmm_cluster=3.0<br>principal component1=%{x}<br>principal component2=%{y}<extra></extra>",
         "legendgroup": "3.0",
         "marker": {
          "color": "#636efa",
          "symbol": "circle"
         },
         "mode": "markers",
         "name": "3.0",
         "orientation": "v",
         "showlegend": true,
         "type": "scatter",
         "x": [
          -4.803259471754662,
          8.119011751111133,
          -14.425948813992422,
          -4.007535543554241,
          -6.406660555792193,
          -0.5487383292221608,
          7.1847796038742455,
          6.386793479387733,
          -16.898989751627628,
          -23.882991615564844,
          -34.1142552505654,
          -11.77908389948483,
          -0.598875577703254,
          8.8454875978063,
          -14.739204045523193,
          -31.37720642035754,
          -12.587540368869135,
          -6.854571655118128,
          -20.941814011607832,
          -20.811352805061407,
          -18.55512450121915,
          -15.226719592383748,
          -3.4483547508837717,
          -16.142480204885317,
          -11.471481839992057,
          -4.478787789643554,
          -9.002198333909599,
          -4.398056953094583,
          -22.112944272903146,
          -20.36828850150083,
          -23.303524079601434,
          -17.43052086181717,
          -8.716575737656942,
          -24.97797643990638,
          -19.86131135583768,
          2.0927063602647116,
          -13.716336720408606,
          -15.089283962731258,
          -8.538229653067662,
          -10.29103333293435,
          -11.700049871235636,
          -1.9860244588032763,
          -12.236176316471782,
          -15.048372687645452,
          -8.933328935193648,
          2.125961982275974,
          4.055773410628098,
          -2.6302948504502,
          -5.594673848668061,
          8.84393781517564,
          -15.644219678772187,
          -6.793086253893221,
          -11.227938354785584,
          -12.699297939710943,
          -5.500244900643435,
          -8.632764516359027,
          -13.570360854275082,
          -20.25095681306298,
          -20.32274993207138,
          -10.597765285967752,
          -20.23836899219677,
          -21.187842043574896,
          -6.758575589061923,
          -28.604576020574083,
          -24.110718001782672,
          -19.415160183882385,
          -1.7177862395172676,
          -4.356653099168629,
          5.7266227588671885,
          1.0150357877276825,
          -9.760766868710965,
          -3.0558123450861245,
          -14.16292593384001,
          1.4460102854540504,
          -4.9183982175058185,
          -22.753844942431783,
          -22.363237619963552,
          -6.261218719357857,
          -4.691202689366917,
          -0.22543896119215223,
          -15.106230894445336,
          -11.357501360087857,
          -7.549836831474544,
          -16.941000513005964,
          -13.177286987073474,
          -18.276409167752664,
          -20.157938635982948,
          -11.230160593571002,
          0.5309625808081612,
          2.2275416670581176,
          -7.1253707669301365,
          -8.827568942637866,
          -15.101194076753929,
          -26.180515790859065,
          -16.520199099049762,
          -13.225271294672167,
          -10.508204190994508,
          -5.544408888452805,
          -17.489021482627557,
          -14.306000455292537,
          -19.77706283637088,
          -23.14682953113964,
          -22.17346157595722,
          -22.110653812283893,
          -3.3258518270597244,
          1.2341902038484007,
          -3.384399855868355,
          0.12295285938498024,
          -15.342134723367986,
          -5.977439174966383,
          -24.13783151857082,
          -17.252617364268062,
          -6.14754902599449,
          -12.185141081802401,
          27.256884776826894,
          23.432656233004565,
          -12.093966039353294,
          1.493196122905514,
          -11.205971877514544,
          -23.65160662227376,
          24.9874737091628,
          -55.85582814926439,
          -4.30350728331361,
          -15.241846335202627,
          37.13784554032356,
          -10.718859149875156,
          -21.439079456813722,
          -4.873090685168972,
          -7.158399539516247,
          -17.60525546042854,
          -3.942519073269945,
          -14.0546578759474,
          -1.7960334905375153,
          6.923613337738521,
          -3.7190349130183122,
          14.658019233745145,
          -18.764244452494182,
          -1.8782843984672104,
          -23.758525517308804,
          -10.591416555611454,
          12.93333790756416,
          3.5854278338029952,
          19.430063913383112,
          -9.024858279830973,
          -27.454522499378612,
          -3.2347342374613888,
          18.47505677687965,
          -26.69465359574118,
          1.4919572446970037,
          -16.147893458037554,
          8.99114209556981,
          18.808072413969008,
          -19.075769449290977,
          -14.520924032625535,
          -27.64984277800465,
          -12.829224647805813,
          4.016568381909252,
          -15.519136334072101,
          -18.318209457758375,
          -23.83853446530946,
          -34.185442838907385,
          -17.896352155594776,
          -6.7155287641781625,
          17.81875282714588,
          -29.122218856788663,
          10.453797167986764,
          -19.247664485608688,
          -8.538520645793024,
          -18.337733841866697,
          -16.796117016269154,
          -16.531063322611054,
          -24.162807015713167,
          19.720870759246846,
          2.6746155159851535,
          20.04351845318427,
          -53.17975982512734,
          10.502473073796732,
          5.167208470547539,
          7.636856128733815,
          15.84217001753686,
          -8.192028667238823,
          -6.942935410432965,
          -8.972186110619399,
          -11.524998436769074,
          null
         ],
         "xaxis": "x",
         "y": [
          -5.414629448210176,
          -0.6928968154621429,
          -7.661018188488682,
          -1.2797789666616664,
          -10.2207648899401,
          -3.0295946607692414,
          0.42748793841863836,
          4.664660641485279,
          -12.033778517704688,
          -25.721340002176902,
          -34.344646067200415,
          -14.104007498338339,
          -10.767389802412492,
          3.618550252727906,
          -20.592103187131904,
          -5.323598105891144,
          1.3609709972370927,
          0.13698615914944304,
          7.030120949549085,
          -3.966162800886611,
          0.4014984914952871,
          -4.74155271250902,
          4.13731638156583,
          -3.4155638723536024,
          -15.39399975907647,
          -16.433590227004213,
          -20.368843202284662,
          -15.310989193739005,
          -8.852585735106167,
          -12.005525856468264,
          -22.7500158039062,
          1.4025368943357819,
          0.28723964316092154,
          4.614558403758167,
          3.5080058849225018,
          -7.618941673437426,
          -7.1230281455286395,
          -0.44614807202561524,
          -11.014506581186014,
          -10.012953232772945,
          -11.782000086862611,
          -11.37191449908887,
          -6.49076808699977,
          -5.607867714528209,
          -16.86528418453243,
          -2.344622210201784,
          6.579544568341835,
          -7.69032705713665,
          -3.5516345150560515,
          -4.358573488842126,
          -3.348721962116646,
          5.741460980741139,
          5.047861981675519,
          -9.661018117275683,
          4.87969062116531,
          9.861789184126499,
          6.849411318070771,
          7.051623911694891,
          -5.034389733522716,
          -8.438844327239401,
          -1.219970758993924,
          2.52617199858274,
          5.2624929371566465,
          -9.173472270090976,
          4.587963985304117,
          2.3190854074372123,
          -13.066880185328573,
          -11.037498520218351,
          -8.310548427084138,
          -13.450639605491824,
          -4.184351305473828,
          1.5339153997494615,
          -3.0468725527715157,
          -12.849537544582926,
          -10.643366916885562,
          0.12714264705997644,
          -5.013111589444513,
          0.5844976630794058,
          4.94292656943955,
          3.3152383682830417,
          0.8552398908033737,
          -2.9283669195583615,
          -13.417093737971513,
          1.7326196018166367,
          -17.4885962171117,
          8.346814587571336,
          0.5398690052229758,
          3.203904178150949,
          20.897867951966056,
          2.759275449067413,
          7.919036511694783,
          0.5222885045504556,
          0.12410964142970489,
          8.350240629447283,
          7.150331936739335,
          10.948681995065314,
          8.31610535590533,
          2.695049758732217,
          -1.2049295640686781,
          5.349723789480414,
          -0.9153223347034859,
          -6.052542774957128,
          -1.8244959726043855,
          10.903461855405036,
          5.3013197683426965,
          0.4236228507141027,
          -11.388398453646943,
          -4.602333321824751,
          7.23818585778217,
          4.335914626109163,
          -11.326997524633885,
          3.9801395942995192,
          -13.048668007883037,
          7.17502372282712,
          5.177237698706651,
          7.208900292340691,
          14.743147089140358,
          -9.32088242350146,
          -17.61035318802958,
          -4.75627227257847,
          3.0146982492700856,
          -34.926552019162116,
          -14.16471264517414,
          -17.82473332422055,
          -6.60006829804748,
          0.5471302369584543,
          -1.8921522391597143,
          -0.3964411882837232,
          2.52038171064383,
          -3.915322715313482,
          -6.857953116224326,
          1.5892206941115103,
          -13.608684027134998,
          -0.7287541204471591,
          -1.5487568847211726,
          -9.090943939807248,
          6.131209679678824,
          1.4757975844181486,
          4.9490570002012655,
          0.07901994280000729,
          5.233823668142065,
          11.01933667243741,
          8.831438854020703,
          6.003436938801443,
          -2.8751395132369426,
          -12.661136691802387,
          14.968986182189767,
          7.173453593422473,
          6.631597601378771,
          5.490055082546432,
          16.468338867354646,
          28.011120580762867,
          4.9838069316554305,
          -6.926721215268912,
          3.966503892726252,
          7.506982966877767,
          3.965517247013873,
          11.655795949566333,
          15.425814847832704,
          5.408369940643281,
          9.61067987354338,
          -2.5645243798710577,
          1.6392551637209583,
          16.6006386656005,
          7.823653192811622,
          -8.205599055820613,
          17.952783575292035,
          5.024717073715951,
          19.00554135345884,
          24.130822469058014,
          -0.6936525021744685,
          15.608278481256,
          29.969977597219057,
          57.38715098923679,
          -20.311986058141205,
          52.19445325424531,
          -14.128768604083632,
          26.56063293787792,
          6.568724332083917,
          5.818409734257941,
          4.583836686686614,
          5.715386247564749,
          -8.486532116942042,
          2.093690849998298,
          null
         ],
         "yaxis": "y"
        },
        {
         "hovertemplate": "gmm_cluster=0.0<br>principal component1=%{x}<br>principal component2=%{y}<extra></extra>",
         "legendgroup": "0.0",
         "marker": {
          "color": "#EF553B",
          "symbol": "circle"
         },
         "mode": "markers",
         "name": "0.0",
         "orientation": "v",
         "showlegend": true,
         "type": "scatter",
         "x": [
          47.414728822356594,
          33.9337756081634,
          45.78811139776605,
          36.707346631600906,
          51.33083177542014,
          24.334434202510057,
          34.95658224090083,
          16.42899343759475,
          39.029780029262845,
          31.474222022771563,
          22.75568960573785,
          3.4469667303020617,
          15.427150093863082,
          20.70709003394705,
          44.79345416659415,
          24.378191377908717,
          11.003421004337495,
          8.875248010161828,
          16.463518770976666,
          -6.923484314376787,
          -5.831448145866652,
          23.74959584517977,
          1.0289723108143036,
          51.37675447164317,
          5.306438572032631,
          1.1640075610206988,
          22.389987690091523,
          1.584446288584093,
          25.36846352802086,
          19.4498654602206,
          14.336534951071515,
          44.2042349038911,
          47.06643047898451,
          31.7840287366467,
          -5.952032267486027,
          -24.034521935376983,
          21.273153806166736,
          0.40042258339843323,
          0.4935009935564126,
          14.368541551056481,
          -42.05553779700103,
          37.18915809219142,
          11.146119773552696
         ],
         "xaxis": "x",
         "y": [
          18.111318474215388,
          12.91357453785792,
          0.522889245881921,
          -2.591886428666727,
          0.6666207358835313,
          -6.950349807039964,
          6.611139866166778,
          -5.387266284174944,
          0.6455982301892397,
          -5.2256865960591155,
          4.4198359745126705,
          -12.000581521397669,
          2.1548676918498115,
          -3.3647798117974035,
          -0.38668197921283914,
          -5.031244727463401,
          4.771674564922788,
          -5.085441317406293,
          1.5932122251824867,
          7.310606564170389,
          8.985690056885032,
          -9.531676790182688,
          -8.56461974732885,
          14.415678416816341,
          23.47867784057652,
          2.127132390957808,
          -5.355668100182683,
          4.327827174108704,
          23.268807066652997,
          5.055048815995817,
          -0.6817362846278869,
          2.041218036045913,
          6.8474419848609145,
          15.167325307658462,
          -4.081117391129608,
          3.6612941828550314,
          2.5551117431441654,
          -1.9753488811070548,
          13.080008309493667,
          9.76062813445587,
          14.283477525142692,
          -2.185606100348974,
          -7.524540334114975
         ],
         "yaxis": "y"
        },
        {
         "hovertemplate": "gmm_cluster=1.0<br>principal component1=%{x}<br>principal component2=%{y}<extra></extra>",
         "legendgroup": "1.0",
         "marker": {
          "color": "#00cc96",
          "symbol": "circle"
         },
         "mode": "markers",
         "name": "1.0",
         "orientation": "v",
         "showlegend": true,
         "type": "scatter",
         "x": [
          10.059205556757279,
          -6.026018913867234,
          46.83676083627733,
          40.31519364796137,
          45.20699570881309,
          29.934573049225342,
          37.32834011384567,
          16.482386066878064,
          14.744890789146769,
          13.300523964927294,
          32.36960379346132,
          26.1339544205066,
          26.888886771016466,
          21.043607881446725,
          25.39599997492949,
          18.337531571565936,
          31.174686368945935,
          9.813570482506169,
          6.259907796530914,
          11.857213812716775,
          37.09904509555631,
          11.519633898281569,
          -2.9916193193001144,
          13.666428961282168,
          35.5878902783132,
          10.43302079203488,
          33.60916690048854,
          1.8921450441359973,
          23.245766328216245,
          11.101303367411047,
          11.653649754772264,
          23.185528145297106,
          2.3839527682227417,
          13.926226701357695,
          9.36634176999158,
          13.752090760201574,
          29.134346180491598,
          37.95829249096595,
          10.87090549727707,
          3.5425771918788227,
          3.5351899399377746,
          16.153125169178065,
          17.418156076869206,
          7.146651744221516,
          4.046856913000043,
          22.419444626540717,
          9.145640745203377,
          22.840008098009886,
          6.17067358547475,
          -4.789253127854353,
          3.640598747669342,
          14.171719874465941,
          15.558206201270051,
          13.09905176476678,
          -0.8783736763291373,
          3.2262590940615246,
          14.494473513136288,
          -10.773516400055794,
          -0.33541323902537523,
          -5.65505837072499,
          4.324712128850477,
          9.925355474975728,
          1.611402028039537,
          19.780387569548058,
          23.69470434843069,
          7.256984801574431,
          12.033613458615367,
          2.9364569291065763,
          0.7780231883426666,
          22.424425407013892,
          -2.360067077508265,
          2.1867649424485993,
          -11.773073670539999,
          -9.063924974569229,
          6.680200388043288,
          30.983941148469814,
          14.564034290660787,
          12.986005090758226,
          3.4306034657690905,
          12.510637614618341,
          4.0799282804762464,
          3.675199967520766,
          -4.500750788507606,
          -6.27223544047209,
          0.2551873194648942,
          24.960939467296477,
          20.617897107293135,
          29.737683260895267,
          -0.3295253188387166,
          -0.5741563656345351,
          -0.30751718193837496,
          4.04005887052488,
          20.954811425433785,
          -11.110863381595573,
          -8.46624290138924,
          23.23481468602044,
          -1.0679720657637366,
          -14.673329452084825,
          15.773285915909133,
          43.66356763422477,
          2.891193208562431,
          10.806196077355597,
          14.053433678734956,
          26.504378071072995,
          14.051403990828229,
          -3.234272871610405,
          2.8656080232352283,
          -0.6825237711373996,
          18.230988904597613,
          9.737046290530552,
          8.084723366547994,
          -7.9666273387603885,
          14.505976425149846,
          8.987245750984199,
          14.273884558715066,
          9.697154173426048,
          -41.4050434520658,
          -3.016205649168774,
          -10.479949957285395,
          24.28168430716973,
          25.13290910778636,
          -2.4296779161199056,
          -24.947761757074964,
          30.40892307491268,
          -12.655828262476764,
          42.49648406900332,
          20.92006422370923,
          0.4742643189142235,
          -22.50605286110662,
          8.630738572671317,
          32.675524220268315,
          -10.851389533011718,
          -12.71573490707199,
          -4.006097357206043,
          -34.19082461336567,
          17.389951906099597,
          -0.03151918891699947,
          -14.093499414585786,
          11.317961619020425,
          -9.975599130293467,
          13.565622679636395,
          25.324180300376582,
          -28.553611554854363,
          8.012879104619547,
          -14.21971972282707,
          -4.361263279589239,
          -20.528237193836517,
          21.99636190492321,
          -11.764324303467,
          7.957483629998683,
          15.770143187187603,
          32.06172105653484,
          15.870935491982383,
          -17.526726109319615,
          -20.092437828604787,
          -54.73954253053127,
          -45.808467109344704,
          1.8718646831706527,
          -8.460448755085453,
          -0.30130550723477206,
          -17.665761065479032,
          -12.68567859321754
         ],
         "xaxis": "x",
         "y": [
          23.596933517725724,
          -8.432886482373226,
          6.103048991620079,
          9.134258395685968,
          5.248499602041265,
          -6.6247597657603565,
          3.675905337276674,
          2.1565958010060493,
          -4.066449013049155,
          -9.903113306281567,
          6.068407049126063,
          -0.6106960871333315,
          -7.983276699550483,
          1.3911711104844822,
          -3.835983933653059,
          -0.8669556887905732,
          -4.645848039211224,
          5.649927164123117,
          -14.122837434625344,
          -2.604742464074843,
          3.8639340453551747,
          -4.937209908814028,
          6.497151979703248,
          -11.9653969307586,
          -0.7833362660870224,
          -13.13337964380258,
          -10.731829249121942,
          -10.949460338956541,
          4.131796545710773,
          -7.172405509893138,
          -3.9528756982526283,
          0.1899811651626698,
          -5.072562915390805,
          15.337505088293021,
          0.7146645154925396,
          -7.917199080567139,
          -4.909857954327177,
          2.9289333661867487,
          -2.212572738672852,
          -2.2320151453744193,
          2.639554986610871,
          3.773918925730548,
          12.465732665007796,
          2.5274052076886333,
          -6.214596879544451,
          -9.125556729488808,
          -3.61046947876624,
          -2.1550468058642047,
          -17.404170308118594,
          -16.220510867207494,
          -16.415389503338414,
          -4.80810406620988,
          -1.8765298295981343,
          -5.785680737486789,
          0.6093762273450132,
          5.689627981309257,
          -10.487531547323476,
          -13.225015443670868,
          -13.6228272472351,
          -11.777074579259692,
          4.702265816401578,
          -0.9992172501914127,
          -6.464587673241194,
          -0.8964383077837336,
          -2.010531246656528,
          -6.50789746385878,
          -2.2892466207790525,
          -0.6832453708840176,
          -5.252218547834099,
          1.8323257661394878,
          -15.558102871722623,
          -19.487763412903735,
          -7.506949170319224,
          -12.691792731463032,
          2.005238100673619,
          15.471415849413836,
          -5.613583304042831,
          3.11862789219637,
          -7.896089492571162,
          -16.921944928072453,
          -13.63447814889075,
          -17.661728194175126,
          6.3846229900860205,
          -9.350677461868232,
          -15.756739161072613,
          -7.664174382761238,
          -8.616611289257216,
          -10.52958700288263,
          -19.48689894661737,
          -11.24654679386402,
          -4.239530883792577,
          -9.432124880787153,
          -3.4123323853644805,
          -13.525779731147892,
          -14.542646712583988,
          -3.158604100152225,
          -2.723044041421861,
          -14.453436090421022,
          -6.260478054983342,
          8.203738081084945,
          1.4625355223180092,
          -4.791312811698556,
          11.861023566539307,
          -9.997646514505213,
          -6.393808741453757,
          -6.245169144897156,
          -13.796596665198042,
          -24.973595463683882,
          25.798756290329944,
          0.3796494180194029,
          2.110144673315247,
          -17.771971508570786,
          7.787016868000694,
          -7.323538176257118,
          -3.6133882312978782,
          -4.819801693616446,
          -12.693268607571211,
          -3.7152850031381615,
          -13.058979531952746,
          6.93093021821038,
          0.3662496123402088,
          -10.569751234861071,
          -2.056272595857556,
          -4.144346040003325,
          -7.933773937228882,
          9.59690627792861,
          -3.6372297676064327,
          -12.098512913299356,
          10.807174471397733,
          1.1876305828820484,
          24.701071525542318,
          7.243696524935825,
          5.239435925714351,
          3.167471268521215,
          -1.3835247605642136,
          21.406939516935232,
          3.16154623496665,
          -1.8771096859346181,
          -19.54921121070062,
          -1.6174697992354703,
          19.37385316858199,
          -17.660478020684486,
          -3.638564565204305,
          -1.4317755337732607,
          6.314295877844986,
          8.53600584654878,
          13.82668621061358,
          -6.889362606987783,
          7.738658375944896,
          -1.0581490582953952,
          -2.478140626059002,
          2.886822452133952,
          -5.133205944896949,
          9.969554634523274,
          -3.9866056113540846,
          -24.19090604986468,
          48.81027226216448,
          -11.393274569285941,
          19.06264103075478,
          -8.819228762966077,
          11.153050591453086,
          12.76218170969584
         ],
         "yaxis": "y"
        },
        {
         "hovertemplate": "gmm_cluster=2.0<br>principal component1=%{x}<br>principal component2=%{y}<extra></extra>",
         "legendgroup": "2.0",
         "marker": {
          "color": "#ab63fa",
          "symbol": "circle"
         },
         "mode": "markers",
         "name": "2.0",
         "orientation": "v",
         "showlegend": true,
         "type": "scatter",
         "x": [
          2.959765668106227,
          -45.96571165670481,
          -33.3546854966084,
          -29.373766950127212,
          29.116939568221277,
          -35.27190892233041,
          -54.717373659745384,
          -14.535448426713714,
          -33.96687556014286,
          -15.893162917699682,
          -11.836525414744072,
          15.502826476640912,
          -61.042534229386064,
          -33.47002485597843,
          21.21347451047681,
          28.52455685397662,
          -6.148119768766872,
          -10.905393506371512,
          -13.675693889342112,
          19.73248924589023,
          -19.001301537811827,
          66.98844499972202,
          -2.1571829691779376,
          -14.874547033229659,
          -14.749025341847657,
          -15.987526076271344,
          -13.854005898013762,
          -24.553756532573324,
          -10.527508611922073,
          -47.03086356365344,
          -13.269175429469943,
          -1.8282063024834905,
          -11.606423162584049
         ],
         "xaxis": "x",
         "y": [
          7.201262552053068,
          -29.505312386281098,
          19.996677013916734,
          26.051601273806334,
          -6.743374790055856,
          39.01006601251258,
          43.92424200944188,
          -27.88091652227423,
          30.70346033468353,
          12.459098993183646,
          -10.31822589524915,
          24.581247352750932,
          -17.85107090321218,
          20.9703825231556,
          11.34299205477822,
          6.0039614143549525,
          -7.8199779634857105,
          60.28517666149575,
          6.488343931996835,
          10.61186785990706,
          -2.048247029841529,
          30.362794241872844,
          -26.174520974727496,
          -0.3460209502982953,
          10.410021506130947,
          14.365072964526913,
          -8.998427824414593,
          20.863934962386775,
          18.243849251607482,
          52.199237056762726,
          2.1143507780267536,
          4.617348855377675,
          -14.565538467507347
         ],
         "yaxis": "y"
        },
        {
         "hovertemplate": "gmm_cluster=nan<br>principal component1=%{x}<br>principal component2=%{y}<extra></extra>",
         "legendgroup": "nan",
         "marker": {
          "color": "#FFA15A",
          "symbol": "circle"
         },
         "mode": "markers",
         "name": "nan",
         "orientation": "v",
         "showlegend": true,
         "type": "scatter",
         "x": [
          -21.849009634759536
         ],
         "xaxis": "x",
         "y": [
          -0.4119910235100132
         ],
         "yaxis": "y"
        }
       ],
       "layout": {
        "autosize": true,
        "legend": {
         "title": {
          "text": "gmm_cluster"
         },
         "tracegroupgap": 0
        },
        "template": {
         "data": {
          "bar": [
           {
            "error_x": {
             "color": "#2a3f5f"
            },
            "error_y": {
             "color": "#2a3f5f"
            },
            "marker": {
             "line": {
              "color": "#E5ECF6",
              "width": 0.5
             },
             "pattern": {
              "fillmode": "overlay",
              "size": 10,
              "solidity": 0.2
             }
            },
            "type": "bar"
           }
          ],
          "barpolar": [
           {
            "marker": {
             "line": {
              "color": "#E5ECF6",
              "width": 0.5
             },
             "pattern": {
              "fillmode": "overlay",
              "size": 10,
              "solidity": 0.2
             }
            },
            "type": "barpolar"
           }
          ],
          "carpet": [
           {
            "aaxis": {
             "endlinecolor": "#2a3f5f",
             "gridcolor": "white",
             "linecolor": "white",
             "minorgridcolor": "white",
             "startlinecolor": "#2a3f5f"
            },
            "baxis": {
             "endlinecolor": "#2a3f5f",
             "gridcolor": "white",
             "linecolor": "white",
             "minorgridcolor": "white",
             "startlinecolor": "#2a3f5f"
            },
            "type": "carpet"
           }
          ],
          "choropleth": [
           {
            "colorbar": {
             "outlinewidth": 0,
             "ticks": ""
            },
            "type": "choropleth"
           }
          ],
          "contour": [
           {
            "colorbar": {
             "outlinewidth": 0,
             "ticks": ""
            },
            "colorscale": [
             [
              0,
              "#0d0887"
             ],
             [
              0.1111111111111111,
              "#46039f"
             ],
             [
              0.2222222222222222,
              "#7201a8"
             ],
             [
              0.3333333333333333,
              "#9c179e"
             ],
             [
              0.4444444444444444,
              "#bd3786"
             ],
             [
              0.5555555555555556,
              "#d8576b"
             ],
             [
              0.6666666666666666,
              "#ed7953"
             ],
             [
              0.7777777777777778,
              "#fb9f3a"
             ],
             [
              0.8888888888888888,
              "#fdca26"
             ],
             [
              1,
              "#f0f921"
             ]
            ],
            "type": "contour"
           }
          ],
          "contourcarpet": [
           {
            "colorbar": {
             "outlinewidth": 0,
             "ticks": ""
            },
            "type": "contourcarpet"
           }
          ],
          "heatmap": [
           {
            "colorbar": {
             "outlinewidth": 0,
             "ticks": ""
            },
            "colorscale": [
             [
              0,
              "#0d0887"
             ],
             [
              0.1111111111111111,
              "#46039f"
             ],
             [
              0.2222222222222222,
              "#7201a8"
             ],
             [
              0.3333333333333333,
              "#9c179e"
             ],
             [
              0.4444444444444444,
              "#bd3786"
             ],
             [
              0.5555555555555556,
              "#d8576b"
             ],
             [
              0.6666666666666666,
              "#ed7953"
             ],
             [
              0.7777777777777778,
              "#fb9f3a"
             ],
             [
              0.8888888888888888,
              "#fdca26"
             ],
             [
              1,
              "#f0f921"
             ]
            ],
            "type": "heatmap"
           }
          ],
          "heatmapgl": [
           {
            "colorbar": {
             "outlinewidth": 0,
             "ticks": ""
            },
            "colorscale": [
             [
              0,
              "#0d0887"
             ],
             [
              0.1111111111111111,
              "#46039f"
             ],
             [
              0.2222222222222222,
              "#7201a8"
             ],
             [
              0.3333333333333333,
              "#9c179e"
             ],
             [
              0.4444444444444444,
              "#bd3786"
             ],
             [
              0.5555555555555556,
              "#d8576b"
             ],
             [
              0.6666666666666666,
              "#ed7953"
             ],
             [
              0.7777777777777778,
              "#fb9f3a"
             ],
             [
              0.8888888888888888,
              "#fdca26"
             ],
             [
              1,
              "#f0f921"
             ]
            ],
            "type": "heatmapgl"
           }
          ],
          "histogram": [
           {
            "marker": {
             "pattern": {
              "fillmode": "overlay",
              "size": 10,
              "solidity": 0.2
             }
            },
            "type": "histogram"
           }
          ],
          "histogram2d": [
           {
            "colorbar": {
             "outlinewidth": 0,
             "ticks": ""
            },
            "colorscale": [
             [
              0,
              "#0d0887"
             ],
             [
              0.1111111111111111,
              "#46039f"
             ],
             [
              0.2222222222222222,
              "#7201a8"
             ],
             [
              0.3333333333333333,
              "#9c179e"
             ],
             [
              0.4444444444444444,
              "#bd3786"
             ],
             [
              0.5555555555555556,
              "#d8576b"
             ],
             [
              0.6666666666666666,
              "#ed7953"
             ],
             [
              0.7777777777777778,
              "#fb9f3a"
             ],
             [
              0.8888888888888888,
              "#fdca26"
             ],
             [
              1,
              "#f0f921"
             ]
            ],
            "type": "histogram2d"
           }
          ],
          "histogram2dcontour": [
           {
            "colorbar": {
             "outlinewidth": 0,
             "ticks": ""
            },
            "colorscale": [
             [
              0,
              "#0d0887"
             ],
             [
              0.1111111111111111,
              "#46039f"
             ],
             [
              0.2222222222222222,
              "#7201a8"
             ],
             [
              0.3333333333333333,
              "#9c179e"
             ],
             [
              0.4444444444444444,
              "#bd3786"
             ],
             [
              0.5555555555555556,
              "#d8576b"
             ],
             [
              0.6666666666666666,
              "#ed7953"
             ],
             [
              0.7777777777777778,
              "#fb9f3a"
             ],
             [
              0.8888888888888888,
              "#fdca26"
             ],
             [
              1,
              "#f0f921"
             ]
            ],
            "type": "histogram2dcontour"
           }
          ],
          "mesh3d": [
           {
            "colorbar": {
             "outlinewidth": 0,
             "ticks": ""
            },
            "type": "mesh3d"
           }
          ],
          "parcoords": [
           {
            "line": {
             "colorbar": {
              "outlinewidth": 0,
              "ticks": ""
             }
            },
            "type": "parcoords"
           }
          ],
          "pie": [
           {
            "automargin": true,
            "type": "pie"
           }
          ],
          "scatter": [
           {
            "marker": {
             "colorbar": {
              "outlinewidth": 0,
              "ticks": ""
             }
            },
            "type": "scatter"
           }
          ],
          "scatter3d": [
           {
            "line": {
             "colorbar": {
              "outlinewidth": 0,
              "ticks": ""
             }
            },
            "marker": {
             "colorbar": {
              "outlinewidth": 0,
              "ticks": ""
             }
            },
            "type": "scatter3d"
           }
          ],
          "scattercarpet": [
           {
            "marker": {
             "colorbar": {
              "outlinewidth": 0,
              "ticks": ""
             }
            },
            "type": "scattercarpet"
           }
          ],
          "scattergeo": [
           {
            "marker": {
             "colorbar": {
              "outlinewidth": 0,
              "ticks": ""
             }
            },
            "type": "scattergeo"
           }
          ],
          "scattergl": [
           {
            "marker": {
             "colorbar": {
              "outlinewidth": 0,
              "ticks": ""
             }
            },
            "type": "scattergl"
           }
          ],
          "scattermapbox": [
           {
            "marker": {
             "colorbar": {
              "outlinewidth": 0,
              "ticks": ""
             }
            },
            "type": "scattermapbox"
           }
          ],
          "scatterpolar": [
           {
            "marker": {
             "colorbar": {
              "outlinewidth": 0,
              "ticks": ""
             }
            },
            "type": "scatterpolar"
           }
          ],
          "scatterpolargl": [
           {
            "marker": {
             "colorbar": {
              "outlinewidth": 0,
              "ticks": ""
             }
            },
            "type": "scatterpolargl"
           }
          ],
          "scatterternary": [
           {
            "marker": {
             "colorbar": {
              "outlinewidth": 0,
              "ticks": ""
             }
            },
            "type": "scatterternary"
           }
          ],
          "surface": [
           {
            "colorbar": {
             "outlinewidth": 0,
             "ticks": ""
            },
            "colorscale": [
             [
              0,
              "#0d0887"
             ],
             [
              0.1111111111111111,
              "#46039f"
             ],
             [
              0.2222222222222222,
              "#7201a8"
             ],
             [
              0.3333333333333333,
              "#9c179e"
             ],
             [
              0.4444444444444444,
              "#bd3786"
             ],
             [
              0.5555555555555556,
              "#d8576b"
             ],
             [
              0.6666666666666666,
              "#ed7953"
             ],
             [
              0.7777777777777778,
              "#fb9f3a"
             ],
             [
              0.8888888888888888,
              "#fdca26"
             ],
             [
              1,
              "#f0f921"
             ]
            ],
            "type": "surface"
           }
          ],
          "table": [
           {
            "cells": {
             "fill": {
              "color": "#EBF0F8"
             },
             "line": {
              "color": "white"
             }
            },
            "header": {
             "fill": {
              "color": "#C8D4E3"
             },
             "line": {
              "color": "white"
             }
            },
            "type": "table"
           }
          ]
         },
         "layout": {
          "annotationdefaults": {
           "arrowcolor": "#2a3f5f",
           "arrowhead": 0,
           "arrowwidth": 1
          },
          "autotypenumbers": "strict",
          "coloraxis": {
           "colorbar": {
            "outlinewidth": 0,
            "ticks": ""
           }
          },
          "colorscale": {
           "diverging": [
            [
             0,
             "#8e0152"
            ],
            [
             0.1,
             "#c51b7d"
            ],
            [
             0.2,
             "#de77ae"
            ],
            [
             0.3,
             "#f1b6da"
            ],
            [
             0.4,
             "#fde0ef"
            ],
            [
             0.5,
             "#f7f7f7"
            ],
            [
             0.6,
             "#e6f5d0"
            ],
            [
             0.7,
             "#b8e186"
            ],
            [
             0.8,
             "#7fbc41"
            ],
            [
             0.9,
             "#4d9221"
            ],
            [
             1,
             "#276419"
            ]
           ],
           "sequential": [
            [
             0,
             "#0d0887"
            ],
            [
             0.1111111111111111,
             "#46039f"
            ],
            [
             0.2222222222222222,
             "#7201a8"
            ],
            [
             0.3333333333333333,
             "#9c179e"
            ],
            [
             0.4444444444444444,
             "#bd3786"
            ],
            [
             0.5555555555555556,
             "#d8576b"
            ],
            [
             0.6666666666666666,
             "#ed7953"
            ],
            [
             0.7777777777777778,
             "#fb9f3a"
            ],
            [
             0.8888888888888888,
             "#fdca26"
            ],
            [
             1,
             "#f0f921"
            ]
           ],
           "sequentialminus": [
            [
             0,
             "#0d0887"
            ],
            [
             0.1111111111111111,
             "#46039f"
            ],
            [
             0.2222222222222222,
             "#7201a8"
            ],
            [
             0.3333333333333333,
             "#9c179e"
            ],
            [
             0.4444444444444444,
             "#bd3786"
            ],
            [
             0.5555555555555556,
             "#d8576b"
            ],
            [
             0.6666666666666666,
             "#ed7953"
            ],
            [
             0.7777777777777778,
             "#fb9f3a"
            ],
            [
             0.8888888888888888,
             "#fdca26"
            ],
            [
             1,
             "#f0f921"
            ]
           ]
          },
          "colorway": [
           "#636efa",
           "#EF553B",
           "#00cc96",
           "#ab63fa",
           "#FFA15A",
           "#19d3f3",
           "#FF6692",
           "#B6E880",
           "#FF97FF",
           "#FECB52"
          ],
          "font": {
           "color": "#2a3f5f"
          },
          "geo": {
           "bgcolor": "white",
           "lakecolor": "white",
           "landcolor": "#E5ECF6",
           "showlakes": true,
           "showland": true,
           "subunitcolor": "white"
          },
          "hoverlabel": {
           "align": "left"
          },
          "hovermode": "closest",
          "mapbox": {
           "style": "light"
          },
          "paper_bgcolor": "white",
          "plot_bgcolor": "#E5ECF6",
          "polar": {
           "angularaxis": {
            "gridcolor": "white",
            "linecolor": "white",
            "ticks": ""
           },
           "bgcolor": "#E5ECF6",
           "radialaxis": {
            "gridcolor": "white",
            "linecolor": "white",
            "ticks": ""
           }
          },
          "scene": {
           "xaxis": {
            "backgroundcolor": "#E5ECF6",
            "gridcolor": "white",
            "gridwidth": 2,
            "linecolor": "white",
            "showbackground": true,
            "ticks": "",
            "zerolinecolor": "white"
           },
           "yaxis": {
            "backgroundcolor": "#E5ECF6",
            "gridcolor": "white",
            "gridwidth": 2,
            "linecolor": "white",
            "showbackground": true,
            "ticks": "",
            "zerolinecolor": "white"
           },
           "zaxis": {
            "backgroundcolor": "#E5ECF6",
            "gridcolor": "white",
            "gridwidth": 2,
            "linecolor": "white",
            "showbackground": true,
            "ticks": "",
            "zerolinecolor": "white"
           }
          },
          "shapedefaults": {
           "line": {
            "color": "#2a3f5f"
           }
          },
          "ternary": {
           "aaxis": {
            "gridcolor": "white",
            "linecolor": "white",
            "ticks": ""
           },
           "baxis": {
            "gridcolor": "white",
            "linecolor": "white",
            "ticks": ""
           },
           "bgcolor": "#E5ECF6",
           "caxis": {
            "gridcolor": "white",
            "linecolor": "white",
            "ticks": ""
           }
          },
          "title": {
           "x": 0.05
          },
          "xaxis": {
           "automargin": true,
           "gridcolor": "white",
           "linecolor": "white",
           "ticks": "",
           "title": {
            "standoff": 15
           },
           "zerolinecolor": "white",
           "zerolinewidth": 2
          },
          "yaxis": {
           "automargin": true,
           "gridcolor": "white",
           "linecolor": "white",
           "ticks": "",
           "title": {
            "standoff": 15
           },
           "zerolinecolor": "white",
           "zerolinewidth": 2
          }
         }
        },
        "title": {
         "text": "gmm Clustering"
        },
        "xaxis": {
         "anchor": "y",
         "autorange": true,
         "domain": [
          0,
          1
         ],
         "range": [
          -68.69536277830684,
          74.6412735486428
         ],
         "title": {
          "text": "principal component1"
         },
         "type": "linear"
        },
        "yaxis": {
         "anchor": "x",
         "autorange": true,
         "domain": [
          0,
          1
         ],
         "range": [
          -42.783830599604755,
          68.14245524193839
         ],
         "title": {
          "text": "principal component2"
         },
         "type": "linear"
        }
       }
      },
      "image/png": "[encoded data removed]",
      "text/html": [
       "<div>                            <div id=\"f7069487-cf1c-4d93-874d-d68a56941cab\" class=\"plotly-graph-div\" style=\"height:525px; width:100%;\"></div>            <script type=\"text/javascript\">                require([\"plotly\"], function(Plotly) {                    window.PLOTLYENV=window.PLOTLYENV || {};                                    if (document.getElementById(\"f7069487-cf1c-4d93-874d-d68a56941cab\")) {                    Plotly.newPlot(                        \"f7069487-cf1c-4d93-874d-d68a56941cab\",                        [{\"hovertemplate\":\"gmm_cluster=3.0<br>principal component1=%{x}<br>principal component2=%{y}<extra></extra>\",\"legendgroup\":\"3.0\",\"marker\":{\"color\":\"#636efa\",\"symbol\":\"circle\"},\"mode\":\"markers\",\"name\":\"3.0\",\"orientation\":\"v\",\"showlegend\":true,\"type\":\"scatter\",\"x\":[-4.803259471754662,8.119011751111133,-14.425948813992422,-4.007535543554241,-6.406660555792193,-0.5487383292221608,7.1847796038742455,6.386793479387733,-16.898989751627628,-23.882991615564844,-34.1142552505654,-11.77908389948483,-0.598875577703254,8.8454875978063,-14.739204045523193,-31.37720642035754,-12.587540368869135,-6.854571655118128,-20.941814011607832,-20.811352805061407,-18.55512450121915,-15.226719592383748,-3.4483547508837717,-16.142480204885317,-11.471481839992057,-4.478787789643554,-9.002198333909599,-4.398056953094583,-22.112944272903146,-20.36828850150083,-23.303524079601434,-17.43052086181717,-8.716575737656942,-24.97797643990638,-19.86131135583768,2.0927063602647116,-13.716336720408606,-15.089283962731258,-8.538229653067662,-10.29103333293435,-11.700049871235636,-1.9860244588032763,-12.236176316471782,-15.048372687645452,-8.933328935193648,2.125961982275974,4.055773410628098,-2.6302948504502,-5.594673848668061,8.84393781517564,-15.644219678772187,-6.793086253893221,-11.227938354785584,-12.699297939710943,-5.500244900643435,-8.632764516359027,-13.570360854275082,-20.25095681306298,-20.32274993207138,-10.597765285967752,-20.23836899219677,-21.187842043574896,-6.758575589061923,-28.604576020574083,-24.110718001782672,-19.415160183882385,-1.7177862395172676,-4.356653099168629,5.7266227588671885,1.0150357877276825,-9.760766868710965,-3.0558123450861245,-14.16292593384001,1.4460102854540504,-4.9183982175058185,-22.753844942431783,-22.363237619963552,-6.261218719357857,-4.691202689366917,-0.22543896119215223,-15.106230894445336,-11.357501360087857,-7.549836831474544,-16.941000513005964,-13.177286987073474,-18.276409167752664,-20.157938635982948,-11.230160593571002,0.5309625808081612,2.2275416670581176,-7.1253707669301365,-8.827568942637866,-15.101194076753929,-26.180515790859065,-16.520199099049762,-13.225271294672167,-10.508204190994508,-5.544408888452805,-17.489021482627557,-14.306000455292537,-19.77706283637088,-23.14682953113964,-22.17346157595722,-22.110653812283893,-3.3258518270597244,1.2341902038484007,-3.384399855868355,0.12295285938498024,-15.342134723367986,-5.977439174966383,-24.13783151857082,-17.252617364268062,-6.14754902599449,-12.185141081802401,27.256884776826894,23.432656233004565,-12.093966039353294,1.493196122905514,-11.205971877514544,-23.65160662227376,24.9874737091628,-55.85582814926439,-4.30350728331361,-15.241846335202627,37.13784554032356,-10.718859149875156,-21.439079456813722,-4.873090685168972,-7.158399539516247,-17.60525546042854,-3.942519073269945,-14.0546578759474,-1.7960334905375153,6.923613337738521,-3.7190349130183122,14.658019233745145,-18.764244452494182,-1.8782843984672104,-23.758525517308804,-10.591416555611454,12.93333790756416,3.5854278338029952,19.430063913383112,-9.024858279830973,-27.454522499378612,-3.2347342374613888,18.47505677687965,-26.69465359574118,1.4919572446970037,-16.147893458037554,8.99114209556981,18.808072413969008,-19.075769449290977,-14.520924032625535,-27.64984277800465,-12.829224647805813,4.016568381909252,-15.519136334072101,-18.318209457758375,-23.83853446530946,-34.185442838907385,-17.896352155594776,-6.7155287641781625,17.81875282714588,-29.122218856788663,10.453797167986764,-19.247664485608688,-8.538520645793024,-18.337733841866697,-16.796117016269154,-16.531063322611054,-24.162807015713167,19.720870759246846,2.6746155159851535,20.04351845318427,-53.17975982512734,10.502473073796732,5.167208470547539,7.636856128733815,15.84217001753686,-8.192028667238823,-6.942935410432965,-8.972186110619399,-11.524998436769074,null],\"xaxis\":\"x\",\"y\":[-5.414629448210176,-0.6928968154621429,-7.661018188488682,-1.2797789666616664,-10.2207648899401,-3.0295946607692414,0.42748793841863836,4.664660641485279,-12.033778517704688,-25.721340002176902,-34.344646067200415,-14.104007498338339,-10.767389802412492,3.618550252727906,-20.592103187131904,-5.323598105891144,1.3609709972370927,0.13698615914944304,7.030120949549085,-3.966162800886611,0.4014984914952871,-4.74155271250902,4.13731638156583,-3.4155638723536024,-15.39399975907647,-16.433590227004213,-20.368843202284662,-15.310989193739005,-8.852585735106167,-12.005525856468264,-22.7500158039062,1.4025368943357819,0.28723964316092154,4.614558403758167,3.5080058849225018,-7.618941673437426,-7.1230281455286395,-0.44614807202561524,-11.014506581186014,-10.012953232772945,-11.782000086862611,-11.37191449908887,-6.49076808699977,-5.607867714528209,-16.86528418453243,-2.344622210201784,6.579544568341835,-7.69032705713665,-3.5516345150560515,-4.358573488842126,-3.348721962116646,5.741460980741139,5.047861981675519,-9.661018117275683,4.87969062116531,9.861789184126499,6.849411318070771,7.051623911694891,-5.034389733522716,-8.438844327239401,-1.219970758993924,2.52617199858274,5.2624929371566465,-9.173472270090976,4.587963985304117,2.3190854074372123,-13.066880185328573,-11.037498520218351,-8.310548427084138,-13.450639605491824,-4.184351305473828,1.5339153997494615,-3.0468725527715157,-12.849537544582926,-10.643366916885562,0.12714264705997644,-5.013111589444513,0.5844976630794058,4.94292656943955,3.3152383682830417,0.8552398908033737,-2.9283669195583615,-13.417093737971513,1.7326196018166367,-17.4885962171117,8.346814587571336,0.5398690052229758,3.203904178150949,20.897867951966056,2.759275449067413,7.919036511694783,0.5222885045504556,0.12410964142970489,8.350240629447283,7.150331936739335,10.948681995065314,8.31610535590533,2.695049758732217,-1.2049295640686781,5.349723789480414,-0.9153223347034859,-6.052542774957128,-1.8244959726043855,10.903461855405036,5.3013197683426965,0.4236228507141027,-11.388398453646943,-4.602333321824751,7.23818585778217,4.335914626109163,-11.326997524633885,3.9801395942995192,-13.048668007883037,7.17502372282712,5.177237698706651,7.208900292340691,14.743147089140358,-9.32088242350146,-17.61035318802958,-4.75627227257847,3.0146982492700856,-34.926552019162116,-14.16471264517414,-17.82473332422055,-6.60006829804748,0.5471302369584543,-1.8921522391597143,-0.3964411882837232,2.52038171064383,-3.915322715313482,-6.857953116224326,1.5892206941115103,-13.608684027134998,-0.7287541204471591,-1.5487568847211726,-9.090943939807248,6.131209679678824,1.4757975844181486,4.9490570002012655,0.07901994280000729,5.233823668142065,11.01933667243741,8.831438854020703,6.003436938801443,-2.8751395132369426,-12.661136691802387,14.968986182189767,7.173453593422473,6.631597601378771,5.490055082546432,16.468338867354646,28.011120580762867,4.9838069316554305,-6.926721215268912,3.966503892726252,7.506982966877767,3.965517247013873,11.655795949566333,15.425814847832704,5.408369940643281,9.61067987354338,-2.5645243798710577,1.6392551637209583,16.6006386656005,7.823653192811622,-8.205599055820613,17.952783575292035,5.024717073715951,19.00554135345884,24.130822469058014,-0.6936525021744685,15.608278481256,29.969977597219057,57.38715098923679,-20.311986058141205,52.19445325424531,-14.128768604083632,26.56063293787792,6.568724332083917,5.818409734257941,4.583836686686614,5.715386247564749,-8.486532116942042,2.093690849998298,null],\"yaxis\":\"y\"},{\"hovertemplate\":\"gmm_cluster=0.0<br>principal component1=%{x}<br>principal component2=%{y}<extra></extra>\",\"legendgroup\":\"0.0\",\"marker\":{\"color\":\"#EF553B\",\"symbol\":\"circle\"},\"mode\":\"markers\",\"name\":\"0.0\",\"orientation\":\"v\",\"showlegend\":true,\"type\":\"scatter\",\"x\":[47.414728822356594,33.9337756081634,45.78811139776605,36.707346631600906,51.33083177542014,24.334434202510057,34.95658224090083,16.42899343759475,39.029780029262845,31.474222022771563,22.75568960573785,3.4469667303020617,15.427150093863082,20.70709003394705,44.79345416659415,24.378191377908717,11.003421004337495,8.875248010161828,16.463518770976666,-6.923484314376787,-5.831448145866652,23.74959584517977,1.0289723108143036,51.37675447164317,5.306438572032631,1.1640075610206988,22.389987690091523,1.584446288584093,25.36846352802086,19.4498654602206,14.336534951071515,44.2042349038911,47.06643047898451,31.7840287366467,-5.952032267486027,-24.034521935376983,21.273153806166736,0.40042258339843323,0.4935009935564126,14.368541551056481,-42.05553779700103,37.18915809219142,11.146119773552696],\"xaxis\":\"x\",\"y\":[18.111318474215388,12.91357453785792,0.522889245881921,-2.591886428666727,0.6666207358835313,-6.950349807039964,6.611139866166778,-5.387266284174944,0.6455982301892397,-5.2256865960591155,4.4198359745126705,-12.000581521397669,2.1548676918498115,-3.3647798117974035,-0.38668197921283914,-5.031244727463401,4.771674564922788,-5.085441317406293,1.5932122251824867,7.310606564170389,8.985690056885032,-9.531676790182688,-8.56461974732885,14.415678416816341,23.47867784057652,2.127132390957808,-5.355668100182683,4.327827174108704,23.268807066652997,5.055048815995817,-0.6817362846278869,2.041218036045913,6.8474419848609145,15.167325307658462,-4.081117391129608,3.6612941828550314,2.5551117431441654,-1.9753488811070548,13.080008309493667,9.76062813445587,14.283477525142692,-2.185606100348974,-7.524540334114975],\"yaxis\":\"y\"},{\"hovertemplate\":\"gmm_cluster=1.0<br>principal component1=%{x}<br>principal component2=%{y}<extra></extra>\",\"legendgroup\":\"1.0\",\"marker\":{\"color\":\"#00cc96\",\"symbol\":\"circle\"},\"mode\":\"markers\",\"name\":\"1.0\",\"orientation\":\"v\",\"showlegend\":true,\"type\":\"scatter\",\"x\":[10.059205556757279,-6.026018913867234,46.83676083627733,40.31519364796137,45.20699570881309,29.934573049225342,37.32834011384567,16.482386066878064,14.744890789146769,13.300523964927294,32.36960379346132,26.1339544205066,26.888886771016466,21.043607881446725,25.39599997492949,18.337531571565936,31.174686368945935,9.813570482506169,6.259907796530914,11.857213812716775,37.09904509555631,11.519633898281569,-2.9916193193001144,13.666428961282168,35.5878902783132,10.43302079203488,33.60916690048854,1.8921450441359973,23.245766328216245,11.101303367411047,11.653649754772264,23.185528145297106,2.3839527682227417,13.926226701357695,9.36634176999158,13.752090760201574,29.134346180491598,37.95829249096595,10.87090549727707,3.5425771918788227,3.5351899399377746,16.153125169178065,17.418156076869206,7.146651744221516,4.046856913000043,22.419444626540717,9.145640745203377,22.840008098009886,6.17067358547475,-4.789253127854353,3.640598747669342,14.171719874465941,15.558206201270051,13.09905176476678,-0.8783736763291373,3.2262590940615246,14.494473513136288,-10.773516400055794,-0.33541323902537523,-5.65505837072499,4.324712128850477,9.925355474975728,1.611402028039537,19.780387569548058,23.69470434843069,7.256984801574431,12.033613458615367,2.9364569291065763,0.7780231883426666,22.424425407013892,-2.360067077508265,2.1867649424485993,-11.773073670539999,-9.063924974569229,6.680200388043288,30.983941148469814,14.564034290660787,12.986005090758226,3.4306034657690905,12.510637614618341,4.0799282804762464,3.675199967520766,-4.500750788507606,-6.27223544047209,0.2551873194648942,24.960939467296477,20.617897107293135,29.737683260895267,-0.3295253188387166,-0.5741563656345351,-0.30751718193837496,4.04005887052488,20.954811425433785,-11.110863381595573,-8.46624290138924,23.23481468602044,-1.0679720657637366,-14.673329452084825,15.773285915909133,43.66356763422477,2.891193208562431,10.806196077355597,14.053433678734956,26.504378071072995,14.051403990828229,-3.234272871610405,2.8656080232352283,-0.6825237711373996,18.230988904597613,9.737046290530552,8.084723366547994,-7.9666273387603885,14.505976425149846,8.987245750984199,14.273884558715066,9.697154173426048,-41.4050434520658,-3.016205649168774,-10.479949957285395,24.28168430716973,25.13290910778636,-2.4296779161199056,-24.947761757074964,30.40892307491268,-12.655828262476764,42.49648406900332,20.92006422370923,0.4742643189142235,-22.50605286110662,8.630738572671317,32.675524220268315,-10.851389533011718,-12.71573490707199,-4.006097357206043,-34.19082461336567,17.389951906099597,-0.03151918891699947,-14.093499414585786,11.317961619020425,-9.975599130293467,13.565622679636395,25.324180300376582,-28.553611554854363,8.012879104619547,-14.21971972282707,-4.361263279589239,-20.528237193836517,21.99636190492321,-11.764324303467,7.957483629998683,15.770143187187603,32.06172105653484,15.870935491982383,-17.526726109319615,-20.092437828604787,-54.73954253053127,-45.808467109344704,1.8718646831706527,-8.460448755085453,-0.30130550723477206,-17.665761065479032,-12.68567859321754],\"xaxis\":\"x\",\"y\":[23.596933517725724,-8.432886482373226,6.103048991620079,9.134258395685968,5.248499602041265,-6.6247597657603565,3.675905337276674,2.1565958010060493,-4.066449013049155,-9.903113306281567,6.068407049126063,-0.6106960871333315,-7.983276699550483,1.3911711104844822,-3.835983933653059,-0.8669556887905732,-4.645848039211224,5.649927164123117,-14.122837434625344,-2.604742464074843,3.8639340453551747,-4.937209908814028,6.497151979703248,-11.9653969307586,-0.7833362660870224,-13.13337964380258,-10.731829249121942,-10.949460338956541,4.131796545710773,-7.172405509893138,-3.9528756982526283,0.1899811651626698,-5.072562915390805,15.337505088293021,0.7146645154925396,-7.917199080567139,-4.909857954327177,2.9289333661867487,-2.212572738672852,-2.2320151453744193,2.639554986610871,3.773918925730548,12.465732665007796,2.5274052076886333,-6.214596879544451,-9.125556729488808,-3.61046947876624,-2.1550468058642047,-17.404170308118594,-16.220510867207494,-16.415389503338414,-4.80810406620988,-1.8765298295981343,-5.785680737486789,0.6093762273450132,5.689627981309257,-10.487531547323476,-13.225015443670868,-13.6228272472351,-11.777074579259692,4.702265816401578,-0.9992172501914127,-6.464587673241194,-0.8964383077837336,-2.010531246656528,-6.50789746385878,-2.2892466207790525,-0.6832453708840176,-5.252218547834099,1.8323257661394878,-15.558102871722623,-19.487763412903735,-7.506949170319224,-12.691792731463032,2.005238100673619,15.471415849413836,-5.613583304042831,3.11862789219637,-7.896089492571162,-16.921944928072453,-13.63447814889075,-17.661728194175126,6.3846229900860205,-9.350677461868232,-15.756739161072613,-7.664174382761238,-8.616611289257216,-10.52958700288263,-19.48689894661737,-11.24654679386402,-4.239530883792577,-9.432124880787153,-3.4123323853644805,-13.525779731147892,-14.542646712583988,-3.158604100152225,-2.723044041421861,-14.453436090421022,-6.260478054983342,8.203738081084945,1.4625355223180092,-4.791312811698556,11.861023566539307,-9.997646514505213,-6.393808741453757,-6.245169144897156,-13.796596665198042,-24.973595463683882,25.798756290329944,0.3796494180194029,2.110144673315247,-17.771971508570786,7.787016868000694,-7.323538176257118,-3.6133882312978782,-4.819801693616446,-12.693268607571211,-3.7152850031381615,-13.058979531952746,6.93093021821038,0.3662496123402088,-10.569751234861071,-2.056272595857556,-4.144346040003325,-7.933773937228882,9.59690627792861,-3.6372297676064327,-12.098512913299356,10.807174471397733,1.1876305828820484,24.701071525542318,7.243696524935825,5.239435925714351,3.167471268521215,-1.3835247605642136,21.406939516935232,3.16154623496665,-1.8771096859346181,-19.54921121070062,-1.6174697992354703,19.37385316858199,-17.660478020684486,-3.638564565204305,-1.4317755337732607,6.314295877844986,8.53600584654878,13.82668621061358,-6.889362606987783,7.738658375944896,-1.0581490582953952,-2.478140626059002,2.886822452133952,-5.133205944896949,9.969554634523274,-3.9866056113540846,-24.19090604986468,48.81027226216448,-11.393274569285941,19.06264103075478,-8.819228762966077,11.153050591453086,12.76218170969584],\"yaxis\":\"y\"},{\"hovertemplate\":\"gmm_cluster=2.0<br>principal component1=%{x}<br>principal component2=%{y}<extra></extra>\",\"legendgroup\":\"2.0\",\"marker\":{\"color\":\"#ab63fa\",\"symbol\":\"circle\"},\"mode\":\"markers\",\"name\":\"2.0\",\"orientation\":\"v\",\"showlegend\":true,\"type\":\"scatter\",\"x\":[2.959765668106227,-45.96571165670481,-33.3546854966084,-29.373766950127212,29.116939568221277,-35.27190892233041,-54.717373659745384,-14.535448426713714,-33.96687556014286,-15.893162917699682,-11.836525414744072,15.502826476640912,-61.042534229386064,-33.47002485597843,21.21347451047681,28.52455685397662,-6.148119768766872,-10.905393506371512,-13.675693889342112,19.73248924589023,-19.001301537811827,66.98844499972202,-2.1571829691779376,-14.874547033229659,-14.749025341847657,-15.987526076271344,-13.854005898013762,-24.553756532573324,-10.527508611922073,-47.03086356365344,-13.269175429469943,-1.8282063024834905,-11.606423162584049],\"xaxis\":\"x\",\"y\":[7.201262552053068,-29.505312386281098,19.996677013916734,26.051601273806334,-6.743374790055856,39.01006601251258,43.92424200944188,-27.88091652227423,30.70346033468353,12.459098993183646,-10.31822589524915,24.581247352750932,-17.85107090321218,20.9703825231556,11.34299205477822,6.0039614143549525,-7.8199779634857105,60.28517666149575,6.488343931996835,10.61186785990706,-2.048247029841529,30.362794241872844,-26.174520974727496,-0.3460209502982953,10.410021506130947,14.365072964526913,-8.998427824414593,20.863934962386775,18.243849251607482,52.199237056762726,2.1143507780267536,4.617348855377675,-14.565538467507347],\"yaxis\":\"y\"},{\"hovertemplate\":\"gmm_cluster=nan<br>principal component1=%{x}<br>principal component2=%{y}<extra></extra>\",\"legendgroup\":\"nan\",\"marker\":{\"color\":\"#FFA15A\",\"symbol\":\"circle\"},\"mode\":\"markers\",\"name\":\"nan\",\"orientation\":\"v\",\"showlegend\":true,\"type\":\"scatter\",\"x\":[-21.849009634759536],\"xaxis\":\"x\",\"y\":[-0.4119910235100132],\"yaxis\":\"y\"}],                        {\"legend\":{\"title\":{\"text\":\"gmm_cluster\"},\"tracegroupgap\":0},\"template\":{\"data\":{\"bar\":[{\"error_x\":{\"color\":\"#2a3f5f\"},\"error_y\":{\"color\":\"#2a3f5f\"},\"marker\":{\"line\":{\"color\":\"#E5ECF6\",\"width\":0.5},\"pattern\":{\"fillmode\":\"overlay\",\"size\":10,\"solidity\":0.2}},\"type\":\"bar\"}],\"barpolar\":[{\"marker\":{\"line\":{\"color\":\"#E5ECF6\",\"width\":0.5},\"pattern\":{\"fillmode\":\"overlay\",\"size\":10,\"solidity\":0.2}},\"type\":\"barpolar\"}],\"carpet\":[{\"aaxis\":{\"endlinecolor\":\"#2a3f5f\",\"gridcolor\":\"white\",\"linecolor\":\"white\",\"minorgridcolor\":\"white\",\"startlinecolor\":\"#2a3f5f\"},\"baxis\":{\"endlinecolor\":\"#2a3f5f\",\"gridcolor\":\"white\",\"linecolor\":\"white\",\"minorgridcolor\":\"white\",\"startlinecolor\":\"#2a3f5f\"},\"type\":\"carpet\"}],\"choropleth\":[{\"colorbar\":{\"outlinewidth\":0,\"ticks\":\"\"},\"type\":\"choropleth\"}],\"contour\":[{\"colorbar\":{\"outlinewidth\":0,\"ticks\":\"\"},\"colorscale\":[[0.0,\"#0d0887\"],[0.1111111111111111,\"#46039f\"],[0.2222222222222222,\"#7201a8\"],[0.3333333333333333,\"#9c179e\"],[0.4444444444444444,\"#bd3786\"],[0.5555555555555556,\"#d8576b\"],[0.6666666666666666,\"#ed7953\"],[0.7777777777777778,\"#fb9f3a\"],[0.8888888888888888,\"#fdca26\"],[1.0,\"#f0f921\"]],\"type\":\"contour\"}],\"contourcarpet\":[{\"colorbar\":{\"outlinewidth\":0,\"ticks\":\"\"},\"type\":\"contourcarpet\"}],\"heatmap\":[{\"colorbar\":{\"outlinewidth\":0,\"ticks\":\"\"},\"colorscale\":[[0.0,\"#0d0887\"],[0.1111111111111111,\"#46039f\"],[0.2222222222222222,\"#7201a8\"],[0.3333333333333333,\"#9c179e\"],[0.4444444444444444,\"#bd3786\"],[0.5555555555555556,\"#d8576b\"],[0.6666666666666666,\"#ed7953\"],[0.7777777777777778,\"#fb9f3a\"],[0.8888888888888888,\"#fdca26\"],[1.0,\"#f0f921\"]],\"type\":\"heatmap\"}],\"heatmapgl\":[{\"colorbar\":{\"outlinewidth\":0,\"ticks\":\"\"},\"colorscale\":[[0.0,\"#0d0887\"],[0.1111111111111111,\"#46039f\"],[0.2222222222222222,\"#7201a8\"],[0.3333333333333333,\"#9c179e\"],[0.4444444444444444,\"#bd3786\"],[0.5555555555555556,\"#d8576b\"],[0.6666666666666666,\"#ed7953\"],[0.7777777777777778,\"#fb9f3a\"],[0.8888888888888888,\"#fdca26\"],[1.0,\"#f0f921\"]],\"type\":\"heatmapgl\"}],\"histogram\":[{\"marker\":{\"pattern\":{\"fillmode\":\"overlay\",\"size\":10,\"solidity\":0.2}},\"type\":\"histogram\"}],\"histogram2d\":[{\"colorbar\":{\"outlinewidth\":0,\"ticks\":\"\"},\"colorscale\":[[0.0,\"#0d0887\"],[0.1111111111111111,\"#46039f\"],[0.2222222222222222,\"#7201a8\"],[0.3333333333333333,\"#9c179e\"],[0.4444444444444444,\"#bd3786\"],[0.5555555555555556,\"#d8576b\"],[0.6666666666666666,\"#ed7953\"],[0.7777777777777778,\"#fb9f3a\"],[0.8888888888888888,\"#fdca26\"],[1.0,\"#f0f921\"]],\"type\":\"histogram2d\"}],\"histogram2dcontour\":[{\"colorbar\":{\"outlinewidth\":0,\"ticks\":\"\"},\"colorscale\":[[0.0,\"#0d0887\"],[0.1111111111111111,\"#46039f\"],[0.2222222222222222,\"#7201a8\"],[0.3333333333333333,\"#9c179e\"],[0.4444444444444444,\"#bd3786\"],[0.5555555555555556,\"#d8576b\"],[0.6666666666666666,\"#ed7953\"],[0.7777777777777778,\"#fb9f3a\"],[0.8888888888888888,\"#fdca26\"],[1.0,\"#f0f921\"]],\"type\":\"histogram2dcontour\"}],\"mesh3d\":[{\"colorbar\":{\"outlinewidth\":0,\"ticks\":\"\"},\"type\":\"mesh3d\"}],\"parcoords\":[{\"line\":{\"colorbar\":{\"outlinewidth\":0,\"ticks\":\"\"}},\"type\":\"parcoords\"}],\"pie\":[{\"automargin\":true,\"type\":\"pie\"}],\"scatter\":[{\"marker\":{\"colorbar\":{\"outlinewidth\":0,\"ticks\":\"\"}},\"type\":\"scatter\"}],\"scatter3d\":[{\"line\":{\"colorbar\":{\"outlinewidth\":0,\"ticks\":\"\"}},\"marker\":{\"colorbar\":{\"outlinewidth\":0,\"ticks\":\"\"}},\"type\":\"scatter3d\"}],\"scattercarpet\":[{\"marker\":{\"colorbar\":{\"outlinewidth\":0,\"ticks\":\"\"}},\"type\":\"scattercarpet\"}],\"scattergeo\":[{\"marker\":{\"colorbar\":{\"outlinewidth\":0,\"ticks\":\"\"}},\"type\":\"scattergeo\"}],\"scattergl\":[{\"marker\":{\"colorbar\":{\"outlinewidth\":0,\"ticks\":\"\"}},\"type\":\"scattergl\"}],\"scattermapbox\":[{\"marker\":{\"colorbar\":{\"outlinewidth\":0,\"ticks\":\"\"}},\"type\":\"scattermapbox\"}],\"scatterpolar\":[{\"marker\":{\"colorbar\":{\"outlinewidth\":0,\"ticks\":\"\"}},\"type\":\"scatterpolar\"}],\"scatterpolargl\":[{\"marker\":{\"colorbar\":{\"outlinewidth\":0,\"ticks\":\"\"}},\"type\":\"scatterpolargl\"}],\"scatterternary\":[{\"marker\":{\"colorbar\":{\"outlinewidth\":0,\"ticks\":\"\"}},\"type\":\"scatterternary\"}],\"surface\":[{\"colorbar\":{\"outlinewidth\":0,\"ticks\":\"\"},\"colorscale\":[[0.0,\"#0d0887\"],[0.1111111111111111,\"#46039f\"],[0.2222222222222222,\"#7201a8\"],[0.3333333333333333,\"#9c179e\"],[0.4444444444444444,\"#bd3786\"],[0.5555555555555556,\"#d8576b\"],[0.6666666666666666,\"#ed7953\"],[0.7777777777777778,\"#fb9f3a\"],[0.8888888888888888,\"#fdca26\"],[1.0,\"#f0f921\"]],\"type\":\"surface\"}],\"table\":[{\"cells\":{\"fill\":{\"color\":\"#EBF0F8\"},\"line\":{\"color\":\"white\"}},\"header\":{\"fill\":{\"color\":\"#C8D4E3\"},\"line\":{\"color\":\"white\"}},\"type\":\"table\"}]},\"layout\":{\"annotationdefaults\":{\"arrowcolor\":\"#2a3f5f\",\"arrowhead\":0,\"arrowwidth\":1},\"autotypenumbers\":\"strict\",\"coloraxis\":{\"colorbar\":{\"outlinewidth\":0,\"ticks\":\"\"}},\"colorscale\":{\"diverging\":[[0,\"#8e0152\"],[0.1,\"#c51b7d\"],[0.2,\"#de77ae\"],[0.3,\"#f1b6da\"],[0.4,\"#fde0ef\"],[0.5,\"#f7f7f7\"],[0.6,\"#e6f5d0\"],[0.7,\"#b8e186\"],[0.8,\"#7fbc41\"],[0.9,\"#4d9221\"],[1,\"#276419\"]],\"sequential\":[[0.0,\"#0d0887\"],[0.1111111111111111,\"#46039f\"],[0.2222222222222222,\"#7201a8\"],[0.3333333333333333,\"#9c179e\"],[0.4444444444444444,\"#bd3786\"],[0.5555555555555556,\"#d8576b\"],[0.6666666666666666,\"#ed7953\"],[0.7777777777777778,\"#fb9f3a\"],[0.8888888888888888,\"#fdca26\"],[1.0,\"#f0f921\"]],\"sequentialminus\":[[0.0,\"#0d0887\"],[0.1111111111111111,\"#46039f\"],[0.2222222222222222,\"#7201a8\"],[0.3333333333333333,\"#9c179e\"],[0.4444444444444444,\"#bd3786\"],[0.5555555555555556,\"#d8576b\"],[0.6666666666666666,\"#ed7953\"],[0.7777777777777778,\"#fb9f3a\"],[0.8888888888888888,\"#fdca26\"],[1.0,\"#f0f921\"]]},\"colorway\":[\"#636efa\",\"#EF553B\",\"#00cc96\",\"#ab63fa\",\"#FFA15A\",\"#19d3f3\",\"#FF6692\",\"#B6E880\",\"#FF97FF\",\"#FECB52\"],\"font\":{\"color\":\"#2a3f5f\"},\"geo\":{\"bgcolor\":\"white\",\"lakecolor\":\"white\",\"landcolor\":\"#E5ECF6\",\"showlakes\":true,\"showland\":true,\"subunitcolor\":\"white\"},\"hoverlabel\":{\"align\":\"left\"},\"hovermode\":\"closest\",\"mapbox\":{\"style\":\"light\"},\"paper_bgcolor\":\"white\",\"plot_bgcolor\":\"#E5ECF6\",\"polar\":{\"angularaxis\":{\"gridcolor\":\"white\",\"linecolor\":\"white\",\"ticks\":\"\"},\"bgcolor\":\"#E5ECF6\",\"radialaxis\":{\"gridcolor\":\"white\",\"linecolor\":\"white\",\"ticks\":\"\"}},\"scene\":{\"xaxis\":{\"backgroundcolor\":\"#E5ECF6\",\"gridcolor\":\"white\",\"gridwidth\":2,\"linecolor\":\"white\",\"showbackground\":true,\"ticks\":\"\",\"zerolinecolor\":\"white\"},\"yaxis\":{\"backgroundcolor\":\"#E5ECF6\",\"gridcolor\":\"white\",\"gridwidth\":2,\"linecolor\":\"white\",\"showbackground\":true,\"ticks\":\"\",\"zerolinecolor\":\"white\"},\"zaxis\":{\"backgroundcolor\":\"#E5ECF6\",\"gridcolor\":\"white\",\"gridwidth\":2,\"linecolor\":\"white\",\"showbackground\":true,\"ticks\":\"\",\"zerolinecolor\":\"white\"}},\"shapedefaults\":{\"line\":{\"color\":\"#2a3f5f\"}},\"ternary\":{\"aaxis\":{\"gridcolor\":\"white\",\"linecolor\":\"white\",\"ticks\":\"\"},\"baxis\":{\"gridcolor\":\"white\",\"linecolor\":\"white\",\"ticks\":\"\"},\"bgcolor\":\"#E5ECF6\",\"caxis\":{\"gridcolor\":\"white\",\"linecolor\":\"white\",\"ticks\":\"\"}},\"title\":{\"x\":0.05},\"xaxis\":{\"automargin\":true,\"gridcolor\":\"white\",\"linecolor\":\"white\",\"ticks\":\"\",\"title\":{\"standoff\":15},\"zerolinecolor\":\"white\",\"zerolinewidth\":2},\"yaxis\":{\"automargin\":true,\"gridcolor\":\"white\",\"linecolor\":\"white\",\"ticks\":\"\",\"title\":{\"standoff\":15},\"zerolinecolor\":\"white\",\"zerolinewidth\":2}}},\"title\":{\"text\":\"gmm Clustering\"},\"xaxis\":{\"anchor\":\"y\",\"domain\":[0.0,1.0],\"title\":{\"text\":\"principal component1\"}},\"yaxis\":{\"anchor\":\"x\",\"domain\":[0.0,1.0],\"title\":{\"text\":\"principal component2\"}}},                        {\"responsive\": true}                    ).then(function(){\n",
       "                            \n",
       "var gd = document.getElementById('f7069487-cf1c-4d93-874d-d68a56941cab');\n",
       "var x = new MutationObserver(function (mutations, observer) {{\n",
       "        var display = window.getComputedStyle(gd).display;\n",
       "        if (!display || display === 'none') {{\n",
       "            console.log([gd, 'removed!']);\n",
       "            Plotly.purge(gd);\n",
       "            observer.disconnect();\n",
       "        }}\n",
       "}});\n",
       "\n",
       "// Listen for the removal of the full notebook cells\n",
       "var notebookContainer = gd.closest('#notebook-container');\n",
       "if (notebookContainer) {{\n",
       "    x.observe(notebookContainer, {childList: true});\n",
       "}}\n",
       "\n",
       "// Listen for the clearing of the current output cell\n",
       "var outputEl = gd.closest('.output');\n",
       "if (outputEl) {{\n",
       "    x.observe(outputEl, {childList: true});\n",
       "}}\n",
       "\n",
       "                        })                };                });            </script>        </div>"
      ]
     },
     "metadata": {},
     "output_type": "display_data"
    }
   ],
   "source": [
    "import plotly.express as px\n",
    "fig = px.scatter(df1_plot_final, x=\"principal component1\", y=\"principal component2\",\n",
    "                 color=\"gmm_cluster\", # Species 열의 값에 따라서 색깔 표현\n",
    "                 title='gmm Clustering' # 그래프 타이틀 지정\n",
    "                )\n",
    "fig.show()"
   ]
  },
  {
   "cell_type": "code",
   "execution_count": 23,
   "id": "13355c05-eae6-4eca-9928-c063857151f9",
   "metadata": {},
   "outputs": [
    {
     "name": "stderr",
     "output_type": "stream",
     "text": [
      "c:\\programdata\\miniconda3\\lib\\site-packages\\matplotlib\\backends\\backend_agg.py:238: RuntimeWarning:\n",
      "\n",
      "Glyph 8722 missing from current font.\n",
      "\n",
      "c:\\programdata\\miniconda3\\lib\\site-packages\\matplotlib\\backends\\backend_agg.py:201: RuntimeWarning:\n",
      "\n",
      "Glyph 8722 missing from current font.\n",
      "\n"
     ]
    },
    {
     "data": {
      "text/plain": [
       "Text(0.5, 1.0, 'GMM')"
      ]
     },
     "execution_count": 23,
     "metadata": {},
     "output_type": "execute_result"
    },
    {
     "data": {
      "image/png": "[encoded data removed]",
      "text/plain": [
       "<Figure size 1505.88x720 with 1 Axes>"
      ]
     },
     "metadata": {
      "needs_background": "light"
     },
     "output_type": "display_data"
    }
   ],
   "source": [
    "sns.relplot(data=df1_plot_final, x='principal component1', y='principal component2', hue='gmm_cluster', palette='tab10',s=200, kind='scatter',height=10, aspect=2)\n",
    "plt.title('GMM')"
   ]
  },
  {
   "cell_type": "markdown",
   "id": "f35d6a43-2b2d-41cb-ba5a-e6299abe18d5",
   "metadata": {},
   "source": [
    "## 타켓 클러스터 (cluster 0)"
   ]
  },
  {
   "cell_type": "code",
   "execution_count": 24,
   "id": "fb04f81a-2ca0-407f-add1-7e56f52ad8bd",
   "metadata": {},
   "outputs": [],
   "source": [
    "data_a_target = data_a[['과거대비인구변화(%)','최근인구변화(연속감소년수)','과거대비사업체변화(%)','최근사업체변화(연속감소년수)','노후건축물비율(%)', '노인인구비율', \n",
    "                  '기초생활 대상자 비율','행정동코드']] #타겟 클러스터 저장할 정보 저장(cluster 정보 제외)"
   ]
  },
  {
   "cell_type": "code",
   "execution_count": 25,
   "id": "5f7197ef-3aa6-4a62-b810-fe07dc505d92",
   "metadata": {},
   "outputs": [
    {
     "data": {
      "text/html": [
       "<div>\n",
       "<style scoped>\n",
       "    .dataframe tbody tr th:only-of-type {\n",
       "        vertical-align: middle;\n",
       "    }\n",
       "\n",
       "    .dataframe tbody tr th {\n",
       "        vertical-align: top;\n",
       "    }\n",
       "\n",
       "    .dataframe thead th {\n",
       "        text-align: right;\n",
       "    }\n",
       "</style>\n",
       "<table border=\"1\" class=\"dataframe\">\n",
       "  <thead>\n",
       "    <tr style=\"text-align: right;\">\n",
       "      <th></th>\n",
       "      <th>과거대비인구변화(%)</th>\n",
       "      <th>최근인구변화(연속감소년수)</th>\n",
       "      <th>과거대비사업체변화(%)</th>\n",
       "      <th>최근사업체변화(연속감소년수)</th>\n",
       "      <th>노후건축물비율(%)</th>\n",
       "      <th>노인인구비율</th>\n",
       "      <th>기초생활 대상자 비율</th>\n",
       "      <th>행정동코드</th>\n",
       "    </tr>\n",
       "  </thead>\n",
       "  <tbody>\n",
       "    <tr>\n",
       "      <th>1</th>\n",
       "      <td>-71.395349</td>\n",
       "      <td>3</td>\n",
       "      <td>-2.691790</td>\n",
       "      <td>1</td>\n",
       "      <td>77.192982</td>\n",
       "      <td>0.231695</td>\n",
       "      <td>0.014094</td>\n",
       "      <td>1111054000</td>\n",
       "    </tr>\n",
       "    <tr>\n",
       "      <th>6</th>\n",
       "      <td>-57.091410</td>\n",
       "      <td>5</td>\n",
       "      <td>-0.800000</td>\n",
       "      <td>1</td>\n",
       "      <td>75.487013</td>\n",
       "      <td>0.212087</td>\n",
       "      <td>0.015844</td>\n",
       "      <td>1111060000</td>\n",
       "    </tr>\n",
       "    <tr>\n",
       "      <th>10</th>\n",
       "      <td>-60.099208</td>\n",
       "      <td>5</td>\n",
       "      <td>-9.995818</td>\n",
       "      <td>2</td>\n",
       "      <td>91.774383</td>\n",
       "      <td>0.212609</td>\n",
       "      <td>0.076123</td>\n",
       "      <td>1111067000</td>\n",
       "    </tr>\n",
       "    <tr>\n",
       "      <th>18</th>\n",
       "      <td>-49.221646</td>\n",
       "      <td>2</td>\n",
       "      <td>-16.137566</td>\n",
       "      <td>4</td>\n",
       "      <td>90.170512</td>\n",
       "      <td>0.269585</td>\n",
       "      <td>0.085114</td>\n",
       "      <td>1114054000</td>\n",
       "    </tr>\n",
       "    <tr>\n",
       "      <th>23</th>\n",
       "      <td>-64.764320</td>\n",
       "      <td>2</td>\n",
       "      <td>-12.184664</td>\n",
       "      <td>4</td>\n",
       "      <td>94.223827</td>\n",
       "      <td>0.266904</td>\n",
       "      <td>0.065074</td>\n",
       "      <td>1114060500</td>\n",
       "    </tr>\n",
       "    <tr>\n",
       "      <th>34</th>\n",
       "      <td>-37.757063</td>\n",
       "      <td>5</td>\n",
       "      <td>-7.171776</td>\n",
       "      <td>1</td>\n",
       "      <td>88.413098</td>\n",
       "      <td>0.202316</td>\n",
       "      <td>0.155865</td>\n",
       "      <td>1117053000</td>\n",
       "    </tr>\n",
       "    <tr>\n",
       "      <th>41</th>\n",
       "      <td>-53.217680</td>\n",
       "      <td>4</td>\n",
       "      <td>-10.040706</td>\n",
       "      <td>1</td>\n",
       "      <td>81.346841</td>\n",
       "      <td>0.177490</td>\n",
       "      <td>0.026216</td>\n",
       "      <td>1117066000</td>\n",
       "    </tr>\n",
       "    <tr>\n",
       "      <th>57</th>\n",
       "      <td>-35.618795</td>\n",
       "      <td>5</td>\n",
       "      <td>14.190317</td>\n",
       "      <td>0</td>\n",
       "      <td>83.822297</td>\n",
       "      <td>0.140268</td>\n",
       "      <td>0.019581</td>\n",
       "      <td>1120066000</td>\n",
       "    </tr>\n",
       "    <tr>\n",
       "      <th>61</th>\n",
       "      <td>-53.598114</td>\n",
       "      <td>5</td>\n",
       "      <td>-12.265084</td>\n",
       "      <td>2</td>\n",
       "      <td>88.451160</td>\n",
       "      <td>0.168500</td>\n",
       "      <td>0.067353</td>\n",
       "      <td>1120079000</td>\n",
       "    </tr>\n",
       "    <tr>\n",
       "      <th>91</th>\n",
       "      <td>-42.260503</td>\n",
       "      <td>5</td>\n",
       "      <td>-20.799408</td>\n",
       "      <td>4</td>\n",
       "      <td>89.893617</td>\n",
       "      <td>0.155011</td>\n",
       "      <td>0.032775</td>\n",
       "      <td>1123074000</td>\n",
       "    </tr>\n",
       "    <tr>\n",
       "      <th>96</th>\n",
       "      <td>-38.042701</td>\n",
       "      <td>4</td>\n",
       "      <td>-25.418060</td>\n",
       "      <td>4</td>\n",
       "      <td>77.196885</td>\n",
       "      <td>0.145829</td>\n",
       "      <td>0.049519</td>\n",
       "      <td>1126055000</td>\n",
       "    </tr>\n",
       "    <tr>\n",
       "      <th>101</th>\n",
       "      <td>-16.016399</td>\n",
       "      <td>3</td>\n",
       "      <td>-9.674185</td>\n",
       "      <td>2</td>\n",
       "      <td>83.068783</td>\n",
       "      <td>0.191347</td>\n",
       "      <td>0.090937</td>\n",
       "      <td>1126061000</td>\n",
       "    </tr>\n",
       "    <tr>\n",
       "      <th>104</th>\n",
       "      <td>-35.651936</td>\n",
       "      <td>3</td>\n",
       "      <td>0.782998</td>\n",
       "      <td>0</td>\n",
       "      <td>76.416185</td>\n",
       "      <td>0.188371</td>\n",
       "      <td>0.100468</td>\n",
       "      <td>1126066000</td>\n",
       "    </tr>\n",
       "    <tr>\n",
       "      <th>122</th>\n",
       "      <td>-33.289194</td>\n",
       "      <td>5</td>\n",
       "      <td>-21.405049</td>\n",
       "      <td>4</td>\n",
       "      <td>83.194444</td>\n",
       "      <td>0.181280</td>\n",
       "      <td>0.091056</td>\n",
       "      <td>1129076000</td>\n",
       "    </tr>\n",
       "    <tr>\n",
       "      <th>123</th>\n",
       "      <td>-53.440033</td>\n",
       "      <td>4</td>\n",
       "      <td>-36.621622</td>\n",
       "      <td>5</td>\n",
       "      <td>91.500000</td>\n",
       "      <td>0.221253</td>\n",
       "      <td>0.067843</td>\n",
       "      <td>1129077000</td>\n",
       "    </tr>\n",
       "    <tr>\n",
       "      <th>131</th>\n",
       "      <td>-38.284953</td>\n",
       "      <td>5</td>\n",
       "      <td>-9.188034</td>\n",
       "      <td>2</td>\n",
       "      <td>86.681465</td>\n",
       "      <td>0.238636</td>\n",
       "      <td>0.103542</td>\n",
       "      <td>1130560300</td>\n",
       "    </tr>\n",
       "    <tr>\n",
       "      <th>132</th>\n",
       "      <td>-31.675361</td>\n",
       "      <td>5</td>\n",
       "      <td>-4.950495</td>\n",
       "      <td>2</td>\n",
       "      <td>71.848739</td>\n",
       "      <td>0.261801</td>\n",
       "      <td>0.149049</td>\n",
       "      <td>1130560800</td>\n",
       "    </tr>\n",
       "    <tr>\n",
       "      <th>136</th>\n",
       "      <td>-21.462392</td>\n",
       "      <td>5</td>\n",
       "      <td>-23.106061</td>\n",
       "      <td>3</td>\n",
       "      <td>79.148753</td>\n",
       "      <td>0.197559</td>\n",
       "      <td>0.067860</td>\n",
       "      <td>1130553400</td>\n",
       "    </tr>\n",
       "    <tr>\n",
       "      <th>148</th>\n",
       "      <td>-34.055939</td>\n",
       "      <td>5</td>\n",
       "      <td>-10.144928</td>\n",
       "      <td>3</td>\n",
       "      <td>77.088036</td>\n",
       "      <td>0.208909</td>\n",
       "      <td>0.108973</td>\n",
       "      <td>1132070000</td>\n",
       "    </tr>\n",
       "    <tr>\n",
       "      <th>158</th>\n",
       "      <td>-13.216176</td>\n",
       "      <td>1</td>\n",
       "      <td>-22.734761</td>\n",
       "      <td>2</td>\n",
       "      <td>60.879121</td>\n",
       "      <td>0.206084</td>\n",
       "      <td>0.111244</td>\n",
       "      <td>1135057000</td>\n",
       "    </tr>\n",
       "    <tr>\n",
       "      <th>161</th>\n",
       "      <td>-19.533397</td>\n",
       "      <td>2</td>\n",
       "      <td>0.000000</td>\n",
       "      <td>0</td>\n",
       "      <td>60.424710</td>\n",
       "      <td>0.155444</td>\n",
       "      <td>0.103308</td>\n",
       "      <td>1135061100</td>\n",
       "    </tr>\n",
       "    <tr>\n",
       "      <th>172</th>\n",
       "      <td>-31.643887</td>\n",
       "      <td>4</td>\n",
       "      <td>-28.940986</td>\n",
       "      <td>4</td>\n",
       "      <td>89.918256</td>\n",
       "      <td>0.222888</td>\n",
       "      <td>0.090605</td>\n",
       "      <td>1135066500</td>\n",
       "    </tr>\n",
       "    <tr>\n",
       "      <th>174</th>\n",
       "      <td>-17.604891</td>\n",
       "      <td>5</td>\n",
       "      <td>1.239276</td>\n",
       "      <td>1</td>\n",
       "      <td>79.120879</td>\n",
       "      <td>0.202889</td>\n",
       "      <td>0.133311</td>\n",
       "      <td>1135062500</td>\n",
       "    </tr>\n",
       "    <tr>\n",
       "      <th>187</th>\n",
       "      <td>-65.411820</td>\n",
       "      <td>4</td>\n",
       "      <td>-41.530055</td>\n",
       "      <td>5</td>\n",
       "      <td>81.382979</td>\n",
       "      <td>0.180494</td>\n",
       "      <td>0.046456</td>\n",
       "      <td>1138065000</td>\n",
       "    </tr>\n",
       "    <tr>\n",
       "      <th>198</th>\n",
       "      <td>-33.370127</td>\n",
       "      <td>2</td>\n",
       "      <td>-15.310345</td>\n",
       "      <td>2</td>\n",
       "      <td>52.459016</td>\n",
       "      <td>0.133263</td>\n",
       "      <td>0.014745</td>\n",
       "      <td>1141069000</td>\n",
       "    </tr>\n",
       "    <tr>\n",
       "      <th>211</th>\n",
       "      <td>-25.230451</td>\n",
       "      <td>4</td>\n",
       "      <td>13.449132</td>\n",
       "      <td>1</td>\n",
       "      <td>70.023148</td>\n",
       "      <td>0.145241</td>\n",
       "      <td>0.030093</td>\n",
       "      <td>1144068000</td>\n",
       "    </tr>\n",
       "    <tr>\n",
       "      <th>228</th>\n",
       "      <td>-36.318723</td>\n",
       "      <td>5</td>\n",
       "      <td>-9.358974</td>\n",
       "      <td>1</td>\n",
       "      <td>86.043614</td>\n",
       "      <td>0.185155</td>\n",
       "      <td>0.089759</td>\n",
       "      <td>1147058000</td>\n",
       "    </tr>\n",
       "    <tr>\n",
       "      <th>243</th>\n",
       "      <td>-23.014966</td>\n",
       "      <td>5</td>\n",
       "      <td>-4.640272</td>\n",
       "      <td>2</td>\n",
       "      <td>67.839196</td>\n",
       "      <td>0.205243</td>\n",
       "      <td>0.173247</td>\n",
       "      <td>1150053500</td>\n",
       "    </tr>\n",
       "    <tr>\n",
       "      <th>245</th>\n",
       "      <td>-52.882904</td>\n",
       "      <td>4</td>\n",
       "      <td>-7.755102</td>\n",
       "      <td>1</td>\n",
       "      <td>62.181818</td>\n",
       "      <td>0.151973</td>\n",
       "      <td>0.046671</td>\n",
       "      <td>1150055000</td>\n",
       "    </tr>\n",
       "    <tr>\n",
       "      <th>251</th>\n",
       "      <td>-40.133254</td>\n",
       "      <td>5</td>\n",
       "      <td>-1.478743</td>\n",
       "      <td>2</td>\n",
       "      <td>75.630252</td>\n",
       "      <td>0.264601</td>\n",
       "      <td>0.215245</td>\n",
       "      <td>1150060400</td>\n",
       "    </tr>\n",
       "    <tr>\n",
       "      <th>252</th>\n",
       "      <td>-32.945001</td>\n",
       "      <td>5</td>\n",
       "      <td>-0.839161</td>\n",
       "      <td>1</td>\n",
       "      <td>78.333333</td>\n",
       "      <td>0.228967</td>\n",
       "      <td>0.142078</td>\n",
       "      <td>1150060500</td>\n",
       "    </tr>\n",
       "    <tr>\n",
       "      <th>292</th>\n",
       "      <td>-40.898711</td>\n",
       "      <td>2</td>\n",
       "      <td>-25.583658</td>\n",
       "      <td>5</td>\n",
       "      <td>88.372093</td>\n",
       "      <td>0.170850</td>\n",
       "      <td>0.044344</td>\n",
       "      <td>1156065000</td>\n",
       "    </tr>\n",
       "    <tr>\n",
       "      <th>293</th>\n",
       "      <td>-54.382555</td>\n",
       "      <td>4</td>\n",
       "      <td>-35.067437</td>\n",
       "      <td>4</td>\n",
       "      <td>89.122373</td>\n",
       "      <td>0.171111</td>\n",
       "      <td>0.052567</td>\n",
       "      <td>1156066000</td>\n",
       "    </tr>\n",
       "    <tr>\n",
       "      <th>294</th>\n",
       "      <td>-61.490638</td>\n",
       "      <td>4</td>\n",
       "      <td>-23.760684</td>\n",
       "      <td>4</td>\n",
       "      <td>86.467662</td>\n",
       "      <td>0.165893</td>\n",
       "      <td>0.043054</td>\n",
       "      <td>1156067000</td>\n",
       "    </tr>\n",
       "    <tr>\n",
       "      <th>311</th>\n",
       "      <td>-60.356500</td>\n",
       "      <td>2</td>\n",
       "      <td>-6.984668</td>\n",
       "      <td>1</td>\n",
       "      <td>64.387211</td>\n",
       "      <td>0.179670</td>\n",
       "      <td>0.037126</td>\n",
       "      <td>1159065000</td>\n",
       "    </tr>\n",
       "    <tr>\n",
       "      <th>341</th>\n",
       "      <td>-44.285245</td>\n",
       "      <td>2</td>\n",
       "      <td>11.796009</td>\n",
       "      <td>2</td>\n",
       "      <td>60.566038</td>\n",
       "      <td>0.119645</td>\n",
       "      <td>0.005062</td>\n",
       "      <td>1165052000</td>\n",
       "    </tr>\n",
       "    <tr>\n",
       "      <th>351</th>\n",
       "      <td>-50.871792</td>\n",
       "      <td>2</td>\n",
       "      <td>0.379816</td>\n",
       "      <td>0</td>\n",
       "      <td>55.145119</td>\n",
       "      <td>0.162821</td>\n",
       "      <td>0.016685</td>\n",
       "      <td>1165060000</td>\n",
       "    </tr>\n",
       "    <tr>\n",
       "      <th>369</th>\n",
       "      <td>-82.499049</td>\n",
       "      <td>5</td>\n",
       "      <td>-64.542936</td>\n",
       "      <td>3</td>\n",
       "      <td>74.074074</td>\n",
       "      <td>0.234933</td>\n",
       "      <td>0.022789</td>\n",
       "      <td>1168066000</td>\n",
       "    </tr>\n",
       "    <tr>\n",
       "      <th>372</th>\n",
       "      <td>-35.470532</td>\n",
       "      <td>5</td>\n",
       "      <td>-8.098988</td>\n",
       "      <td>2</td>\n",
       "      <td>87.234043</td>\n",
       "      <td>0.199848</td>\n",
       "      <td>0.102230</td>\n",
       "      <td>1168073000</td>\n",
       "    </tr>\n",
       "    <tr>\n",
       "      <th>373</th>\n",
       "      <td>-24.458639</td>\n",
       "      <td>2</td>\n",
       "      <td>-13.527397</td>\n",
       "      <td>2</td>\n",
       "      <td>59.440559</td>\n",
       "      <td>0.178723</td>\n",
       "      <td>0.069400</td>\n",
       "      <td>1168074000</td>\n",
       "    </tr>\n",
       "    <tr>\n",
       "      <th>374</th>\n",
       "      <td>-36.396428</td>\n",
       "      <td>3</td>\n",
       "      <td>-8.381689</td>\n",
       "      <td>4</td>\n",
       "      <td>68.949772</td>\n",
       "      <td>0.288254</td>\n",
       "      <td>0.211517</td>\n",
       "      <td>1168075000</td>\n",
       "    </tr>\n",
       "    <tr>\n",
       "      <th>379</th>\n",
       "      <td>-39.658110</td>\n",
       "      <td>3</td>\n",
       "      <td>-24.008811</td>\n",
       "      <td>3</td>\n",
       "      <td>64.174455</td>\n",
       "      <td>0.140916</td>\n",
       "      <td>0.007579</td>\n",
       "      <td>1168067000</td>\n",
       "    </tr>\n",
       "    <tr>\n",
       "      <th>383</th>\n",
       "      <td>-44.188005</td>\n",
       "      <td>4</td>\n",
       "      <td>-33.160622</td>\n",
       "      <td>4</td>\n",
       "      <td>82.733813</td>\n",
       "      <td>0.180393</td>\n",
       "      <td>0.040973</td>\n",
       "      <td>1171053200</td>\n",
       "    </tr>\n",
       "  </tbody>\n",
       "</table>\n",
       "</div>"
      ],
      "text/plain": [
       "     과거대비인구변화(%)  최근인구변화(연속감소년수)  과거대비사업체변화(%)  최근사업체변화(연속감소년수)  노후건축물비율(%)  \\\n",
       "1     -71.395349               3     -2.691790                1   77.192982   \n",
       "6     -57.091410               5     -0.800000                1   75.487013   \n",
       "10    -60.099208               5     -9.995818                2   91.774383   \n",
       "18    -49.221646               2    -16.137566                4   90.170512   \n",
       "23    -64.764320               2    -12.184664                4   94.223827   \n",
       "34    -37.757063               5     -7.171776                1   88.413098   \n",
       "41    -53.217680               4    -10.040706                1   81.346841   \n",
       "57    -35.618795               5     14.190317                0   83.822297   \n",
       "61    -53.598114               5    -12.265084                2   88.451160   \n",
       "91    -42.260503               5    -20.799408                4   89.893617   \n",
       "96    -38.042701               4    -25.418060                4   77.196885   \n",
       "101   -16.016399               3     -9.674185                2   83.068783   \n",
       "104   -35.651936               3      0.782998                0   76.416185   \n",
       "122   -33.289194               5    -21.405049                4   83.194444   \n",
       "123   -53.440033               4    -36.621622                5   91.500000   \n",
       "131   -38.284953               5     -9.188034                2   86.681465   \n",
       "132   -31.675361               5     -4.950495                2   71.848739   \n",
       "136   -21.462392               5    -23.106061                3   79.148753   \n",
       "148   -34.055939               5    -10.144928                3   77.088036   \n",
       "158   -13.216176               1    -22.734761                2   60.879121   \n",
       "161   -19.533397               2      0.000000                0   60.424710   \n",
       "172   -31.643887               4    -28.940986                4   89.918256   \n",
       "174   -17.604891               5      1.239276                1   79.120879   \n",
       "187   -65.411820               4    -41.530055                5   81.382979   \n",
       "198   -33.370127               2    -15.310345                2   52.459016   \n",
       "211   -25.230451               4     13.449132                1   70.023148   \n",
       "228   -36.318723               5     -9.358974                1   86.043614   \n",
       "243   -23.014966               5     -4.640272                2   67.839196   \n",
       "245   -52.882904               4     -7.755102                1   62.181818   \n",
       "251   -40.133254               5     -1.478743                2   75.630252   \n",
       "252   -32.945001               5     -0.839161                1   78.333333   \n",
       "292   -40.898711               2    -25.583658                5   88.372093   \n",
       "293   -54.382555               4    -35.067437                4   89.122373   \n",
       "294   -61.490638               4    -23.760684                4   86.467662   \n",
       "311   -60.356500               2     -6.984668                1   64.387211   \n",
       "341   -44.285245               2     11.796009                2   60.566038   \n",
       "351   -50.871792               2      0.379816                0   55.145119   \n",
       "369   -82.499049               5    -64.542936                3   74.074074   \n",
       "372   -35.470532               5     -8.098988                2   87.234043   \n",
       "373   -24.458639               2    -13.527397                2   59.440559   \n",
       "374   -36.396428               3     -8.381689                4   68.949772   \n",
       "379   -39.658110               3    -24.008811                3   64.174455   \n",
       "383   -44.188005               4    -33.160622                4   82.733813   \n",
       "\n",
       "       노인인구비율  기초생활 대상자 비율       행정동코드  \n",
       "1    0.231695     0.014094  1111054000  \n",
       "6    0.212087     0.015844  1111060000  \n",
       "10   0.212609     0.076123  1111067000  \n",
       "18   0.269585     0.085114  1114054000  \n",
       "23   0.266904     0.065074  1114060500  \n",
       "34   0.202316     0.155865  1117053000  \n",
       "41   0.177490     0.026216  1117066000  \n",
       "57   0.140268     0.019581  1120066000  \n",
       "61   0.168500     0.067353  1120079000  \n",
       "91   0.155011     0.032775  1123074000  \n",
       "96   0.145829     0.049519  1126055000  \n",
       "101  0.191347     0.090937  1126061000  \n",
       "104  0.188371     0.100468  1126066000  \n",
       "122  0.181280     0.091056  1129076000  \n",
       "123  0.221253     0.067843  1129077000  \n",
       "131  0.238636     0.103542  1130560300  \n",
       "132  0.261801     0.149049  1130560800  \n",
       "136  0.197559     0.067860  1130553400  \n",
       "148  0.208909     0.108973  1132070000  \n",
       "158  0.206084     0.111244  1135057000  \n",
       "161  0.155444     0.103308  1135061100  \n",
       "172  0.222888     0.090605  1135066500  \n",
       "174  0.202889     0.133311  1135062500  \n",
       "187  0.180494     0.046456  1138065000  \n",
       "198  0.133263     0.014745  1141069000  \n",
       "211  0.145241     0.030093  1144068000  \n",
       "228  0.185155     0.089759  1147058000  \n",
       "243  0.205243     0.173247  1150053500  \n",
       "245  0.151973     0.046671  1150055000  \n",
       "251  0.264601     0.215245  1150060400  \n",
       "252  0.228967     0.142078  1150060500  \n",
       "292  0.170850     0.044344  1156065000  \n",
       "293  0.171111     0.052567  1156066000  \n",
       "294  0.165893     0.043054  1156067000  \n",
       "311  0.179670     0.037126  1159065000  \n",
       "341  0.119645     0.005062  1165052000  \n",
       "351  0.162821     0.016685  1165060000  \n",
       "369  0.234933     0.022789  1168066000  \n",
       "372  0.199848     0.102230  1168073000  \n",
       "373  0.178723     0.069400  1168074000  \n",
       "374  0.288254     0.211517  1168075000  \n",
       "379  0.140916     0.007579  1168067000  \n",
       "383  0.180393     0.040973  1171053200  "
      ]
     },
     "execution_count": 25,
     "metadata": {},
     "output_type": "execute_result"
    }
   ],
   "source": [
    "data_a_target"
   ]
  },
  {
   "cell_type": "code",
   "execution_count": 27,
   "id": "f3c27752-93c8-4fba-946a-39533c0c03a7",
   "metadata": {},
   "outputs": [],
   "source": [
    "data_a_target.to_csv('../Data/Result/gmm_target_cluster.csv',encoding='cp949',index=False) #csv로 내보내기"
   ]
  },
  {
   "cell_type": "code",
   "execution_count": null,
   "id": "4cab0d43-5bc6-465a-8832-cc4a8240f803",
   "metadata": {},
   "outputs": [],
   "source": []
  }
 ],
 "metadata": {
  "kernelspec": {
   "display_name": "Python 3",
   "language": "python",
   "name": "python3"
  },
  "language_info": {
   "codemirror_mode": {
    "name": "ipython",
    "version": 3
   },
   "file_extension": ".py",
   "mimetype": "text/x-python",
   "name": "python",
   "nbconvert_exporter": "python",
   "pygments_lexer": "ipython3",
   "version": "3.8.3"
  }
 },
 "nbformat": 4,
 "nbformat_minor": 5
}
