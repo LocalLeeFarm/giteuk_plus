{
 "cells": [
  {
   "cell_type": "markdown",
   "id": "7dbc4594-7fab-4c4c-ab6f-81cb072d8f39",
   "metadata": {},
   "source": [
    "## gmm"
   ]
  },
  {
   "cell_type": "markdown",
   "id": "6bf8f678-ed40-4d4f-8206-60e34f1e7eda",
   "metadata": {},
   "source": [
    "## 라이브러리 import"
   ]
  },
  {
   "cell_type": "code",
   "execution_count": 23,
   "id": "0ef288fe",
   "metadata": {},
   "outputs": [],
   "source": [
    "\n",
    "#import sys\n",
    "#from tqdm.notebook import tqdm\n",
    "\n",
    "import pandas as pd  #데이터 분석 라이브러리\n",
    "import numpy as np # 계산 라이브러리\n",
    "from sklearn.mixture import GaussianMixture #gmm 라이브러리\n",
    "from sklearn.decomposition import PCA #주성분 분석 라이브러리\n",
    "\n",
    "import matplotlib as mpl # 그래프 라이브러리\n",
    "import plotly.express as px #그래프 라이브러리\n",
    "import seaborn as sns #seaborn 그래프 라이브러리\n",
    "\n",
    "import matplotlib.pyplot as plt #pyplot 그래프 라이브러리\n",
    "import matplotlib.font_manager as fm  #그래프 폰트 라이브러리\n",
    "%matplotlib inline\n",
    "\n",
    "fm._rebuild() #json파일에 업데이트 해주기\n",
    "\n",
    "plt.rc(\"font\", family=\"Malgun Gothic\") #폰트 맑은 고딕 적용\n"
   ]
  },
  {
   "cell_type": "markdown",
   "id": "82388e44-8096-49b8-8015-2437c958ab2b",
   "metadata": {},
   "source": [
    "## 데이터 불러오기"
   ]
  },
  {
   "cell_type": "code",
   "execution_count": 24,
   "id": "8c0c8e40",
   "metadata": {},
   "outputs": [],
   "source": [
    "df1 = pd.read_csv('../Data/Preprocessing/활성화지표_추가본.csv',encoding='cp949') #데이터 불러오기"
   ]
  },
  {
   "cell_type": "code",
   "execution_count": 25,
   "id": "2003a582",
   "metadata": {},
   "outputs": [
    {
     "data": {
      "text/html": [
       "<div>\n",
       "<style scoped>\n",
       "    .dataframe tbody tr th:only-of-type {\n",
       "        vertical-align: middle;\n",
       "    }\n",
       "\n",
       "    .dataframe tbody tr th {\n",
       "        vertical-align: top;\n",
       "    }\n",
       "\n",
       "    .dataframe thead th {\n",
       "        text-align: right;\n",
       "    }\n",
       "</style>\n",
       "<table border=\"1\" class=\"dataframe\">\n",
       "  <thead>\n",
       "    <tr style=\"text-align: right;\">\n",
       "      <th></th>\n",
       "      <th>시도명</th>\n",
       "      <th>자치구</th>\n",
       "      <th>행정동명</th>\n",
       "      <th>행정동코드</th>\n",
       "      <th>행정기관코드</th>\n",
       "      <th>과거대비인구변화(%)</th>\n",
       "      <th>최근인구변화(연속감소년수)</th>\n",
       "      <th>과거대비사업체변화(%)</th>\n",
       "      <th>최근사업체변화(연속감소년수)</th>\n",
       "      <th>노후건축물비율(%)</th>\n",
       "      <th>재생도시</th>\n",
       "      <th>가구당인구수</th>\n",
       "      <th>노인인구비율</th>\n",
       "      <th>기초생활 대상자 비율</th>\n",
       "      <th>종사자수 증감률</th>\n",
       "    </tr>\n",
       "  </thead>\n",
       "  <tbody>\n",
       "    <tr>\n",
       "      <th>0</th>\n",
       "      <td>서울특별시</td>\n",
       "      <td>서울특별시 종로구</td>\n",
       "      <td>사직동</td>\n",
       "      <td>1101053.0</td>\n",
       "      <td>1111053000</td>\n",
       "      <td>-13.703589</td>\n",
       "      <td>2</td>\n",
       "      <td>0.338696</td>\n",
       "      <td>1</td>\n",
       "      <td>73.636364</td>\n",
       "      <td>1.0</td>\n",
       "      <td>2.07</td>\n",
       "      <td>5.471891</td>\n",
       "      <td>0.014819</td>\n",
       "      <td>-0.040657</td>\n",
       "    </tr>\n",
       "    <tr>\n",
       "      <th>1</th>\n",
       "      <td>서울특별시</td>\n",
       "      <td>서울특별시 종로구</td>\n",
       "      <td>삼청동</td>\n",
       "      <td>1101054.0</td>\n",
       "      <td>1111054000</td>\n",
       "      <td>-71.395349</td>\n",
       "      <td>3</td>\n",
       "      <td>-2.691790</td>\n",
       "      <td>1</td>\n",
       "      <td>77.192982</td>\n",
       "      <td>1.0</td>\n",
       "      <td>1.98</td>\n",
       "      <td>4.398734</td>\n",
       "      <td>0.016852</td>\n",
       "      <td>0.005244</td>\n",
       "    </tr>\n",
       "    <tr>\n",
       "      <th>2</th>\n",
       "      <td>서울특별시</td>\n",
       "      <td>서울특별시 종로구</td>\n",
       "      <td>부암동</td>\n",
       "      <td>1101055.0</td>\n",
       "      <td>1111055000</td>\n",
       "      <td>-28.333333</td>\n",
       "      <td>5</td>\n",
       "      <td>4.251386</td>\n",
       "      <td>1</td>\n",
       "      <td>75.547703</td>\n",
       "      <td>0.0</td>\n",
       "      <td>2.35</td>\n",
       "      <td>5.606197</td>\n",
       "      <td>0.015518</td>\n",
       "      <td>-0.042948</td>\n",
       "    </tr>\n",
       "    <tr>\n",
       "      <th>3</th>\n",
       "      <td>서울특별시</td>\n",
       "      <td>서울특별시 종로구</td>\n",
       "      <td>평창동</td>\n",
       "      <td>1101056.0</td>\n",
       "      <td>1111056000</td>\n",
       "      <td>-4.272303</td>\n",
       "      <td>4</td>\n",
       "      <td>2.092050</td>\n",
       "      <td>0</td>\n",
       "      <td>71.133568</td>\n",
       "      <td>0.0</td>\n",
       "      <td>2.48</td>\n",
       "      <td>5.428951</td>\n",
       "      <td>0.007883</td>\n",
       "      <td>-0.033100</td>\n",
       "    </tr>\n",
       "    <tr>\n",
       "      <th>4</th>\n",
       "      <td>서울특별시</td>\n",
       "      <td>서울특별시 종로구</td>\n",
       "      <td>무악동</td>\n",
       "      <td>1101057.0</td>\n",
       "      <td>1111057000</td>\n",
       "      <td>-37.690513</td>\n",
       "      <td>3</td>\n",
       "      <td>-15.185185</td>\n",
       "      <td>4</td>\n",
       "      <td>54.545455</td>\n",
       "      <td>0.0</td>\n",
       "      <td>2.74</td>\n",
       "      <td>6.083636</td>\n",
       "      <td>0.019178</td>\n",
       "      <td>0.028786</td>\n",
       "    </tr>\n",
       "  </tbody>\n",
       "</table>\n",
       "</div>"
      ],
      "text/plain": [
       "     시도명        자치구 행정동명      행정동코드      행정기관코드  과거대비인구변화(%)  최근인구변화(연속감소년수)  \\\n",
       "0  서울특별시  서울특별시 종로구  사직동  1101053.0  1111053000   -13.703589               2   \n",
       "1  서울특별시  서울특별시 종로구  삼청동  1101054.0  1111054000   -71.395349               3   \n",
       "2  서울특별시  서울특별시 종로구  부암동  1101055.0  1111055000   -28.333333               5   \n",
       "3  서울특별시  서울특별시 종로구  평창동  1101056.0  1111056000    -4.272303               4   \n",
       "4  서울특별시  서울특별시 종로구  무악동  1101057.0  1111057000   -37.690513               3   \n",
       "\n",
       "   과거대비사업체변화(%)  최근사업체변화(연속감소년수)  노후건축물비율(%)  재생도시  가구당인구수    노인인구비율  \\\n",
       "0      0.338696                1   73.636364   1.0    2.07  5.471891   \n",
       "1     -2.691790                1   77.192982   1.0    1.98  4.398734   \n",
       "2      4.251386                1   75.547703   0.0    2.35  5.606197   \n",
       "3      2.092050                0   71.133568   0.0    2.48  5.428951   \n",
       "4    -15.185185                4   54.545455   0.0    2.74  6.083636   \n",
       "\n",
       "   기초생활 대상자 비율  종사자수 증감률  \n",
       "0     0.014819 -0.040657  \n",
       "1     0.016852  0.005244  \n",
       "2     0.015518 -0.042948  \n",
       "3     0.007883 -0.033100  \n",
       "4     0.019178  0.028786  "
      ]
     },
     "execution_count": 25,
     "metadata": {},
     "output_type": "execute_result"
    }
   ],
   "source": [
    "df1.head()"
   ]
  },
  {
   "cell_type": "code",
   "execution_count": 26,
   "id": "2ff41fbd-a4fc-4cc8-b6d0-1a297f12b448",
   "metadata": {},
   "outputs": [
    {
     "data": {
      "text/plain": [
       "Index(['시도명', '자치구', '행정동명', '행정동코드', '행정기관코드', '과거대비인구변화(%)',\n",
       "       '최근인구변화(연속감소년수)', '과거대비사업체변화(%)', '최근사업체변화(연속감소년수)', '노후건축물비율(%)',\n",
       "       '재생도시', '가구당인구수', '노인인구비율', '기초생활 대상자 비율', '종사자수 증감률'],\n",
       "      dtype='object')"
      ]
     },
     "execution_count": 26,
     "metadata": {},
     "output_type": "execute_result"
    }
   ],
   "source": [
    "df1.columns #데이터 컬럼 확인"
   ]
  },
  {
   "cell_type": "code",
   "execution_count": 27,
   "id": "f621e3da-b1a6-4d52-849c-c387aff73813",
   "metadata": {},
   "outputs": [],
   "source": [
    "hang = df1['행정동코드'] #행정동코드만 따로 분리"
   ]
  },
  {
   "cell_type": "code",
   "execution_count": 28,
   "id": "7d1cb469-70f5-4822-aa04-44eb7743cdef",
   "metadata": {},
   "outputs": [],
   "source": [
    "df1_use = df1[['과거대비인구변화(%)','최근인구변화(연속감소년수)','과거대비사업체변화(%)','최근사업체변화(연속감소년수)','노후건축물비율(%)', '노인인구비율', '기초생활 대상자 비율']]\n",
    "# 최종 사용 변수\n"
   ]
  },
  {
   "cell_type": "markdown",
   "id": "1b306c82-2fa9-4a1b-8388-a3501d90875a",
   "metadata": {},
   "source": [
    "## aic , bic"
   ]
  },
  {
   "cell_type": "code",
   "execution_count": 29,
   "id": "8f89cb24-dfd9-4727-b052-da741a9be3a7",
   "metadata": {},
   "outputs": [
    {
     "name": "stdout",
     "output_type": "stream",
     "text": [
      "1 bic : 12283.306493807237 aic : 12141.648467540617\n",
      "2 bic : 11963.02749362167 aic : 11675.664068909384\n",
      "3 bic : 11947.816676603732 aic : 11514.74785344578\n",
      "4 bic : 11994.476971989086 aic : 11415.70275038547\n",
      "5 bic : 12081.054120657122 aic : 11356.574500607838\n",
      "6 bic : 12197.376003718133 aic : 11327.190985223184\n",
      "7 bic : 12362.978629579644 aic : 11347.088212639028\n",
      "8 bic : 12505.797571772368 aic : 11344.201756386086\n",
      "9 bic : 10579.815214624386 aic : 9272.514000792438\n",
      "10 bic : 10558.079994352984 aic : 9105.07338207537\n",
      "11 bic : 10715.44464759609 aic : 9116.732636872812\n",
      "12 bic : 12898.620992203892 aic : 11154.203583034947\n",
      "13 bic : 10822.326382864518 aic : 8932.203575249905\n",
      "14 bic : 11005.44144975155 aic : 8969.613243691272\n",
      "15 bic : 13090.921716816307 aic : 10909.388112310364\n",
      "16 bic : 13083.431261399488 aic : 10756.192258447878\n",
      "17 bic : 13166.922789146989 aic : 10693.978387749714\n",
      "18 bic : 13333.100277454087 aic : 10714.450477611144\n",
      "19 bic : 13350.995637849142 aic : 10586.640439560535\n"
     ]
    }
   ],
   "source": [
    "#gmm은 elbow 대신 이거 씀\n",
    "#이게 작을수록 좋다\n",
    "#https://berrrrr.github.io/datascience/2020/11/16/hands-on-ml-9/\n",
    "k = range(1,20)\n",
    "for i in k:\n",
    "    gmm_model = GaussianMixture(n_components=i, random_state=42)\n",
    "    gmm_mm = gmm_model.fit_predict(df1_use)\n",
    "    b = gmm_model.bic(df1_use)\n",
    "    a = gmm_model.aic(df1_use)\n",
    "    print(i,'bic :',b,'aic :',a)"
   ]
  },
  {
   "cell_type": "markdown",
   "id": "c05ad47b-01a0-4120-960f-31c579893a71",
   "metadata": {},
   "source": [
    "## gmm"
   ]
  },
  {
   "cell_type": "code",
   "execution_count": 30,
   "id": "cd44c18a-be59-4c26-94cb-5c4f5832b6ad",
   "metadata": {},
   "outputs": [
    {
     "name": "stderr",
     "output_type": "stream",
     "text": [
      "<ipython-input-30-3cab13376c72>:6: SettingWithCopyWarning: \n",
      "A value is trying to be set on a copy of a slice from a DataFrame.\n",
      "Try using .loc[row_indexer,col_indexer] = value instead\n",
      "\n",
      "See the caveats in the documentation: https://pandas.pydata.org/pandas-docs/stable/user_guide/indexing.html#returning-a-view-versus-a-copy\n",
      "  df1_use['gmm_cluster'] = gmm_labels\n"
     ]
    }
   ],
   "source": [
    "# GMM 적용\n",
    "gmm = GaussianMixture(n_components=4, random_state=42) # n_components로 미리 군집 개수 설정\n",
    "gmm_labels = gmm.fit_predict(df1_use)\n",
    "\n",
    "# GMM 후 클러스터링 레이블을 따로 설정\n",
    "df1_use['gmm_cluster'] = gmm_labels\n"
   ]
  },
  {
   "cell_type": "code",
   "execution_count": 31,
   "id": "fc2df35d-7734-481c-a711-0472b0b0e371",
   "metadata": {},
   "outputs": [
    {
     "data": {
      "text/html": [
       "<div>\n",
       "<style scoped>\n",
       "    .dataframe tbody tr th:only-of-type {\n",
       "        vertical-align: middle;\n",
       "    }\n",
       "\n",
       "    .dataframe tbody tr th {\n",
       "        vertical-align: top;\n",
       "    }\n",
       "\n",
       "    .dataframe thead th {\n",
       "        text-align: right;\n",
       "    }\n",
       "</style>\n",
       "<table border=\"1\" class=\"dataframe\">\n",
       "  <thead>\n",
       "    <tr style=\"text-align: right;\">\n",
       "      <th></th>\n",
       "      <th>과거대비인구변화(%)</th>\n",
       "      <th>최근인구변화(연속감소년수)</th>\n",
       "      <th>과거대비사업체변화(%)</th>\n",
       "      <th>최근사업체변화(연속감소년수)</th>\n",
       "      <th>노후건축물비율(%)</th>\n",
       "      <th>노인인구비율</th>\n",
       "      <th>기초생활 대상자 비율</th>\n",
       "      <th>gmm_cluster</th>\n",
       "    </tr>\n",
       "  </thead>\n",
       "  <tbody>\n",
       "    <tr>\n",
       "      <th>0</th>\n",
       "      <td>-13.703589</td>\n",
       "      <td>2</td>\n",
       "      <td>0.338696</td>\n",
       "      <td>1</td>\n",
       "      <td>73.636364</td>\n",
       "      <td>5.471891</td>\n",
       "      <td>0.014819</td>\n",
       "      <td>3</td>\n",
       "    </tr>\n",
       "    <tr>\n",
       "      <th>1</th>\n",
       "      <td>-71.395349</td>\n",
       "      <td>3</td>\n",
       "      <td>-2.691790</td>\n",
       "      <td>1</td>\n",
       "      <td>77.192982</td>\n",
       "      <td>4.398734</td>\n",
       "      <td>0.016852</td>\n",
       "      <td>0</td>\n",
       "    </tr>\n",
       "    <tr>\n",
       "      <th>2</th>\n",
       "      <td>-28.333333</td>\n",
       "      <td>5</td>\n",
       "      <td>4.251386</td>\n",
       "      <td>1</td>\n",
       "      <td>75.547703</td>\n",
       "      <td>5.606197</td>\n",
       "      <td>0.015518</td>\n",
       "      <td>3</td>\n",
       "    </tr>\n",
       "    <tr>\n",
       "      <th>3</th>\n",
       "      <td>-4.272303</td>\n",
       "      <td>4</td>\n",
       "      <td>2.092050</td>\n",
       "      <td>0</td>\n",
       "      <td>71.133568</td>\n",
       "      <td>5.428951</td>\n",
       "      <td>0.007883</td>\n",
       "      <td>3</td>\n",
       "    </tr>\n",
       "    <tr>\n",
       "      <th>4</th>\n",
       "      <td>-37.690513</td>\n",
       "      <td>3</td>\n",
       "      <td>-15.185185</td>\n",
       "      <td>4</td>\n",
       "      <td>54.545455</td>\n",
       "      <td>6.083636</td>\n",
       "      <td>0.019178</td>\n",
       "      <td>1</td>\n",
       "    </tr>\n",
       "  </tbody>\n",
       "</table>\n",
       "</div>"
      ],
      "text/plain": [
       "   과거대비인구변화(%)  최근인구변화(연속감소년수)  과거대비사업체변화(%)  최근사업체변화(연속감소년수)  노후건축물비율(%)  \\\n",
       "0   -13.703589               2      0.338696                1   73.636364   \n",
       "1   -71.395349               3     -2.691790                1   77.192982   \n",
       "2   -28.333333               5      4.251386                1   75.547703   \n",
       "3    -4.272303               4      2.092050                0   71.133568   \n",
       "4   -37.690513               3    -15.185185                4   54.545455   \n",
       "\n",
       "     노인인구비율  기초생활 대상자 비율  gmm_cluster  \n",
       "0  5.471891     0.014819            3  \n",
       "1  4.398734     0.016852            0  \n",
       "2  5.606197     0.015518            3  \n",
       "3  5.428951     0.007883            3  \n",
       "4  6.083636     0.019178            1  "
      ]
     },
     "execution_count": 31,
     "metadata": {},
     "output_type": "execute_result"
    }
   ],
   "source": [
    "df1_use.head() #데이터 확인"
   ]
  },
  {
   "cell_type": "code",
   "execution_count": 32,
   "id": "f37834fa-07c3-4d3b-8713-4a13935fff4d",
   "metadata": {},
   "outputs": [],
   "source": [
    "df1_use = pd.concat([df1_use,hang],axis=1) #행정동 코드 붙이기"
   ]
  },
  {
   "cell_type": "code",
   "execution_count": 33,
   "id": "9f88c9dd-d5c3-4eca-9f76-cd88e65e46bf",
   "metadata": {},
   "outputs": [
    {
     "data": {
      "text/html": [
       "<div>\n",
       "<style scoped>\n",
       "    .dataframe tbody tr th:only-of-type {\n",
       "        vertical-align: middle;\n",
       "    }\n",
       "\n",
       "    .dataframe tbody tr th {\n",
       "        vertical-align: top;\n",
       "    }\n",
       "\n",
       "    .dataframe thead th {\n",
       "        text-align: right;\n",
       "    }\n",
       "</style>\n",
       "<table border=\"1\" class=\"dataframe\">\n",
       "  <thead>\n",
       "    <tr style=\"text-align: right;\">\n",
       "      <th></th>\n",
       "      <th>과거대비인구변화(%)</th>\n",
       "      <th>최근인구변화(연속감소년수)</th>\n",
       "      <th>과거대비사업체변화(%)</th>\n",
       "      <th>최근사업체변화(연속감소년수)</th>\n",
       "      <th>노후건축물비율(%)</th>\n",
       "      <th>노인인구비율</th>\n",
       "      <th>기초생활 대상자 비율</th>\n",
       "      <th>gmm_cluster</th>\n",
       "      <th>행정동코드</th>\n",
       "    </tr>\n",
       "  </thead>\n",
       "  <tbody>\n",
       "    <tr>\n",
       "      <th>0</th>\n",
       "      <td>-13.703589</td>\n",
       "      <td>2</td>\n",
       "      <td>0.338696</td>\n",
       "      <td>1</td>\n",
       "      <td>73.636364</td>\n",
       "      <td>5.471891</td>\n",
       "      <td>0.014819</td>\n",
       "      <td>3</td>\n",
       "      <td>1101053.0</td>\n",
       "    </tr>\n",
       "    <tr>\n",
       "      <th>1</th>\n",
       "      <td>-71.395349</td>\n",
       "      <td>3</td>\n",
       "      <td>-2.691790</td>\n",
       "      <td>1</td>\n",
       "      <td>77.192982</td>\n",
       "      <td>4.398734</td>\n",
       "      <td>0.016852</td>\n",
       "      <td>0</td>\n",
       "      <td>1101054.0</td>\n",
       "    </tr>\n",
       "    <tr>\n",
       "      <th>2</th>\n",
       "      <td>-28.333333</td>\n",
       "      <td>5</td>\n",
       "      <td>4.251386</td>\n",
       "      <td>1</td>\n",
       "      <td>75.547703</td>\n",
       "      <td>5.606197</td>\n",
       "      <td>0.015518</td>\n",
       "      <td>3</td>\n",
       "      <td>1101055.0</td>\n",
       "    </tr>\n",
       "    <tr>\n",
       "      <th>3</th>\n",
       "      <td>-4.272303</td>\n",
       "      <td>4</td>\n",
       "      <td>2.092050</td>\n",
       "      <td>0</td>\n",
       "      <td>71.133568</td>\n",
       "      <td>5.428951</td>\n",
       "      <td>0.007883</td>\n",
       "      <td>3</td>\n",
       "      <td>1101056.0</td>\n",
       "    </tr>\n",
       "    <tr>\n",
       "      <th>4</th>\n",
       "      <td>-37.690513</td>\n",
       "      <td>3</td>\n",
       "      <td>-15.185185</td>\n",
       "      <td>4</td>\n",
       "      <td>54.545455</td>\n",
       "      <td>6.083636</td>\n",
       "      <td>0.019178</td>\n",
       "      <td>1</td>\n",
       "      <td>1101057.0</td>\n",
       "    </tr>\n",
       "  </tbody>\n",
       "</table>\n",
       "</div>"
      ],
      "text/plain": [
       "   과거대비인구변화(%)  최근인구변화(연속감소년수)  과거대비사업체변화(%)  최근사업체변화(연속감소년수)  노후건축물비율(%)  \\\n",
       "0   -13.703589               2      0.338696                1   73.636364   \n",
       "1   -71.395349               3     -2.691790                1   77.192982   \n",
       "2   -28.333333               5      4.251386                1   75.547703   \n",
       "3    -4.272303               4      2.092050                0   71.133568   \n",
       "4   -37.690513               3    -15.185185                4   54.545455   \n",
       "\n",
       "     노인인구비율  기초생활 대상자 비율  gmm_cluster      행정동코드  \n",
       "0  5.471891     0.014819            3  1101053.0  \n",
       "1  4.398734     0.016852            0  1101054.0  \n",
       "2  5.606197     0.015518            3  1101055.0  \n",
       "3  5.428951     0.007883            3  1101056.0  \n",
       "4  6.083636     0.019178            1  1101057.0  "
      ]
     },
     "execution_count": 33,
     "metadata": {},
     "output_type": "execute_result"
    }
   ],
   "source": [
    "df1_use.head()"
   ]
  },
  {
   "cell_type": "markdown",
   "id": "b4ab60d7-0a7b-4511-a5e7-8b765cab2f5c",
   "metadata": {},
   "source": [
    "## 클러스터별 데이터 분리"
   ]
  },
  {
   "cell_type": "code",
   "execution_count": 18,
   "id": "47b16186-e841-419d-b823-d20a350b6484",
   "metadata": {},
   "outputs": [],
   "source": [
    "data_a = df1_use[df1_use['gmm_cluster'] == 0]\n",
    "data_b = df1_use[df1_use['gmm_cluster'] == 1]\n",
    "data_c = df1_use[df1_use['gmm_cluster'] == 2]\n",
    "data_d = df1_use[df1_use['gmm_cluster'] == 3]"
   ]
  },
  {
   "cell_type": "markdown",
   "id": "4b3374af-007e-43ab-b95a-ae63d393dc74",
   "metadata": {},
   "source": [
    "## box plot"
   ]
  },
  {
   "cell_type": "code",
   "execution_count": 34,
   "id": "cb3635ce-00d3-4b64-8367-24df7359e5fb",
   "metadata": {},
   "outputs": [
    {
     "name": "stderr",
     "output_type": "stream",
     "text": [
      "c:\\programdata\\miniconda3\\lib\\site-packages\\matplotlib\\backends\\backend_agg.py:238: RuntimeWarning: Glyph 8722 missing from current font.\n",
      "  font.set_text(s, 0.0, flags=flags)\n",
      "c:\\programdata\\miniconda3\\lib\\site-packages\\matplotlib\\backends\\backend_agg.py:201: RuntimeWarning: Glyph 8722 missing from current font.\n",
      "  font.set_text(s, 0, flags=flags)\n"
     ]
    },
    {
     "data": {
      "image/png": "[encoded data removed]",
      "text/plain": [
       "<Figure size 432x288 with 1 Axes>"
      ]
     },
     "metadata": {
      "needs_background": "light"
     },
     "output_type": "display_data"
    },
    {
     "data": {
      "image/png": "[encoded data removed]",
      "text/plain": [
       "<Figure size 432x288 with 1 Axes>"
      ]
     },
     "metadata": {
      "needs_background": "light"
     },
     "output_type": "display_data"
    },
    {
     "data": {
      "image/png": "[encoded data removed]",
      "text/plain": [
       "<Figure size 432x288 with 1 Axes>"
      ]
     },
     "metadata": {
      "needs_background": "light"
     },
     "output_type": "display_data"
    },
    {
     "data": {
      "image/png": "[encoded data removed]",
      "text/plain": [
       "<Figure size 432x288 with 1 Axes>"
      ]
     },
     "metadata": {
      "needs_background": "light"
     },
     "output_type": "display_data"
    },
    {
     "data": {
      "image/png": "[encoded data removed]",
      "text/plain": [
       "<Figure size 432x288 with 1 Axes>"
      ]
     },
     "metadata": {
      "needs_background": "light"
     },
     "output_type": "display_data"
    }
   ],
   "source": [
    "plot_list = ['과거대비인구변화(%)', '과거대비사업체변화(%)',\n",
    "       '노후건축물비율(%)', '가구당인구수', '노인인구비율', '기초생활 대상자 비율']\n",
    "count=0\n",
    "for i in range(0,len(data_a.columns)-1):\n",
    "    count+=1\n",
    "    if count==5:\n",
    "        count=0\n",
    "    if data_a.iloc[:,i].name not in plot_list:\n",
    "        continue\n",
    "    fig, ax = plt.subplots()\n",
    "    \n",
    "    ax.boxplot([data_a.iloc[:,i], data_b.iloc[:,i], data_c.iloc[:,i], data_d.iloc[:,i]])\n",
    "\n",
    "    plt.title('[k-medoids] ' + data_a.iloc[:,i].name)\n",
    "    \n",
    "plt.show()"
   ]
  },
  {
   "cell_type": "code",
   "execution_count": 39,
   "id": "7d36aa86-9167-4eb1-b468-91329cafa00f",
   "metadata": {},
   "outputs": [
    {
     "name": "stdout",
     "output_type": "stream",
     "text": [
      "0: 3.642857142857143\n",
      "1: 3.402877697841727\n",
      "2: 2.490566037735849\n",
      "3: 3.813131313131313\n"
     ]
    }
   ],
   "source": [
    "#최근 인구 변화\n",
    "\n",
    "df1_use.iloc[:,1].groupby([df1_use['gmm_cluster']]).count()\n",
    "p_a = 42\n",
    "p_b = 139\n",
    "p_c = 53\n",
    "p_d = 198\n",
    "\n",
    "df1_use.iloc[:,1].groupby([df1_use['gmm_cluster']]).sum() \n",
    "s_a = 153\n",
    "s_b =473\n",
    "s_c = 132\n",
    "s_d = 755\n",
    "print('0:',s_a/p_a)\n",
    "print('1:',s_b/p_b)\n",
    "print('2:',s_c/p_c)\n",
    "print('3:',s_d/p_d)"
   ]
  },
  {
   "cell_type": "code",
   "execution_count": 42,
   "id": "1a1b68a5-e863-4a8f-a942-6a5a965e7974",
   "metadata": {},
   "outputs": [
    {
     "name": "stdout",
     "output_type": "stream",
     "text": [
      "0: 2.5714285714285716\n",
      "1: 2.2661870503597124\n",
      "2: 1.6415094339622642\n",
      "3: 1.6161616161616161\n"
     ]
    }
   ],
   "source": [
    "#최근 사업체 변화\n",
    "df1_use.iloc[:,3].groupby([df1_use['gmm_cluster']]).sum()\n",
    "s_a = 108\n",
    "s_b =315\n",
    "s_c = 87\n",
    "s_d = 320\n",
    "print('0:',s_a/p_a)\n",
    "print('1:',s_b/p_b)\n",
    "print('2:',s_c/p_c)\n",
    "print('3:',s_d/p_d)"
   ]
  },
  {
   "cell_type": "markdown",
   "id": "4914260c-ded8-4ca0-9ab1-4dad30dada7d",
   "metadata": {},
   "source": [
    "## PCA"
   ]
  },
  {
   "cell_type": "code",
   "execution_count": 52,
   "id": "69920d43-5ed5-4899-98a9-822ecae42113",
   "metadata": {},
   "outputs": [
    {
     "data": {
      "text/html": [
       "<div>\n",
       "<style scoped>\n",
       "    .dataframe tbody tr th:only-of-type {\n",
       "        vertical-align: middle;\n",
       "    }\n",
       "\n",
       "    .dataframe tbody tr th {\n",
       "        vertical-align: top;\n",
       "    }\n",
       "\n",
       "    .dataframe thead th {\n",
       "        text-align: right;\n",
       "    }\n",
       "</style>\n",
       "<table border=\"1\" class=\"dataframe\">\n",
       "  <thead>\n",
       "    <tr style=\"text-align: right;\">\n",
       "      <th></th>\n",
       "      <th>principal component1</th>\n",
       "      <th>principal component2</th>\n",
       "      <th>gmm_cluster</th>\n",
       "    </tr>\n",
       "  </thead>\n",
       "  <tbody>\n",
       "    <tr>\n",
       "      <th>0</th>\n",
       "      <td>-4.773494</td>\n",
       "      <td>-5.433884</td>\n",
       "      <td>3</td>\n",
       "    </tr>\n",
       "    <tr>\n",
       "      <th>1</th>\n",
       "      <td>47.445715</td>\n",
       "      <td>18.113711</td>\n",
       "      <td>0</td>\n",
       "    </tr>\n",
       "    <tr>\n",
       "      <th>2</th>\n",
       "      <td>8.137963</td>\n",
       "      <td>-0.699953</td>\n",
       "      <td>3</td>\n",
       "    </tr>\n",
       "    <tr>\n",
       "      <th>3</th>\n",
       "      <td>-14.389908</td>\n",
       "      <td>-7.689169</td>\n",
       "      <td>3</td>\n",
       "    </tr>\n",
       "    <tr>\n",
       "      <th>4</th>\n",
       "      <td>10.054418</td>\n",
       "      <td>23.597620</td>\n",
       "      <td>1</td>\n",
       "    </tr>\n",
       "    <tr>\n",
       "      <th>...</th>\n",
       "      <td>...</td>\n",
       "      <td>...</td>\n",
       "      <td>...</td>\n",
       "    </tr>\n",
       "    <tr>\n",
       "      <th>418</th>\n",
       "      <td>-12.682075</td>\n",
       "      <td>12.747384</td>\n",
       "      <td>3</td>\n",
       "    </tr>\n",
       "    <tr>\n",
       "      <th>419</th>\n",
       "      <td>-8.184541</td>\n",
       "      <td>4.572723</td>\n",
       "      <td>3</td>\n",
       "    </tr>\n",
       "    <tr>\n",
       "      <th>420</th>\n",
       "      <td>-6.928106</td>\n",
       "      <td>5.699995</td>\n",
       "      <td>3</td>\n",
       "    </tr>\n",
       "    <tr>\n",
       "      <th>421</th>\n",
       "      <td>-8.948829</td>\n",
       "      <td>-8.502749</td>\n",
       "      <td>3</td>\n",
       "    </tr>\n",
       "    <tr>\n",
       "      <th>422</th>\n",
       "      <td>-11.509810</td>\n",
       "      <td>2.076613</td>\n",
       "      <td>3</td>\n",
       "    </tr>\n",
       "  </tbody>\n",
       "</table>\n",
       "<p>423 rows × 3 columns</p>\n",
       "</div>"
      ],
      "text/plain": [
       "     principal component1  principal component2  gmm_cluster\n",
       "0               -4.773494             -5.433884            3\n",
       "1               47.445715             18.113711            0\n",
       "2                8.137963             -0.699953            3\n",
       "3              -14.389908             -7.689169            3\n",
       "4               10.054418             23.597620            1\n",
       "..                    ...                   ...          ...\n",
       "418            -12.682075             12.747384            3\n",
       "419             -8.184541              4.572723            3\n",
       "420             -6.928106              5.699995            3\n",
       "421             -8.948829             -8.502749            3\n",
       "422            -11.509810              2.076613            3\n",
       "\n",
       "[423 rows x 3 columns]"
      ]
     },
     "execution_count": 52,
     "metadata": {},
     "output_type": "execute_result"
    }
   ],
   "source": [
    "df1_plot = df1_use[['과거대비인구변화(%)', '최근인구변화(연속감소년수)', '과거대비사업체변화(%)',\n",
    "       '최근사업체변화(연속감소년수)', '노후건축물비율(%)', '노인인구비율', '기초생활 대상자 비율']]\n",
    "pca = PCA(n_components=2) # 주성분 2개로 결정\n",
    "printcipalComponents = pca.fit_transform(df1_plot) #주성분 분석 \n",
    "principalDf = pd.DataFrame(data=printcipalComponents, columns = ['principal component1', 'principal component2']) #data frame 형태로 변환\n",
    "df1_plot_final = pd.concat([principalDf,df1_use['gmm_cluster']],axis=1) #주성분 분석 dataframe + cluster 정보 합침\n",
    "df1_plot_final\n"
   ]
  },
  {
   "cell_type": "code",
   "execution_count": 53,
   "id": "b6c8a02d-e8b2-4502-a216-3610e9280e06",
   "metadata": {},
   "outputs": [],
   "source": [
    "df1_plot_final['gmm_cluster'] = df1_plot_final['gmm_cluster'].apply(lambda x :str(x)) #클러스터 열 데이터 형태 str로 바꾸기"
   ]
  },
  {
   "cell_type": "markdown",
   "id": "ea9de01e-77bf-472b-9cad-87a7a8862a3f",
   "metadata": {},
   "source": [
    "## 산점도"
   ]
  },
  {
   "cell_type": "code",
   "execution_count": 54,
   "id": "c9f855b5-d18e-494e-a7de-507e12472e22",
   "metadata": {},
   "outputs": [
    {
     "data": {
      "application/vnd.plotly.v1+json": {
       "config": {
        "plotlyServerURL": "https://plot.ly"
       },
       "data": [
        {
         "hovertemplate": "gmm_cluster=3<br>principal component1=%{x}<br>principal component2=%{y}<extra></extra>",
         "legendgroup": "3",
         "marker": {
          "color": "#636efa",
          "symbol": "circle"
         },
         "mode": "markers",
         "name": "3",
         "orientation": "v",
         "showlegend": true,
         "type": "scatter",
         "x": [
          -4.773493858324624,
          8.137963479080199,
          -14.389907858085534,
          -3.985741550637446,
          -6.424721329873284,
          -0.5167950188998283,
          6.297122478860953,
          7.200951070029785,
          6.400370050429959,
          -16.886118630652664,
          1.8997163261279126,
          -11.767379024469589,
          11.110506873826711,
          2.3859722569130604,
          -0.588983447624752,
          8.852164962453777,
          -14.71671491071068,
          -31.37046385277448,
          -12.595646944601857,
          -6.836364072334064,
          -20.963647377515805,
          -20.80020824276184,
          -18.572251957954926,
          -3.4522750833466467,
          -16.131601333341035,
          -11.444052458438213,
          -4.4216730989635975,
          -8.964441097136174,
          -4.750711457066961,
          -4.360267524612918,
          -22.092846977990032,
          -20.35797223983006,
          3.675228301099427,
          -17.431623466819392,
          -8.691043792874446,
          -24.958446986805093,
          -19.83943536200316,
          -10.748424861888063,
          -0.29615761058379136,
          -5.61099170176381,
          2.1273611618916477,
          1.6217035798534787,
          -13.678521506792727,
          -15.053620976390913,
          -8.51405139726738,
          -10.260868328582594,
          -11.667843606465176,
          -1.9725042104559065,
          -12.252154311395918,
          -15.033665128947973,
          -8.88822869319868,
          7.288861195931488,
          2.9904792807962104,
          0.8157919622305378,
          -2.3179504438397216,
          -11.70663426885077,
          -9.000176492622371,
          2.1689627846544433,
          4.054226673915376,
          -2.588322351900778,
          -5.567835279381612,
          8.865308202456436,
          -15.617813359461985,
          -6.792892662705352,
          -11.209493489705766,
          3.4929190718843817,
          -12.662447280509292,
          -5.46077387134498,
          -8.667217283335312,
          -13.54529329174933,
          -6.259713744091462,
          0.3022628420767004,
          -0.3313142956020927,
          -20.230209800288154,
          -20.28455477087521,
          -10.55454796738462,
          -0.5366538394579092,
          -20.213714848616945,
          -21.149990359756234,
          -0.27820573855029695,
          -6.763257852657341,
          -24.08080007582298,
          4.070608624869633,
          -11.05507443686614,
          -8.40392419825271,
          -19.384109213537315,
          -1.6878301117458818,
          -4.320993023997409,
          5.761805450646735,
          1.055145164537549,
          -9.724874061192775,
          -3.051912354686413,
          -14.119993060525584,
          1.45294338309021,
          -4.909124073930026,
          -22.776414924737118,
          -22.37405797337223,
          -6.305353107526523,
          -4.6834508866761295,
          -0.23576473661464,
          -15.108376074768222,
          -11.35594021219097,
          -7.527923404484707,
          -16.985350801848014,
          -13.171460961310176,
          -18.302419050411416,
          -20.161420288007392,
          -11.272954262535668,
          0.5441828330115155,
          2.2278585885555,
          -3.2724359748048966,
          -7.14066449083739,
          -8.813027289677267,
          -15.0783359477191,
          -16.525394077248215,
          -13.251259787761086,
          -10.477815188672553,
          -5.520848909460683,
          -17.48603198410502,
          -14.282655283314805,
          -19.801968105430518,
          -23.14209363892722,
          -22.164990843954776,
          -22.141820319093043,
          -3.353411936599089,
          1.26572179865556,
          -3.3923752175814106,
          0.1553675017720365,
          9.015903168675214,
          -15.297718591231698,
          -5.934965560269427,
          -24.110134059099,
          -17.222098301690323,
          -6.115853252470636,
          -12.160659110150801,
          -3.007431154150681,
          -10.450606279972835,
          -2.4010328912078,
          1.4996417377657354,
          -24.988937725167244,
          0.49909313989418785,
          -4.2883520075055825,
          -15.252291673600865,
          -22.507946339315463,
          -10.720465390104453,
          -21.40979634055162,
          -4.855468397066617,
          -5.950050473121065,
          -17.607820781957404,
          -3.9448599211326676,
          -14.05556506584979,
          -1.7799646770462183,
          -6.110066390584148,
          -3.6970206836642694,
          -10.863347696007036,
          -12.72018794851517,
          -23.760961955560447,
          -10.607988375198653,
          -4.021683935801754,
          -14.071332581699489,
          -9.00181677886433,
          -3.1935975904731686,
          -9.94429385686406,
          -24.042180989593778,
          -26.720205537784846,
          -13.706264813204482,
          -16.159672763277527,
          8.96614065028605,
          -14.23010115881268,
          -19.070947700566617,
          -4.407868570804701,
          -12.840701312588108,
          -19.025942046795844,
          -17.907385901483433,
          -11.785873990494862,
          -6.75002771399337,
          -17.55030649991277,
          10.444661236117625,
          -20.08008655395237,
          -19.271882401001218,
          -8.554728647897987,
          -18.363353010816045,
          -16.84066585549537,
          -14.789040052683442,
          -16.025785160158783,
          -13.838966726851412,
          -24.546705543541297,
          -10.551320540068932,
          -1.8375567494312999,
          -8.468750790327187,
          5.136112323133396,
          -0.2825940201740935,
          -17.67196516295715,
          -12.682074997852062,
          -8.184540891863861,
          -6.928105872010634,
          -8.948828599380551,
          -11.509809528386954
         ],
         "xaxis": "x",
         "y": [
          -5.433883742782175,
          -0.6999532396474542,
          -7.689168645510126,
          -1.2953708734786817,
          -10.20976994263244,
          -3.0485623371839616,
          -14.137048971888975,
          0.42120938337024055,
          4.65852394381743,
          -12.047250414469286,
          -10.948528610306331,
          -14.112993540269413,
          -7.168865625573682,
          -5.071026074966515,
          -10.769858501709214,
          3.6179245270196176,
          -20.606989256624054,
          -5.3446366048580725,
          1.357876565729136,
          0.1216334635476189,
          7.0281847044632855,
          -3.9836487770240425,
          0.4005695022267383,
          4.136359659374705,
          -3.4309197385735084,
          -15.411428104560546,
          -16.465076345574737,
          -20.389578578285185,
          -16.241229992526534,
          -15.330955683328936,
          -8.87471165640978,
          -12.019444364322082,
          -16.42808434265772,
          1.3920426219230213,
          0.2661893197883675,
          4.585853055005746,
          3.481095385403613,
          -13.242184600259293,
          -13.642274853219707,
          -11.803035297508256,
          -7.635881140744984,
          -6.467717752353882,
          -7.1516180939846485,
          -0.47715705224613825,
          -11.030047281507004,
          -10.034008541683557,
          -11.80472771693903,
          -11.37719586537753,
          -6.486257981180561,
          -5.623841233187,
          -16.891660172385215,
          -6.521126584448583,
          -0.7142922850347091,
          -5.273102143948361,
          -15.580016150657055,
          -7.551785498874794,
          -12.731217933518556,
          -2.3689654870104384,
          6.5803017443006455,
          -7.714972104822803,
          -3.570067202568181,
          -4.36507972283427,
          -3.373221237362185,
          5.734831881753457,
          5.0276452295266445,
          -7.9290707029024405,
          -9.687814687650043,
          4.85020048844256,
          9.873657746209734,
          6.823215955167995,
          -9.359020727417434,
          -15.779816917042803,
          -19.478895591385466,
          7.0239736661795344,
          -5.068054931092255,
          -8.468452737265368,
          -11.265913846532321,
          -1.2467790047592204,
          2.489398820678658,
          -4.2559976490910145,
          5.2593627562509315,
          4.553378492988726,
          -9.444888751447696,
          -13.561365820488012,
          -14.580400229556329,
          2.287521425464819,
          -13.081518841335116,
          -11.05780858253402,
          -8.325781980973517,
          -13.46931957965707,
          -4.2109220147276964,
          1.5287881412198256,
          -3.0806541398116263,
          -12.848228511775215,
          -10.64835016543696,
          0.1273164582900575,
          -5.018092442054645,
          0.6074402775467033,
          4.933446656332742,
          3.319570682464983,
          0.847035248142588,
          -2.934948423016341,
          -13.430288170383413,
          1.7486145958442392,
          -17.493586974573883,
          8.348434562165615,
          0.5295876422453533,
          3.2219809777306234,
          20.882043052685944,
          2.759283404201007,
          -6.221675540892686,
          7.921633165509826,
          0.5077656717505545,
          0.10095721647229648,
          7.140841280303629,
          10.952391354425913,
          8.28797108148606,
          2.676204675230071,
          -1.2165658795976417,
          5.324627961380267,
          -0.9115207451678281,
          -6.067064200619862,
          -1.8423043535124002,
          10.905065295283483,
          5.31355060589013,
          0.4043844850623492,
          -11.381012774239128,
          -4.620483377566668,
          -7.333306324162729,
          7.1989120134857965,
          4.304525201693892,
          -11.354430397529239,
          3.949532963234533,
          -13.066852786462555,
          7.149640650559049,
          -3.7208734274380646,
          -13.078525870076385,
          -10.584751158906341,
          -9.320344288685945,
          -2.0450429875640834,
          -12.108915226705957,
          -14.171306957983278,
          -17.820890315804427,
          10.790460644075633,
          0.5413089924114317,
          -1.9222511860513751,
          -0.4101039280330486,
          -4.084432833978785,
          -3.922938167879341,
          -6.8563276045063635,
          1.5806674780978414,
          -13.614517060775611,
          -7.844133090531011,
          -1.5635831787491972,
          7.241799446197096,
          5.232498210950182,
          4.934480684718835,
          0.08277069666485899,
          3.173139809238022,
          -1.8983696990623509,
          5.98159392702461,
          -12.683534187693173,
          -1.6419390589854994,
          3.6499949155294025,
          7.170297128273179,
          6.496423047574284,
          5.485862072201583,
          16.482645663771383,
          6.3101038197497035,
          4.967439136187826,
          8.558828042176991,
          7.503409308912206,
          -2.0437012693879715,
          -2.5674119118248053,
          7.742066375280145,
          1.655756067899996,
          9.969835964106464,
          -8.190692603089737,
          -4.004408717941037,
          17.94932156146864,
          5.027866051793976,
          19.003333649185418,
          24.138896324068817,
          10.421699717794173,
          14.373450586428975,
          -9.012806447641902,
          20.837114207490842,
          18.24567825006432,
          4.619958486111794,
          19.055623707934878,
          26.5724721511937,
          -8.827554201423991,
          11.142357174254002,
          12.747383910547198,
          4.572723026033705,
          5.699994528872853,
          -8.5027493379716,
          2.0766129217081524
         ],
         "yaxis": "y"
        },
        {
         "hovertemplate": "gmm_cluster=0<br>principal component1=%{x}<br>principal component2=%{y}<extra></extra>",
         "legendgroup": "0",
         "marker": {
          "color": "#EF553B",
          "symbol": "circle"
         },
         "mode": "markers",
         "name": "0",
         "orientation": "v",
         "showlegend": true,
         "type": "scatter",
         "x": [
          47.445715406677024,
          2.9531159200223036,
          -5.959637350099268,
          46.84907108537473,
          36.758794538971486,
          51.37603817609402,
          24.36325734640212,
          31.45515417380233,
          22.730801209298978,
          3.4855153660545564,
          15.454951542805661,
          20.70510770216275,
          44.826911697789534,
          29.064004133188536,
          24.43548654901645,
          11.074437692648916,
          8.912087021013035,
          16.5054798408386,
          -6.873724750141992,
          -5.827467019993857,
          -4.463682999960471,
          23.79970339538129,
          1.0778445793262046,
          51.375660626531285,
          1.150776372043163,
          1.6301919198369987,
          19.52076511934897,
          14.39320185093763,
          -12.065390651350032,
          30.41535626856748,
          44.20147156744761,
          47.057750714340486,
          32.68009652478721,
          6.9412089080465424,
          18.801176440614256,
          67.01401883402839,
          0.3642444072796179,
          22.034747748740738,
          0.5167214623959961,
          14.448512343580084,
          17.792054862600068,
          32.072444699386345
         ],
         "xaxis": "x",
         "y": [
          18.113711348751284,
          7.206615080043781,
          -8.473941463153864,
          6.121222829009809,
          -2.5998486833061727,
          0.6697359933871408,
          -6.950845139734476,
          -5.1925707901391345,
          4.448014858207549,
          -12.017330898262674,
          2.1459467899842375,
          -3.349162272305787,
          -0.37863658231389147,
          -6.6883551112967865,
          -5.04970529578755,
          4.732996821412374,
          -5.099844995467078,
          1.5770009068822366,
          7.274424594626931,
          8.976214974629494,
          6.3566263974184265,
          -9.54332283213143,
          -8.591068258521695,
          14.443485898886088,
          2.1340907351646035,
          4.299134845010805,
          5.0211713046385675,
          -0.7078625928739429,
          14.711737312758766,
          -4.127460929176919,
          2.0700408666957664,
          6.8791776877525015,
          24.70864956693696,
          -0.7331777138062505,
          28.015820407795136,
          30.378833770488875,
          -1.9511924294511596,
          -6.897054770391231,
          13.061758360204045,
          9.71689913862962,
          16.62240032706298,
          2.899770116583674
         ],
         "yaxis": "y"
        },
        {
         "hovertemplate": "gmm_cluster=1<br>principal component1=%{x}<br>principal component2=%{y}<extra></extra>",
         "legendgroup": "1",
         "marker": {
          "color": "#00cc96",
          "symbol": "circle"
         },
         "mode": "markers",
         "name": "1",
         "orientation": "v",
         "showlegend": true,
         "type": "scatter",
         "x": [
          10.054417963225527,
          33.95841361437067,
          40.31073143787115,
          45.81709750851273,
          45.21789884639185,
          29.94342447516328,
          37.34172324780362,
          16.4775069216668,
          14.59491816878946,
          13.339972724404296,
          32.38392347635124,
          26.121479940062393,
          26.900372709906335,
          21.043726198757845,
          25.376373068118593,
          18.337809351507808,
          31.163009695081875,
          9.860863693419327,
          11.867318287964752,
          37.11194030268369,
          11.5229554054007,
          -3.0102452623348785,
          13.71033488075347,
          35.58358056185923,
          34.955666668111,
          10.426788344583528,
          33.62142663261783,
          23.223593844889436,
          11.574458828018585,
          23.162782791089708,
          13.925633012545633,
          9.366153465998242,
          13.715162854676365,
          16.407428294901347,
          29.13956197261374,
          37.945329508679635,
          39.025796853254775,
          10.724175193890694,
          3.5145763522391826,
          3.531708706802495,
          16.158509546792466,
          17.378364123867875,
          7.130286992546299,
          4.032195233280632,
          22.431280056517977,
          9.086925618748777,
          22.798755799959295,
          6.249293139022356,
          14.191715716807565,
          15.585101765933397,
          13.126085159146982,
          -0.8921910407399064,
          3.2478331681100183,
          14.524680935209904,
          4.278705097461279,
          9.913149364969058,
          19.81064716314904,
          23.676338457528487,
          12.074828914618907,
          22.452694969232606,
          2.2479072336229122,
          6.7210965585894,
          31.005409201222648,
          14.602798481701376,
          13.054884647705157,
          12.491003556125293,
          24.904479583524488,
          20.62020767834135,
          29.70618605211615,
          20.9889939399988,
          23.28566814080905,
          5.262555669302666,
          -1.0684108796043688,
          15.727815641500504,
          43.5861729812571,
          2.8949457231025333,
          10.841472503053485,
          14.068414446063462,
          22.414710180798753,
          26.54596604170347,
          14.005592761538532,
          18.14909297876497,
          25.34753466279016,
          9.773320899655547,
          8.134593717778413,
          14.440314983581475,
          14.269825429380148,
          9.72329372623468,
          27.257327120466076,
          23.43455586623582,
          21.247577998164335,
          24.30368269951484,
          25.172599435240457,
          24.995467272981603,
          31.770982739489,
          28.535931109892594,
          42.48440488369793,
          20.92688072442249,
          37.16386653487291,
          -7.153285885860223,
          8.646558053704313,
          14.674705287486432,
          -1.8869076155252527,
          12.939978695736754,
          3.5586447337441705,
          19.43565215553632,
          17.367342202651333,
          -0.09361832990830318,
          11.386065638041986,
          18.443741029484322,
          13.493478851230721,
          1.4305382224689087,
          25.32522239448872,
          21.281088782422604,
          8.033417161887407,
          -14.55338258058569,
          19.74437600341461,
          4.014684490498012,
          -14.835846764522351,
          37.21110560393568,
          7.940027417277385,
          15.791927430812809,
          11.193127883861008,
          15.91153629632481,
          -16.550132002496408,
          19.685576662225408,
          20.093539625152793,
          1.8325368473182013,
          7.659794316357647,
          15.851340170719952
         ],
         "xaxis": "x",
         "y": [
          23.597620498940977,
          12.913589239939721,
          9.157818475484142,
          0.5324204627177498,
          5.266537494272316,
          -6.610462895479511,
          3.6886963536464994,
          2.1687217409939423,
          -3.964233520532306,
          -9.91567296510878,
          6.0770766205954185,
          -0.5870865937404686,
          -7.970571069074659,
          1.4034812950091327,
          -3.8074349946363877,
          -0.8554908689493119,
          -4.618142192230593,
          5.624956977253936,
          -2.603441492227274,
          3.876322435630608,
          -4.930117694640581,
          6.5053454732948,
          -11.980290194683734,
          -0.7589782563076324,
          6.630259887400757,
          -13.118910353035258,
          -10.715713618079485,
          4.15723008581797,
          -3.8961039774281474,
          0.21774342561491233,
          15.34052219145931,
          0.7199067641522888,
          -7.884137765863024,
          -5.363426112197713,
          -4.894011943734585,
          2.958214886147429,
          0.6713269019872009,
          -2.11571675790161,
          -2.2121405558830607,
          2.6427642228483634,
          3.7789275390317436,
          12.495916083174924,
          2.540418919130487,
          -6.201093583375333,
          -9.11572075683562,
          -3.568161170862715,
          -2.1150811163885135,
          -17.441975169151583,
          -4.810453312026448,
          -1.8832021819660127,
          -5.792440241646582,
          0.6170545742869692,
          5.676173543117939,
          -10.493849771209613,
          4.731062313880695,
          -0.9854819836246994,
          -0.9028497614806608,
          -1.983837446724624,
          -2.3062191845444873,
          1.8270651207583062,
          -19.516231997597572,
          1.983580664548127,
          15.47089822947395,
          -5.62626416924566,
          3.083288429569199,
          -16.896372538053757,
          -7.611970059900434,
          -8.6027124089865,
          -10.488938503807109,
          -3.4188479129922102,
          -3.1745670557614463,
          23.500495570846944,
          -2.721739143692643,
          -6.221022268104793,
          8.273884029740788,
          1.460843809260311,
          -4.804682650148005,
          11.855881534512664,
          -5.355291601003215,
          -10.00357953067361,
          -6.3553450479316655,
          25.85026649355182,
          23.288115564163945,
          0.3630113155376313,
          2.083469139888197,
          7.832720250758323,
          -3.6011566332471094,
          -4.828346907612226,
          5.191480089457302,
          7.219044503911549,
          11.330553290796923,
          6.929572603980558,
          0.3570517223620605,
          3.023846564650428,
          15.188431969374433,
          6.012073365497058,
          9.625738515411145,
          -3.6276177224689965,
          -6.59162164851546,
          2.512159881826099,
          1.1829844929154718,
          -9.089457144236562,
          1.4795948846970288,
          5.235628161203554,
          11.033904493411738,
          8.835946752135136,
          21.423442726468874,
          3.198402837816207,
          -19.57643155952672,
          14.993225179525785,
          19.417912055605488,
          6.66793892335016,
          -17.639626713010177,
          2.561971889172591,
          -1.4390193286881081,
          -6.912766165266057,
          10.612966357341957,
          3.9676689178408964,
          -0.3780284720264145,
          -2.1756498180243624,
          -1.042196459992814,
          -2.4810383484786356,
          -7.5440882809375545,
          -5.1466287260220565,
          -0.6915355497889447,
          29.992457125172358,
          -20.323087118541306,
          -11.363964177498586,
          6.556724524993891,
          5.820271257856657
         ],
         "yaxis": "y"
        },
        {
         "hovertemplate": "gmm_cluster=2<br>principal component1=%{x}<br>principal component2=%{y}<extra></extra>",
         "legendgroup": "2",
         "marker": {
          "color": "#ab63fa",
          "symbol": "circle"
         },
         "mode": "markers",
         "name": "2",
         "orientation": "v",
         "showlegend": true,
         "type": "scatter",
         "x": [
          -23.9265453716645,
          -34.11502677873862,
          -45.96591336875818,
          -15.309142365522279,
          -23.31452374919098,
          -33.3664323186846,
          -29.418576414870667,
          -35.29700395281856,
          3.985229308572591,
          3.5254475137531607,
          -28.61306363003839,
          -54.722893652299156,
          -14.551173751516837,
          -14.79938479413902,
          -34.011910026584594,
          -15.951009373204279,
          -11.928717402315666,
          15.444636169037928,
          2.785870252380874,
          -0.7561319267186112,
          -26.273321935597814,
          -61.15765318231846,
          -33.505091955556985,
          -7.997734305764291,
          -21.940672533666433,
          -41.426383133757625,
          -11.236488950760883,
          -23.718313325445084,
          -12.70016452618557,
          -55.88689084939069,
          -18.834005827097002,
          -34.33383526354213,
          -27.497630889950123,
          -28.613964209280457,
          -10.978439823812327,
          -27.615526303967744,
          -20.595062650940463,
          -15.629142178960247,
          -18.414251473581995,
          -23.93639626408277,
          -34.28494347373854,
          -2.1920404090915406,
          -42.05696887027323,
          -29.15523907962268,
          -24.215958504960835,
          -54.74093393941594,
          2.6093065004571736,
          -45.91507734912089,
          -53.34568774247701,
          -47.03474747747645,
          -13.346219266712371,
          10.484876501635723,
          -11.669030768755283
         ],
         "xaxis": "x",
         "y": [
          -25.698981322964418,
          -34.35141477119042,
          -29.521720856161828,
          -4.6986994693360025,
          -22.748701442269212,
          19.976564397691014,
          26.052324565265224,
          38.989513612885595,
          -13.569404398531967,
          -17.562155587519793,
          -9.181454461148777,
          43.87814789210448,
          -27.868669888427338,
          -14.380001020740266,
          30.698835710301697,
          12.480740108675702,
          -10.26525726947427,
          24.618638847846135,
          -13.741027720410138,
          -24.920010691099783,
          8.388069195728908,
          -17.811123353850014,
          20.96207391139181,
          -17.751217678100335,
          -0.36949009846079794,
          -12.70013877358502,
          -17.591030773523403,
          -4.727924680996485,
          -7.910693229944546,
          -34.92735098841874,
          6.159927933919876,
          -1.3159429722675269,
          -2.8638725840491497,
          -3.61778293976251,
          60.30237190133016,
          3.926660311776161,
          13.850220621241704,
          11.709508631784123,
          15.467736508433923,
          5.451896734543716,
          9.646923533014602,
          -26.145108289203822,
          14.25281888328531,
          7.823243076278062,
          15.621545404482369,
          -24.214666694279643,
          57.40825427954292,
          48.82996927918372,
          52.243777874243825,
          52.15403533585588,
          2.15375478821784,
          -14.10564355525129,
          -14.529147409854215
         ],
         "yaxis": "y"
        }
       ],
       "layout": {
        "autosize": true,
        "legend": {
         "title": {
          "text": "gmm_cluster"
         },
         "tracegroupgap": 0
        },
        "template": {
         "data": {
          "bar": [
           {
            "error_x": {
             "color": "#2a3f5f"
            },
            "error_y": {
             "color": "#2a3f5f"
            },
            "marker": {
             "line": {
              "color": "#E5ECF6",
              "width": 0.5
             },
             "pattern": {
              "fillmode": "overlay",
              "size": 10,
              "solidity": 0.2
             }
            },
            "type": "bar"
           }
          ],
          "barpolar": [
           {
            "marker": {
             "line": {
              "color": "#E5ECF6",
              "width": 0.5
             },
             "pattern": {
              "fillmode": "overlay",
              "size": 10,
              "solidity": 0.2
             }
            },
            "type": "barpolar"
           }
          ],
          "carpet": [
           {
            "aaxis": {
             "endlinecolor": "#2a3f5f",
             "gridcolor": "white",
             "linecolor": "white",
             "minorgridcolor": "white",
             "startlinecolor": "#2a3f5f"
            },
            "baxis": {
             "endlinecolor": "#2a3f5f",
             "gridcolor": "white",
             "linecolor": "white",
             "minorgridcolor": "white",
             "startlinecolor": "#2a3f5f"
            },
            "type": "carpet"
           }
          ],
          "choropleth": [
           {
            "colorbar": {
             "outlinewidth": 0,
             "ticks": ""
            },
            "type": "choropleth"
           }
          ],
          "contour": [
           {
            "colorbar": {
             "outlinewidth": 0,
             "ticks": ""
            },
            "colorscale": [
             [
              0,
              "#0d0887"
             ],
             [
              0.1111111111111111,
              "#46039f"
             ],
             [
              0.2222222222222222,
              "#7201a8"
             ],
             [
              0.3333333333333333,
              "#9c179e"
             ],
             [
              0.4444444444444444,
              "#bd3786"
             ],
             [
              0.5555555555555556,
              "#d8576b"
             ],
             [
              0.6666666666666666,
              "#ed7953"
             ],
             [
              0.7777777777777778,
              "#fb9f3a"
             ],
             [
              0.8888888888888888,
              "#fdca26"
             ],
             [
              1,
              "#f0f921"
             ]
            ],
            "type": "contour"
           }
          ],
          "contourcarpet": [
           {
            "colorbar": {
             "outlinewidth": 0,
             "ticks": ""
            },
            "type": "contourcarpet"
           }
          ],
          "heatmap": [
           {
            "colorbar": {
             "outlinewidth": 0,
             "ticks": ""
            },
            "colorscale": [
             [
              0,
              "#0d0887"
             ],
             [
              0.1111111111111111,
              "#46039f"
             ],
             [
              0.2222222222222222,
              "#7201a8"
             ],
             [
              0.3333333333333333,
              "#9c179e"
             ],
             [
              0.4444444444444444,
              "#bd3786"
             ],
             [
              0.5555555555555556,
              "#d8576b"
             ],
             [
              0.6666666666666666,
              "#ed7953"
             ],
             [
              0.7777777777777778,
              "#fb9f3a"
             ],
             [
              0.8888888888888888,
              "#fdca26"
             ],
             [
              1,
              "#f0f921"
             ]
            ],
            "type": "heatmap"
           }
          ],
          "heatmapgl": [
           {
            "colorbar": {
             "outlinewidth": 0,
             "ticks": ""
            },
            "colorscale": [
             [
              0,
              "#0d0887"
             ],
             [
              0.1111111111111111,
              "#46039f"
             ],
             [
              0.2222222222222222,
              "#7201a8"
             ],
             [
              0.3333333333333333,
              "#9c179e"
             ],
             [
              0.4444444444444444,
              "#bd3786"
             ],
             [
              0.5555555555555556,
              "#d8576b"
             ],
             [
              0.6666666666666666,
              "#ed7953"
             ],
             [
              0.7777777777777778,
              "#fb9f3a"
             ],
             [
              0.8888888888888888,
              "#fdca26"
             ],
             [
              1,
              "#f0f921"
             ]
            ],
            "type": "heatmapgl"
           }
          ],
          "histogram": [
           {
            "marker": {
             "pattern": {
              "fillmode": "overlay",
              "size": 10,
              "solidity": 0.2
             }
            },
            "type": "histogram"
           }
          ],
          "histogram2d": [
           {
            "colorbar": {
             "outlinewidth": 0,
             "ticks": ""
            },
            "colorscale": [
             [
              0,
              "#0d0887"
             ],
             [
              0.1111111111111111,
              "#46039f"
             ],
             [
              0.2222222222222222,
              "#7201a8"
             ],
             [
              0.3333333333333333,
              "#9c179e"
             ],
             [
              0.4444444444444444,
              "#bd3786"
             ],
             [
              0.5555555555555556,
              "#d8576b"
             ],
             [
              0.6666666666666666,
              "#ed7953"
             ],
             [
              0.7777777777777778,
              "#fb9f3a"
             ],
             [
              0.8888888888888888,
              "#fdca26"
             ],
             [
              1,
              "#f0f921"
             ]
            ],
            "type": "histogram2d"
           }
          ],
          "histogram2dcontour": [
           {
            "colorbar": {
             "outlinewidth": 0,
             "ticks": ""
            },
            "colorscale": [
             [
              0,
              "#0d0887"
             ],
             [
              0.1111111111111111,
              "#46039f"
             ],
             [
              0.2222222222222222,
              "#7201a8"
             ],
             [
              0.3333333333333333,
              "#9c179e"
             ],
             [
              0.4444444444444444,
              "#bd3786"
             ],
             [
              0.5555555555555556,
              "#d8576b"
             ],
             [
              0.6666666666666666,
              "#ed7953"
             ],
             [
              0.7777777777777778,
              "#fb9f3a"
             ],
             [
              0.8888888888888888,
              "#fdca26"
             ],
             [
              1,
              "#f0f921"
             ]
            ],
            "type": "histogram2dcontour"
           }
          ],
          "mesh3d": [
           {
            "colorbar": {
             "outlinewidth": 0,
             "ticks": ""
            },
            "type": "mesh3d"
           }
          ],
          "parcoords": [
           {
            "line": {
             "colorbar": {
              "outlinewidth": 0,
              "ticks": ""
             }
            },
            "type": "parcoords"
           }
          ],
          "pie": [
           {
            "automargin": true,
            "type": "pie"
           }
          ],
          "scatter": [
           {
            "marker": {
             "colorbar": {
              "outlinewidth": 0,
              "ticks": ""
             }
            },
            "type": "scatter"
           }
          ],
          "scatter3d": [
           {
            "line": {
             "colorbar": {
              "outlinewidth": 0,
              "ticks": ""
             }
            },
            "marker": {
             "colorbar": {
              "outlinewidth": 0,
              "ticks": ""
             }
            },
            "type": "scatter3d"
           }
          ],
          "scattercarpet": [
           {
            "marker": {
             "colorbar": {
              "outlinewidth": 0,
              "ticks": ""
             }
            },
            "type": "scattercarpet"
           }
          ],
          "scattergeo": [
           {
            "marker": {
             "colorbar": {
              "outlinewidth": 0,
              "ticks": ""
             }
            },
            "type": "scattergeo"
           }
          ],
          "scattergl": [
           {
            "marker": {
             "colorbar": {
              "outlinewidth": 0,
              "ticks": ""
             }
            },
            "type": "scattergl"
           }
          ],
          "scattermapbox": [
           {
            "marker": {
             "colorbar": {
              "outlinewidth": 0,
              "ticks": ""
             }
            },
            "type": "scattermapbox"
           }
          ],
          "scatterpolar": [
           {
            "marker": {
             "colorbar": {
              "outlinewidth": 0,
              "ticks": ""
             }
            },
            "type": "scatterpolar"
           }
          ],
          "scatterpolargl": [
           {
            "marker": {
             "colorbar": {
              "outlinewidth": 0,
              "ticks": ""
             }
            },
            "type": "scatterpolargl"
           }
          ],
          "scatterternary": [
           {
            "marker": {
             "colorbar": {
              "outlinewidth": 0,
              "ticks": ""
             }
            },
            "type": "scatterternary"
           }
          ],
          "surface": [
           {
            "colorbar": {
             "outlinewidth": 0,
             "ticks": ""
            },
            "colorscale": [
             [
              0,
              "#0d0887"
             ],
             [
              0.1111111111111111,
              "#46039f"
             ],
             [
              0.2222222222222222,
              "#7201a8"
             ],
             [
              0.3333333333333333,
              "#9c179e"
             ],
             [
              0.4444444444444444,
              "#bd3786"
             ],
             [
              0.5555555555555556,
              "#d8576b"
             ],
             [
              0.6666666666666666,
              "#ed7953"
             ],
             [
              0.7777777777777778,
              "#fb9f3a"
             ],
             [
              0.8888888888888888,
              "#fdca26"
             ],
             [
              1,
              "#f0f921"
             ]
            ],
            "type": "surface"
           }
          ],
          "table": [
           {
            "cells": {
             "fill": {
              "color": "#EBF0F8"
             },
             "line": {
              "color": "white"
             }
            },
            "header": {
             "fill": {
              "color": "#C8D4E3"
             },
             "line": {
              "color": "white"
             }
            },
            "type": "table"
           }
          ]
         },
         "layout": {
          "annotationdefaults": {
           "arrowcolor": "#2a3f5f",
           "arrowhead": 0,
           "arrowwidth": 1
          },
          "autotypenumbers": "strict",
          "coloraxis": {
           "colorbar": {
            "outlinewidth": 0,
            "ticks": ""
           }
          },
          "colorscale": {
           "diverging": [
            [
             0,
             "#8e0152"
            ],
            [
             0.1,
             "#c51b7d"
            ],
            [
             0.2,
             "#de77ae"
            ],
            [
             0.3,
             "#f1b6da"
            ],
            [
             0.4,
             "#fde0ef"
            ],
            [
             0.5,
             "#f7f7f7"
            ],
            [
             0.6,
             "#e6f5d0"
            ],
            [
             0.7,
             "#b8e186"
            ],
            [
             0.8,
             "#7fbc41"
            ],
            [
             0.9,
             "#4d9221"
            ],
            [
             1,
             "#276419"
            ]
           ],
           "sequential": [
            [
             0,
             "#0d0887"
            ],
            [
             0.1111111111111111,
             "#46039f"
            ],
            [
             0.2222222222222222,
             "#7201a8"
            ],
            [
             0.3333333333333333,
             "#9c179e"
            ],
            [
             0.4444444444444444,
             "#bd3786"
            ],
            [
             0.5555555555555556,
             "#d8576b"
            ],
            [
             0.6666666666666666,
             "#ed7953"
            ],
            [
             0.7777777777777778,
             "#fb9f3a"
            ],
            [
             0.8888888888888888,
             "#fdca26"
            ],
            [
             1,
             "#f0f921"
            ]
           ],
           "sequentialminus": [
            [
             0,
             "#0d0887"
            ],
            [
             0.1111111111111111,
             "#46039f"
            ],
            [
             0.2222222222222222,
             "#7201a8"
            ],
            [
             0.3333333333333333,
             "#9c179e"
            ],
            [
             0.4444444444444444,
             "#bd3786"
            ],
            [
             0.5555555555555556,
             "#d8576b"
            ],
            [
             0.6666666666666666,
             "#ed7953"
            ],
            [
             0.7777777777777778,
             "#fb9f3a"
            ],
            [
             0.8888888888888888,
             "#fdca26"
            ],
            [
             1,
             "#f0f921"
            ]
           ]
          },
          "colorway": [
           "#636efa",
           "#EF553B",
           "#00cc96",
           "#ab63fa",
           "#FFA15A",
           "#19d3f3",
           "#FF6692",
           "#B6E880",
           "#FF97FF",
           "#FECB52"
          ],
          "font": {
           "color": "#2a3f5f"
          },
          "geo": {
           "bgcolor": "white",
           "lakecolor": "white",
           "landcolor": "#E5ECF6",
           "showlakes": true,
           "showland": true,
           "subunitcolor": "white"
          },
          "hoverlabel": {
           "align": "left"
          },
          "hovermode": "closest",
          "mapbox": {
           "style": "light"
          },
          "paper_bgcolor": "white",
          "plot_bgcolor": "#E5ECF6",
          "polar": {
           "angularaxis": {
            "gridcolor": "white",
            "linecolor": "white",
            "ticks": ""
           },
           "bgcolor": "#E5ECF6",
           "radialaxis": {
            "gridcolor": "white",
            "linecolor": "white",
            "ticks": ""
           }
          },
          "scene": {
           "xaxis": {
            "backgroundcolor": "#E5ECF6",
            "gridcolor": "white",
            "gridwidth": 2,
            "linecolor": "white",
            "showbackground": true,
            "ticks": "",
            "zerolinecolor": "white"
           },
           "yaxis": {
            "backgroundcolor": "#E5ECF6",
            "gridcolor": "white",
            "gridwidth": 2,
            "linecolor": "white",
            "showbackground": true,
            "ticks": "",
            "zerolinecolor": "white"
           },
           "zaxis": {
            "backgroundcolor": "#E5ECF6",
            "gridcolor": "white",
            "gridwidth": 2,
            "linecolor": "white",
            "showbackground": true,
            "ticks": "",
            "zerolinecolor": "white"
           }
          },
          "shapedefaults": {
           "line": {
            "color": "#2a3f5f"
           }
          },
          "ternary": {
           "aaxis": {
            "gridcolor": "white",
            "linecolor": "white",
            "ticks": ""
           },
           "baxis": {
            "gridcolor": "white",
            "linecolor": "white",
            "ticks": ""
           },
           "bgcolor": "#E5ECF6",
           "caxis": {
            "gridcolor": "white",
            "linecolor": "white",
            "ticks": ""
           }
          },
          "title": {
           "x": 0.05
          },
          "xaxis": {
           "automargin": true,
           "gridcolor": "white",
           "linecolor": "white",
           "ticks": "",
           "title": {
            "standoff": 15
           },
           "zerolinecolor": "white",
           "zerolinewidth": 2
          },
          "yaxis": {
           "automargin": true,
           "gridcolor": "white",
           "linecolor": "white",
           "ticks": "",
           "title": {
            "standoff": 15
           },
           "zerolinecolor": "white",
           "zerolinewidth": 2
          }
         }
        },
        "title": {
         "text": "gmm Clustering"
        },
        "xaxis": {
         "anchor": "y",
         "autorange": true,
         "domain": [
          0,
          1
         ],
         "range": [
          -68.81889139728483,
          74.67525704899477
         ],
         "title": {
          "text": "principal component1"
         },
         "type": "linear"
        },
        "yaxis": {
         "anchor": "x",
         "autorange": true,
         "domain": [
          0,
          1
         ],
         "range": [
          -42.78611452786404,
          68.16113544077545
         ],
         "title": {
          "text": "principal component2"
         },
         "type": "linear"
        }
       }
      },
      "image/png": "[encoded data removed]",
      "text/html": [
       "<div>                            <div id=\"13a1e42f-3bf7-4a88-b2b5-8e1d366b2e18\" class=\"plotly-graph-div\" style=\"height:525px; width:100%;\"></div>            <script type=\"text/javascript\">                require([\"plotly\"], function(Plotly) {                    window.PLOTLYENV=window.PLOTLYENV || {};                                    if (document.getElementById(\"13a1e42f-3bf7-4a88-b2b5-8e1d366b2e18\")) {                    Plotly.newPlot(                        \"13a1e42f-3bf7-4a88-b2b5-8e1d366b2e18\",                        [{\"hovertemplate\":\"gmm_cluster=3<br>principal component1=%{x}<br>principal component2=%{y}<extra></extra>\",\"legendgroup\":\"3\",\"marker\":{\"color\":\"#636efa\",\"symbol\":\"circle\"},\"mode\":\"markers\",\"name\":\"3\",\"orientation\":\"v\",\"showlegend\":true,\"type\":\"scatter\",\"x\":[-4.773493858324624,8.137963479080199,-14.389907858085534,-3.985741550637446,-6.424721329873284,-0.5167950188998283,6.297122478860953,7.200951070029785,6.400370050429959,-16.886118630652664,1.8997163261279126,-11.767379024469589,11.110506873826711,2.3859722569130604,-0.588983447624752,8.852164962453777,-14.71671491071068,-31.37046385277448,-12.595646944601857,-6.836364072334064,-20.963647377515805,-20.80020824276184,-18.572251957954926,-3.4522750833466467,-16.131601333341035,-11.444052458438213,-4.4216730989635975,-8.964441097136174,-4.750711457066961,-4.360267524612918,-22.092846977990032,-20.35797223983006,3.675228301099427,-17.431623466819392,-8.691043792874446,-24.958446986805093,-19.83943536200316,-10.748424861888063,-0.29615761058379136,-5.61099170176381,2.1273611618916477,1.6217035798534787,-13.678521506792727,-15.053620976390913,-8.51405139726738,-10.260868328582594,-11.667843606465176,-1.9725042104559065,-12.252154311395918,-15.033665128947973,-8.88822869319868,7.288861195931488,2.9904792807962104,0.8157919622305378,-2.3179504438397216,-11.70663426885077,-9.000176492622371,2.1689627846544433,4.054226673915376,-2.588322351900778,-5.567835279381612,8.865308202456436,-15.617813359461985,-6.792892662705352,-11.209493489705766,3.4929190718843817,-12.662447280509292,-5.46077387134498,-8.667217283335312,-13.54529329174933,-6.259713744091462,0.3022628420767004,-0.3313142956020927,-20.230209800288154,-20.28455477087521,-10.55454796738462,-0.5366538394579092,-20.213714848616945,-21.149990359756234,-0.27820573855029695,-6.763257852657341,-24.08080007582298,4.070608624869633,-11.05507443686614,-8.40392419825271,-19.384109213537315,-1.6878301117458818,-4.320993023997409,5.761805450646735,1.055145164537549,-9.724874061192775,-3.051912354686413,-14.119993060525584,1.45294338309021,-4.909124073930026,-22.776414924737118,-22.37405797337223,-6.305353107526523,-4.6834508866761295,-0.23576473661464,-15.108376074768222,-11.35594021219097,-7.527923404484707,-16.985350801848014,-13.171460961310176,-18.302419050411416,-20.161420288007392,-11.272954262535668,0.5441828330115155,2.2278585885555,-3.2724359748048966,-7.14066449083739,-8.813027289677267,-15.0783359477191,-16.525394077248215,-13.251259787761086,-10.477815188672553,-5.520848909460683,-17.48603198410502,-14.282655283314805,-19.801968105430518,-23.14209363892722,-22.164990843954776,-22.141820319093043,-3.353411936599089,1.26572179865556,-3.3923752175814106,0.1553675017720365,9.015903168675214,-15.297718591231698,-5.934965560269427,-24.110134059099,-17.222098301690323,-6.115853252470636,-12.160659110150801,-3.007431154150681,-10.450606279972835,-2.4010328912078,1.4996417377657354,-24.988937725167244,0.49909313989418785,-4.2883520075055825,-15.252291673600865,-22.507946339315463,-10.720465390104453,-21.40979634055162,-4.855468397066617,-5.950050473121065,-17.607820781957404,-3.9448599211326676,-14.05556506584979,-1.7799646770462183,-6.110066390584148,-3.6970206836642694,-10.863347696007036,-12.72018794851517,-23.760961955560447,-10.607988375198653,-4.021683935801754,-14.071332581699489,-9.00181677886433,-3.1935975904731686,-9.94429385686406,-24.042180989593778,-26.720205537784846,-13.706264813204482,-16.159672763277527,8.96614065028605,-14.23010115881268,-19.070947700566617,-4.407868570804701,-12.840701312588108,-19.025942046795844,-17.907385901483433,-11.785873990494862,-6.75002771399337,-17.55030649991277,10.444661236117625,-20.08008655395237,-19.271882401001218,-8.554728647897987,-18.363353010816045,-16.84066585549537,-14.789040052683442,-16.025785160158783,-13.838966726851412,-24.546705543541297,-10.551320540068932,-1.8375567494312999,-8.468750790327187,5.136112323133396,-0.2825940201740935,-17.67196516295715,-12.682074997852062,-8.184540891863861,-6.928105872010634,-8.948828599380551,-11.509809528386954],\"xaxis\":\"x\",\"y\":[-5.433883742782175,-0.6999532396474542,-7.689168645510126,-1.2953708734786817,-10.20976994263244,-3.0485623371839616,-14.137048971888975,0.42120938337024055,4.65852394381743,-12.047250414469286,-10.948528610306331,-14.112993540269413,-7.168865625573682,-5.071026074966515,-10.769858501709214,3.6179245270196176,-20.606989256624054,-5.3446366048580725,1.357876565729136,0.1216334635476189,7.0281847044632855,-3.9836487770240425,0.4005695022267383,4.136359659374705,-3.4309197385735084,-15.411428104560546,-16.465076345574737,-20.389578578285185,-16.241229992526534,-15.330955683328936,-8.87471165640978,-12.019444364322082,-16.42808434265772,1.3920426219230213,0.2661893197883675,4.585853055005746,3.481095385403613,-13.242184600259293,-13.642274853219707,-11.803035297508256,-7.635881140744984,-6.467717752353882,-7.1516180939846485,-0.47715705224613825,-11.030047281507004,-10.034008541683557,-11.80472771693903,-11.37719586537753,-6.486257981180561,-5.623841233187,-16.891660172385215,-6.521126584448583,-0.7142922850347091,-5.273102143948361,-15.580016150657055,-7.551785498874794,-12.731217933518556,-2.3689654870104384,6.5803017443006455,-7.714972104822803,-3.570067202568181,-4.36507972283427,-3.373221237362185,5.734831881753457,5.0276452295266445,-7.9290707029024405,-9.687814687650043,4.85020048844256,9.873657746209734,6.823215955167995,-9.359020727417434,-15.779816917042803,-19.478895591385466,7.0239736661795344,-5.068054931092255,-8.468452737265368,-11.265913846532321,-1.2467790047592204,2.489398820678658,-4.2559976490910145,5.2593627562509315,4.553378492988726,-9.444888751447696,-13.561365820488012,-14.580400229556329,2.287521425464819,-13.081518841335116,-11.05780858253402,-8.325781980973517,-13.46931957965707,-4.2109220147276964,1.5287881412198256,-3.0806541398116263,-12.848228511775215,-10.64835016543696,0.1273164582900575,-5.018092442054645,0.6074402775467033,4.933446656332742,3.319570682464983,0.847035248142588,-2.934948423016341,-13.430288170383413,1.7486145958442392,-17.493586974573883,8.348434562165615,0.5295876422453533,3.2219809777306234,20.882043052685944,2.759283404201007,-6.221675540892686,7.921633165509826,0.5077656717505545,0.10095721647229648,7.140841280303629,10.952391354425913,8.28797108148606,2.676204675230071,-1.2165658795976417,5.324627961380267,-0.9115207451678281,-6.067064200619862,-1.8423043535124002,10.905065295283483,5.31355060589013,0.4043844850623492,-11.381012774239128,-4.620483377566668,-7.333306324162729,7.1989120134857965,4.304525201693892,-11.354430397529239,3.949532963234533,-13.066852786462555,7.149640650559049,-3.7208734274380646,-13.078525870076385,-10.584751158906341,-9.320344288685945,-2.0450429875640834,-12.108915226705957,-14.171306957983278,-17.820890315804427,10.790460644075633,0.5413089924114317,-1.9222511860513751,-0.4101039280330486,-4.084432833978785,-3.922938167879341,-6.8563276045063635,1.5806674780978414,-13.614517060775611,-7.844133090531011,-1.5635831787491972,7.241799446197096,5.232498210950182,4.934480684718835,0.08277069666485899,3.173139809238022,-1.8983696990623509,5.98159392702461,-12.683534187693173,-1.6419390589854994,3.6499949155294025,7.170297128273179,6.496423047574284,5.485862072201583,16.482645663771383,6.3101038197497035,4.967439136187826,8.558828042176991,7.503409308912206,-2.0437012693879715,-2.5674119118248053,7.742066375280145,1.655756067899996,9.969835964106464,-8.190692603089737,-4.004408717941037,17.94932156146864,5.027866051793976,19.003333649185418,24.138896324068817,10.421699717794173,14.373450586428975,-9.012806447641902,20.837114207490842,18.24567825006432,4.619958486111794,19.055623707934878,26.5724721511937,-8.827554201423991,11.142357174254002,12.747383910547198,4.572723026033705,5.699994528872853,-8.5027493379716,2.0766129217081524],\"yaxis\":\"y\"},{\"hovertemplate\":\"gmm_cluster=0<br>principal component1=%{x}<br>principal component2=%{y}<extra></extra>\",\"legendgroup\":\"0\",\"marker\":{\"color\":\"#EF553B\",\"symbol\":\"circle\"},\"mode\":\"markers\",\"name\":\"0\",\"orientation\":\"v\",\"showlegend\":true,\"type\":\"scatter\",\"x\":[47.445715406677024,2.9531159200223036,-5.959637350099268,46.84907108537473,36.758794538971486,51.37603817609402,24.36325734640212,31.45515417380233,22.730801209298978,3.4855153660545564,15.454951542805661,20.70510770216275,44.826911697789534,29.064004133188536,24.43548654901645,11.074437692648916,8.912087021013035,16.5054798408386,-6.873724750141992,-5.827467019993857,-4.463682999960471,23.79970339538129,1.0778445793262046,51.375660626531285,1.150776372043163,1.6301919198369987,19.52076511934897,14.39320185093763,-12.065390651350032,30.41535626856748,44.20147156744761,47.057750714340486,32.68009652478721,6.9412089080465424,18.801176440614256,67.01401883402839,0.3642444072796179,22.034747748740738,0.5167214623959961,14.448512343580084,17.792054862600068,32.072444699386345],\"xaxis\":\"x\",\"y\":[18.113711348751284,7.206615080043781,-8.473941463153864,6.121222829009809,-2.5998486833061727,0.6697359933871408,-6.950845139734476,-5.1925707901391345,4.448014858207549,-12.017330898262674,2.1459467899842375,-3.349162272305787,-0.37863658231389147,-6.6883551112967865,-5.04970529578755,4.732996821412374,-5.099844995467078,1.5770009068822366,7.274424594626931,8.976214974629494,6.3566263974184265,-9.54332283213143,-8.591068258521695,14.443485898886088,2.1340907351646035,4.299134845010805,5.0211713046385675,-0.7078625928739429,14.711737312758766,-4.127460929176919,2.0700408666957664,6.8791776877525015,24.70864956693696,-0.7331777138062505,28.015820407795136,30.378833770488875,-1.9511924294511596,-6.897054770391231,13.061758360204045,9.71689913862962,16.62240032706298,2.899770116583674],\"yaxis\":\"y\"},{\"hovertemplate\":\"gmm_cluster=1<br>principal component1=%{x}<br>principal component2=%{y}<extra></extra>\",\"legendgroup\":\"1\",\"marker\":{\"color\":\"#00cc96\",\"symbol\":\"circle\"},\"mode\":\"markers\",\"name\":\"1\",\"orientation\":\"v\",\"showlegend\":true,\"type\":\"scatter\",\"x\":[10.054417963225527,33.95841361437067,40.31073143787115,45.81709750851273,45.21789884639185,29.94342447516328,37.34172324780362,16.4775069216668,14.59491816878946,13.339972724404296,32.38392347635124,26.121479940062393,26.900372709906335,21.043726198757845,25.376373068118593,18.337809351507808,31.163009695081875,9.860863693419327,11.867318287964752,37.11194030268369,11.5229554054007,-3.0102452623348785,13.71033488075347,35.58358056185923,34.955666668111,10.426788344583528,33.62142663261783,23.223593844889436,11.574458828018585,23.162782791089708,13.925633012545633,9.366153465998242,13.715162854676365,16.407428294901347,29.13956197261374,37.945329508679635,39.025796853254775,10.724175193890694,3.5145763522391826,3.531708706802495,16.158509546792466,17.378364123867875,7.130286992546299,4.032195233280632,22.431280056517977,9.086925618748777,22.798755799959295,6.249293139022356,14.191715716807565,15.585101765933397,13.126085159146982,-0.8921910407399064,3.2478331681100183,14.524680935209904,4.278705097461279,9.913149364969058,19.81064716314904,23.676338457528487,12.074828914618907,22.452694969232606,2.2479072336229122,6.7210965585894,31.005409201222648,14.602798481701376,13.054884647705157,12.491003556125293,24.904479583524488,20.62020767834135,29.70618605211615,20.9889939399988,23.28566814080905,5.262555669302666,-1.0684108796043688,15.727815641500504,43.5861729812571,2.8949457231025333,10.841472503053485,14.068414446063462,22.414710180798753,26.54596604170347,14.005592761538532,18.14909297876497,25.34753466279016,9.773320899655547,8.134593717778413,14.440314983581475,14.269825429380148,9.72329372623468,27.257327120466076,23.43455586623582,21.247577998164335,24.30368269951484,25.172599435240457,24.995467272981603,31.770982739489,28.535931109892594,42.48440488369793,20.92688072442249,37.16386653487291,-7.153285885860223,8.646558053704313,14.674705287486432,-1.8869076155252527,12.939978695736754,3.5586447337441705,19.43565215553632,17.367342202651333,-0.09361832990830318,11.386065638041986,18.443741029484322,13.493478851230721,1.4305382224689087,25.32522239448872,21.281088782422604,8.033417161887407,-14.55338258058569,19.74437600341461,4.014684490498012,-14.835846764522351,37.21110560393568,7.940027417277385,15.791927430812809,11.193127883861008,15.91153629632481,-16.550132002496408,19.685576662225408,20.093539625152793,1.8325368473182013,7.659794316357647,15.851340170719952],\"xaxis\":\"x\",\"y\":[23.597620498940977,12.913589239939721,9.157818475484142,0.5324204627177498,5.266537494272316,-6.610462895479511,3.6886963536464994,2.1687217409939423,-3.964233520532306,-9.91567296510878,6.0770766205954185,-0.5870865937404686,-7.970571069074659,1.4034812950091327,-3.8074349946363877,-0.8554908689493119,-4.618142192230593,5.624956977253936,-2.603441492227274,3.876322435630608,-4.930117694640581,6.5053454732948,-11.980290194683734,-0.7589782563076324,6.630259887400757,-13.118910353035258,-10.715713618079485,4.15723008581797,-3.8961039774281474,0.21774342561491233,15.34052219145931,0.7199067641522888,-7.884137765863024,-5.363426112197713,-4.894011943734585,2.958214886147429,0.6713269019872009,-2.11571675790161,-2.2121405558830607,2.6427642228483634,3.7789275390317436,12.495916083174924,2.540418919130487,-6.201093583375333,-9.11572075683562,-3.568161170862715,-2.1150811163885135,-17.441975169151583,-4.810453312026448,-1.8832021819660127,-5.792440241646582,0.6170545742869692,5.676173543117939,-10.493849771209613,4.731062313880695,-0.9854819836246994,-0.9028497614806608,-1.983837446724624,-2.3062191845444873,1.8270651207583062,-19.516231997597572,1.983580664548127,15.47089822947395,-5.62626416924566,3.083288429569199,-16.896372538053757,-7.611970059900434,-8.6027124089865,-10.488938503807109,-3.4188479129922102,-3.1745670557614463,23.500495570846944,-2.721739143692643,-6.221022268104793,8.273884029740788,1.460843809260311,-4.804682650148005,11.855881534512664,-5.355291601003215,-10.00357953067361,-6.3553450479316655,25.85026649355182,23.288115564163945,0.3630113155376313,2.083469139888197,7.832720250758323,-3.6011566332471094,-4.828346907612226,5.191480089457302,7.219044503911549,11.330553290796923,6.929572603980558,0.3570517223620605,3.023846564650428,15.188431969374433,6.012073365497058,9.625738515411145,-3.6276177224689965,-6.59162164851546,2.512159881826099,1.1829844929154718,-9.089457144236562,1.4795948846970288,5.235628161203554,11.033904493411738,8.835946752135136,21.423442726468874,3.198402837816207,-19.57643155952672,14.993225179525785,19.417912055605488,6.66793892335016,-17.639626713010177,2.561971889172591,-1.4390193286881081,-6.912766165266057,10.612966357341957,3.9676689178408964,-0.3780284720264145,-2.1756498180243624,-1.042196459992814,-2.4810383484786356,-7.5440882809375545,-5.1466287260220565,-0.6915355497889447,29.992457125172358,-20.323087118541306,-11.363964177498586,6.556724524993891,5.820271257856657],\"yaxis\":\"y\"},{\"hovertemplate\":\"gmm_cluster=2<br>principal component1=%{x}<br>principal component2=%{y}<extra></extra>\",\"legendgroup\":\"2\",\"marker\":{\"color\":\"#ab63fa\",\"symbol\":\"circle\"},\"mode\":\"markers\",\"name\":\"2\",\"orientation\":\"v\",\"showlegend\":true,\"type\":\"scatter\",\"x\":[-23.9265453716645,-34.11502677873862,-45.96591336875818,-15.309142365522279,-23.31452374919098,-33.3664323186846,-29.418576414870667,-35.29700395281856,3.985229308572591,3.5254475137531607,-28.61306363003839,-54.722893652299156,-14.551173751516837,-14.79938479413902,-34.011910026584594,-15.951009373204279,-11.928717402315666,15.444636169037928,2.785870252380874,-0.7561319267186112,-26.273321935597814,-61.15765318231846,-33.505091955556985,-7.997734305764291,-21.940672533666433,-41.426383133757625,-11.236488950760883,-23.718313325445084,-12.70016452618557,-55.88689084939069,-18.834005827097002,-34.33383526354213,-27.497630889950123,-28.613964209280457,-10.978439823812327,-27.615526303967744,-20.595062650940463,-15.629142178960247,-18.414251473581995,-23.93639626408277,-34.28494347373854,-2.1920404090915406,-42.05696887027323,-29.15523907962268,-24.215958504960835,-54.74093393941594,2.6093065004571736,-45.91507734912089,-53.34568774247701,-47.03474747747645,-13.346219266712371,10.484876501635723,-11.669030768755283],\"xaxis\":\"x\",\"y\":[-25.698981322964418,-34.35141477119042,-29.521720856161828,-4.6986994693360025,-22.748701442269212,19.976564397691014,26.052324565265224,38.989513612885595,-13.569404398531967,-17.562155587519793,-9.181454461148777,43.87814789210448,-27.868669888427338,-14.380001020740266,30.698835710301697,12.480740108675702,-10.26525726947427,24.618638847846135,-13.741027720410138,-24.920010691099783,8.388069195728908,-17.811123353850014,20.96207391139181,-17.751217678100335,-0.36949009846079794,-12.70013877358502,-17.591030773523403,-4.727924680996485,-7.910693229944546,-34.92735098841874,6.159927933919876,-1.3159429722675269,-2.8638725840491497,-3.61778293976251,60.30237190133016,3.926660311776161,13.850220621241704,11.709508631784123,15.467736508433923,5.451896734543716,9.646923533014602,-26.145108289203822,14.25281888328531,7.823243076278062,15.621545404482369,-24.214666694279643,57.40825427954292,48.82996927918372,52.243777874243825,52.15403533585588,2.15375478821784,-14.10564355525129,-14.529147409854215],\"yaxis\":\"y\"}],                        {\"legend\":{\"title\":{\"text\":\"gmm_cluster\"},\"tracegroupgap\":0},\"template\":{\"data\":{\"bar\":[{\"error_x\":{\"color\":\"#2a3f5f\"},\"error_y\":{\"color\":\"#2a3f5f\"},\"marker\":{\"line\":{\"color\":\"#E5ECF6\",\"width\":0.5},\"pattern\":{\"fillmode\":\"overlay\",\"size\":10,\"solidity\":0.2}},\"type\":\"bar\"}],\"barpolar\":[{\"marker\":{\"line\":{\"color\":\"#E5ECF6\",\"width\":0.5},\"pattern\":{\"fillmode\":\"overlay\",\"size\":10,\"solidity\":0.2}},\"type\":\"barpolar\"}],\"carpet\":[{\"aaxis\":{\"endlinecolor\":\"#2a3f5f\",\"gridcolor\":\"white\",\"linecolor\":\"white\",\"minorgridcolor\":\"white\",\"startlinecolor\":\"#2a3f5f\"},\"baxis\":{\"endlinecolor\":\"#2a3f5f\",\"gridcolor\":\"white\",\"linecolor\":\"white\",\"minorgridcolor\":\"white\",\"startlinecolor\":\"#2a3f5f\"},\"type\":\"carpet\"}],\"choropleth\":[{\"colorbar\":{\"outlinewidth\":0,\"ticks\":\"\"},\"type\":\"choropleth\"}],\"contour\":[{\"colorbar\":{\"outlinewidth\":0,\"ticks\":\"\"},\"colorscale\":[[0.0,\"#0d0887\"],[0.1111111111111111,\"#46039f\"],[0.2222222222222222,\"#7201a8\"],[0.3333333333333333,\"#9c179e\"],[0.4444444444444444,\"#bd3786\"],[0.5555555555555556,\"#d8576b\"],[0.6666666666666666,\"#ed7953\"],[0.7777777777777778,\"#fb9f3a\"],[0.8888888888888888,\"#fdca26\"],[1.0,\"#f0f921\"]],\"type\":\"contour\"}],\"contourcarpet\":[{\"colorbar\":{\"outlinewidth\":0,\"ticks\":\"\"},\"type\":\"contourcarpet\"}],\"heatmap\":[{\"colorbar\":{\"outlinewidth\":0,\"ticks\":\"\"},\"colorscale\":[[0.0,\"#0d0887\"],[0.1111111111111111,\"#46039f\"],[0.2222222222222222,\"#7201a8\"],[0.3333333333333333,\"#9c179e\"],[0.4444444444444444,\"#bd3786\"],[0.5555555555555556,\"#d8576b\"],[0.6666666666666666,\"#ed7953\"],[0.7777777777777778,\"#fb9f3a\"],[0.8888888888888888,\"#fdca26\"],[1.0,\"#f0f921\"]],\"type\":\"heatmap\"}],\"heatmapgl\":[{\"colorbar\":{\"outlinewidth\":0,\"ticks\":\"\"},\"colorscale\":[[0.0,\"#0d0887\"],[0.1111111111111111,\"#46039f\"],[0.2222222222222222,\"#7201a8\"],[0.3333333333333333,\"#9c179e\"],[0.4444444444444444,\"#bd3786\"],[0.5555555555555556,\"#d8576b\"],[0.6666666666666666,\"#ed7953\"],[0.7777777777777778,\"#fb9f3a\"],[0.8888888888888888,\"#fdca26\"],[1.0,\"#f0f921\"]],\"type\":\"heatmapgl\"}],\"histogram\":[{\"marker\":{\"pattern\":{\"fillmode\":\"overlay\",\"size\":10,\"solidity\":0.2}},\"type\":\"histogram\"}],\"histogram2d\":[{\"colorbar\":{\"outlinewidth\":0,\"ticks\":\"\"},\"colorscale\":[[0.0,\"#0d0887\"],[0.1111111111111111,\"#46039f\"],[0.2222222222222222,\"#7201a8\"],[0.3333333333333333,\"#9c179e\"],[0.4444444444444444,\"#bd3786\"],[0.5555555555555556,\"#d8576b\"],[0.6666666666666666,\"#ed7953\"],[0.7777777777777778,\"#fb9f3a\"],[0.8888888888888888,\"#fdca26\"],[1.0,\"#f0f921\"]],\"type\":\"histogram2d\"}],\"histogram2dcontour\":[{\"colorbar\":{\"outlinewidth\":0,\"ticks\":\"\"},\"colorscale\":[[0.0,\"#0d0887\"],[0.1111111111111111,\"#46039f\"],[0.2222222222222222,\"#7201a8\"],[0.3333333333333333,\"#9c179e\"],[0.4444444444444444,\"#bd3786\"],[0.5555555555555556,\"#d8576b\"],[0.6666666666666666,\"#ed7953\"],[0.7777777777777778,\"#fb9f3a\"],[0.8888888888888888,\"#fdca26\"],[1.0,\"#f0f921\"]],\"type\":\"histogram2dcontour\"}],\"mesh3d\":[{\"colorbar\":{\"outlinewidth\":0,\"ticks\":\"\"},\"type\":\"mesh3d\"}],\"parcoords\":[{\"line\":{\"colorbar\":{\"outlinewidth\":0,\"ticks\":\"\"}},\"type\":\"parcoords\"}],\"pie\":[{\"automargin\":true,\"type\":\"pie\"}],\"scatter\":[{\"marker\":{\"colorbar\":{\"outlinewidth\":0,\"ticks\":\"\"}},\"type\":\"scatter\"}],\"scatter3d\":[{\"line\":{\"colorbar\":{\"outlinewidth\":0,\"ticks\":\"\"}},\"marker\":{\"colorbar\":{\"outlinewidth\":0,\"ticks\":\"\"}},\"type\":\"scatter3d\"}],\"scattercarpet\":[{\"marker\":{\"colorbar\":{\"outlinewidth\":0,\"ticks\":\"\"}},\"type\":\"scattercarpet\"}],\"scattergeo\":[{\"marker\":{\"colorbar\":{\"outlinewidth\":0,\"ticks\":\"\"}},\"type\":\"scattergeo\"}],\"scattergl\":[{\"marker\":{\"colorbar\":{\"outlinewidth\":0,\"ticks\":\"\"}},\"type\":\"scattergl\"}],\"scattermapbox\":[{\"marker\":{\"colorbar\":{\"outlinewidth\":0,\"ticks\":\"\"}},\"type\":\"scattermapbox\"}],\"scatterpolar\":[{\"marker\":{\"colorbar\":{\"outlinewidth\":0,\"ticks\":\"\"}},\"type\":\"scatterpolar\"}],\"scatterpolargl\":[{\"marker\":{\"colorbar\":{\"outlinewidth\":0,\"ticks\":\"\"}},\"type\":\"scatterpolargl\"}],\"scatterternary\":[{\"marker\":{\"colorbar\":{\"outlinewidth\":0,\"ticks\":\"\"}},\"type\":\"scatterternary\"}],\"surface\":[{\"colorbar\":{\"outlinewidth\":0,\"ticks\":\"\"},\"colorscale\":[[0.0,\"#0d0887\"],[0.1111111111111111,\"#46039f\"],[0.2222222222222222,\"#7201a8\"],[0.3333333333333333,\"#9c179e\"],[0.4444444444444444,\"#bd3786\"],[0.5555555555555556,\"#d8576b\"],[0.6666666666666666,\"#ed7953\"],[0.7777777777777778,\"#fb9f3a\"],[0.8888888888888888,\"#fdca26\"],[1.0,\"#f0f921\"]],\"type\":\"surface\"}],\"table\":[{\"cells\":{\"fill\":{\"color\":\"#EBF0F8\"},\"line\":{\"color\":\"white\"}},\"header\":{\"fill\":{\"color\":\"#C8D4E3\"},\"line\":{\"color\":\"white\"}},\"type\":\"table\"}]},\"layout\":{\"annotationdefaults\":{\"arrowcolor\":\"#2a3f5f\",\"arrowhead\":0,\"arrowwidth\":1},\"autotypenumbers\":\"strict\",\"coloraxis\":{\"colorbar\":{\"outlinewidth\":0,\"ticks\":\"\"}},\"colorscale\":{\"diverging\":[[0,\"#8e0152\"],[0.1,\"#c51b7d\"],[0.2,\"#de77ae\"],[0.3,\"#f1b6da\"],[0.4,\"#fde0ef\"],[0.5,\"#f7f7f7\"],[0.6,\"#e6f5d0\"],[0.7,\"#b8e186\"],[0.8,\"#7fbc41\"],[0.9,\"#4d9221\"],[1,\"#276419\"]],\"sequential\":[[0.0,\"#0d0887\"],[0.1111111111111111,\"#46039f\"],[0.2222222222222222,\"#7201a8\"],[0.3333333333333333,\"#9c179e\"],[0.4444444444444444,\"#bd3786\"],[0.5555555555555556,\"#d8576b\"],[0.6666666666666666,\"#ed7953\"],[0.7777777777777778,\"#fb9f3a\"],[0.8888888888888888,\"#fdca26\"],[1.0,\"#f0f921\"]],\"sequentialminus\":[[0.0,\"#0d0887\"],[0.1111111111111111,\"#46039f\"],[0.2222222222222222,\"#7201a8\"],[0.3333333333333333,\"#9c179e\"],[0.4444444444444444,\"#bd3786\"],[0.5555555555555556,\"#d8576b\"],[0.6666666666666666,\"#ed7953\"],[0.7777777777777778,\"#fb9f3a\"],[0.8888888888888888,\"#fdca26\"],[1.0,\"#f0f921\"]]},\"colorway\":[\"#636efa\",\"#EF553B\",\"#00cc96\",\"#ab63fa\",\"#FFA15A\",\"#19d3f3\",\"#FF6692\",\"#B6E880\",\"#FF97FF\",\"#FECB52\"],\"font\":{\"color\":\"#2a3f5f\"},\"geo\":{\"bgcolor\":\"white\",\"lakecolor\":\"white\",\"landcolor\":\"#E5ECF6\",\"showlakes\":true,\"showland\":true,\"subunitcolor\":\"white\"},\"hoverlabel\":{\"align\":\"left\"},\"hovermode\":\"closest\",\"mapbox\":{\"style\":\"light\"},\"paper_bgcolor\":\"white\",\"plot_bgcolor\":\"#E5ECF6\",\"polar\":{\"angularaxis\":{\"gridcolor\":\"white\",\"linecolor\":\"white\",\"ticks\":\"\"},\"bgcolor\":\"#E5ECF6\",\"radialaxis\":{\"gridcolor\":\"white\",\"linecolor\":\"white\",\"ticks\":\"\"}},\"scene\":{\"xaxis\":{\"backgroundcolor\":\"#E5ECF6\",\"gridcolor\":\"white\",\"gridwidth\":2,\"linecolor\":\"white\",\"showbackground\":true,\"ticks\":\"\",\"zerolinecolor\":\"white\"},\"yaxis\":{\"backgroundcolor\":\"#E5ECF6\",\"gridcolor\":\"white\",\"gridwidth\":2,\"linecolor\":\"white\",\"showbackground\":true,\"ticks\":\"\",\"zerolinecolor\":\"white\"},\"zaxis\":{\"backgroundcolor\":\"#E5ECF6\",\"gridcolor\":\"white\",\"gridwidth\":2,\"linecolor\":\"white\",\"showbackground\":true,\"ticks\":\"\",\"zerolinecolor\":\"white\"}},\"shapedefaults\":{\"line\":{\"color\":\"#2a3f5f\"}},\"ternary\":{\"aaxis\":{\"gridcolor\":\"white\",\"linecolor\":\"white\",\"ticks\":\"\"},\"baxis\":{\"gridcolor\":\"white\",\"linecolor\":\"white\",\"ticks\":\"\"},\"bgcolor\":\"#E5ECF6\",\"caxis\":{\"gridcolor\":\"white\",\"linecolor\":\"white\",\"ticks\":\"\"}},\"title\":{\"x\":0.05},\"xaxis\":{\"automargin\":true,\"gridcolor\":\"white\",\"linecolor\":\"white\",\"ticks\":\"\",\"title\":{\"standoff\":15},\"zerolinecolor\":\"white\",\"zerolinewidth\":2},\"yaxis\":{\"automargin\":true,\"gridcolor\":\"white\",\"linecolor\":\"white\",\"ticks\":\"\",\"title\":{\"standoff\":15},\"zerolinecolor\":\"white\",\"zerolinewidth\":2}}},\"title\":{\"text\":\"gmm Clustering\"},\"xaxis\":{\"anchor\":\"y\",\"domain\":[0.0,1.0],\"title\":{\"text\":\"principal component1\"}},\"yaxis\":{\"anchor\":\"x\",\"domain\":[0.0,1.0],\"title\":{\"text\":\"principal component2\"}}},                        {\"responsive\": true}                    ).then(function(){\n",
       "                            \n",
       "var gd = document.getElementById('13a1e42f-3bf7-4a88-b2b5-8e1d366b2e18');\n",
       "var x = new MutationObserver(function (mutations, observer) {{\n",
       "        var display = window.getComputedStyle(gd).display;\n",
       "        if (!display || display === 'none') {{\n",
       "            console.log([gd, 'removed!']);\n",
       "            Plotly.purge(gd);\n",
       "            observer.disconnect();\n",
       "        }}\n",
       "}});\n",
       "\n",
       "// Listen for the removal of the full notebook cells\n",
       "var notebookContainer = gd.closest('#notebook-container');\n",
       "if (notebookContainer) {{\n",
       "    x.observe(notebookContainer, {childList: true});\n",
       "}}\n",
       "\n",
       "// Listen for the clearing of the current output cell\n",
       "var outputEl = gd.closest('.output');\n",
       "if (outputEl) {{\n",
       "    x.observe(outputEl, {childList: true});\n",
       "}}\n",
       "\n",
       "                        })                };                });            </script>        </div>"
      ]
     },
     "metadata": {},
     "output_type": "display_data"
    }
   ],
   "source": [
    "import plotly.express as px\n",
    "fig = px.scatter(df1_plot_final, x=\"principal component1\", y=\"principal component2\",\n",
    "                 color=\"gmm_cluster\", # Species 열의 값에 따라서 색깔 표현\n",
    "                 title='gmm Clustering' # 그래프 타이틀 지정\n",
    "                )\n",
    "fig.show()"
   ]
  },
  {
   "cell_type": "code",
   "execution_count": 55,
   "id": "13355c05-eae6-4eca-9928-c063857151f9",
   "metadata": {},
   "outputs": [
    {
     "name": "stderr",
     "output_type": "stream",
     "text": [
      "c:\\programdata\\miniconda3\\lib\\site-packages\\matplotlib\\backends\\backend_agg.py:238: RuntimeWarning:\n",
      "\n",
      "Glyph 8722 missing from current font.\n",
      "\n",
      "c:\\programdata\\miniconda3\\lib\\site-packages\\matplotlib\\backends\\backend_agg.py:201: RuntimeWarning:\n",
      "\n",
      "Glyph 8722 missing from current font.\n",
      "\n"
     ]
    },
    {
     "data": {
      "text/plain": [
       "Text(0.5, 1.0, 'GMM')"
      ]
     },
     "execution_count": 55,
     "metadata": {},
     "output_type": "execute_result"
    },
    {
     "data": {
      "image/png": "[encoded data removed]",
      "text/plain": [
       "<Figure size 1505.88x720 with 1 Axes>"
      ]
     },
     "metadata": {
      "needs_background": "light"
     },
     "output_type": "display_data"
    }
   ],
   "source": [
    "sns.relplot(data=df1_plot_final, x='principal component1', y='principal component2', hue='gmm_cluster', palette='tab10',s=200, kind='scatter',height=10, aspect=2)\n",
    "plt.title('GMM')"
   ]
  },
  {
   "cell_type": "markdown",
   "id": "f35d6a43-2b2d-41cb-ba5a-e6299abe18d5",
   "metadata": {},
   "source": [
    "## 타켓 클러스터 (cluster 3)"
   ]
  },
  {
   "cell_type": "code",
   "execution_count": 59,
   "id": "fb04f81a-2ca0-407f-add1-7e56f52ad8bd",
   "metadata": {},
   "outputs": [],
   "source": [
    "data_a_target = data_a[['과거대비인구변화(%)','최근인구변화(연속감소년수)','과거대비사업체변화(%)','최근사업체변화(연속감소년수)','노후건축물비율(%)', '노인인구비율', \n",
    "                  '기초생활 대상자 비율','행정동코드']] #타겟 클러스터 저장할 정보 저장(cluster 정보 제외)"
   ]
  },
  {
   "cell_type": "code",
   "execution_count": 60,
   "id": "5f7197ef-3aa6-4a62-b810-fe07dc505d92",
   "metadata": {},
   "outputs": [
    {
     "data": {
      "text/html": [
       "<div>\n",
       "<style scoped>\n",
       "    .dataframe tbody tr th:only-of-type {\n",
       "        vertical-align: middle;\n",
       "    }\n",
       "\n",
       "    .dataframe tbody tr th {\n",
       "        vertical-align: top;\n",
       "    }\n",
       "\n",
       "    .dataframe thead th {\n",
       "        text-align: right;\n",
       "    }\n",
       "</style>\n",
       "<table border=\"1\" class=\"dataframe\">\n",
       "  <thead>\n",
       "    <tr style=\"text-align: right;\">\n",
       "      <th></th>\n",
       "      <th>과거대비인구변화(%)</th>\n",
       "      <th>최근인구변화(연속감소년수)</th>\n",
       "      <th>과거대비사업체변화(%)</th>\n",
       "      <th>최근사업체변화(연속감소년수)</th>\n",
       "      <th>노후건축물비율(%)</th>\n",
       "      <th>노인인구비율</th>\n",
       "      <th>기초생활 대상자 비율</th>\n",
       "      <th>행정동코드</th>\n",
       "    </tr>\n",
       "  </thead>\n",
       "  <tbody>\n",
       "    <tr>\n",
       "      <th>1</th>\n",
       "      <td>-71.395349</td>\n",
       "      <td>3</td>\n",
       "      <td>-2.691790</td>\n",
       "      <td>1</td>\n",
       "      <td>77.192982</td>\n",
       "      <td>4.398734</td>\n",
       "      <td>0.016852</td>\n",
       "      <td>1101054.0</td>\n",
       "    </tr>\n",
       "    <tr>\n",
       "      <th>5</th>\n",
       "      <td>-17.639112</td>\n",
       "      <td>2</td>\n",
       "      <td>-45.133992</td>\n",
       "      <td>1</td>\n",
       "      <td>65.089723</td>\n",
       "      <td>6.406580</td>\n",
       "      <td>0.021841</td>\n",
       "      <td>1101058.0</td>\n",
       "    </tr>\n",
       "    <tr>\n",
       "      <th>7</th>\n",
       "      <td>-10.256026</td>\n",
       "      <td>4</td>\n",
       "      <td>-3.794240</td>\n",
       "      <td>4</td>\n",
       "      <td>75.576037</td>\n",
       "      <td>4.275792</td>\n",
       "      <td>0.116744</td>\n",
       "      <td>1101061.0</td>\n",
       "    </tr>\n",
       "    <tr>\n",
       "      <th>8</th>\n",
       "      <td>-64.354556</td>\n",
       "      <td>3</td>\n",
       "      <td>-6.558862</td>\n",
       "      <td>5</td>\n",
       "      <td>87.413555</td>\n",
       "      <td>5.176142</td>\n",
       "      <td>0.053336</td>\n",
       "      <td>1101063.0</td>\n",
       "    </tr>\n",
       "    <tr>\n",
       "      <th>18</th>\n",
       "      <td>-49.221646</td>\n",
       "      <td>2</td>\n",
       "      <td>-16.137566</td>\n",
       "      <td>4</td>\n",
       "      <td>90.170512</td>\n",
       "      <td>4.079104</td>\n",
       "      <td>0.104970</td>\n",
       "      <td>1102054.0</td>\n",
       "    </tr>\n",
       "    <tr>\n",
       "      <th>23</th>\n",
       "      <td>-64.764320</td>\n",
       "      <td>2</td>\n",
       "      <td>-12.184664</td>\n",
       "      <td>4</td>\n",
       "      <td>94.223827</td>\n",
       "      <td>4.045455</td>\n",
       "      <td>0.069302</td>\n",
       "      <td>1102060.0</td>\n",
       "    </tr>\n",
       "    <tr>\n",
       "      <th>34</th>\n",
       "      <td>-37.757063</td>\n",
       "      <td>5</td>\n",
       "      <td>-7.171776</td>\n",
       "      <td>1</td>\n",
       "      <td>88.413098</td>\n",
       "      <td>5.094315</td>\n",
       "      <td>0.177594</td>\n",
       "      <td>1103053.0</td>\n",
       "    </tr>\n",
       "    <tr>\n",
       "      <th>91</th>\n",
       "      <td>-42.260503</td>\n",
       "      <td>5</td>\n",
       "      <td>-20.799408</td>\n",
       "      <td>4</td>\n",
       "      <td>89.893617</td>\n",
       "      <td>6.585801</td>\n",
       "      <td>0.031246</td>\n",
       "      <td>1106089.0</td>\n",
       "    </tr>\n",
       "    <tr>\n",
       "      <th>96</th>\n",
       "      <td>-38.042701</td>\n",
       "      <td>4</td>\n",
       "      <td>-25.418060</td>\n",
       "      <td>4</td>\n",
       "      <td>77.196885</td>\n",
       "      <td>6.794037</td>\n",
       "      <td>0.051702</td>\n",
       "      <td>1107055.0</td>\n",
       "    </tr>\n",
       "    <tr>\n",
       "      <th>101</th>\n",
       "      <td>-16.016399</td>\n",
       "      <td>3</td>\n",
       "      <td>-9.674185</td>\n",
       "      <td>2</td>\n",
       "      <td>83.068783</td>\n",
       "      <td>5.119463</td>\n",
       "      <td>0.093365</td>\n",
       "      <td>1107062.0</td>\n",
       "    </tr>\n",
       "    <tr>\n",
       "      <th>104</th>\n",
       "      <td>-35.651936</td>\n",
       "      <td>3</td>\n",
       "      <td>0.782998</td>\n",
       "      <td>0</td>\n",
       "      <td>76.416185</td>\n",
       "      <td>5.159952</td>\n",
       "      <td>0.103489</td>\n",
       "      <td>1107068.0</td>\n",
       "    </tr>\n",
       "    <tr>\n",
       "      <th>122</th>\n",
       "      <td>-33.289194</td>\n",
       "      <td>5</td>\n",
       "      <td>-21.405049</td>\n",
       "      <td>4</td>\n",
       "      <td>83.194444</td>\n",
       "      <td>6.138646</td>\n",
       "      <td>0.095925</td>\n",
       "      <td>1108076.0</td>\n",
       "    </tr>\n",
       "    <tr>\n",
       "      <th>123</th>\n",
       "      <td>-53.440033</td>\n",
       "      <td>4</td>\n",
       "      <td>-36.621622</td>\n",
       "      <td>5</td>\n",
       "      <td>91.500000</td>\n",
       "      <td>4.530440</td>\n",
       "      <td>0.069479</td>\n",
       "      <td>1108077.0</td>\n",
       "    </tr>\n",
       "    <tr>\n",
       "      <th>124</th>\n",
       "      <td>-32.177664</td>\n",
       "      <td>3</td>\n",
       "      <td>-57.370892</td>\n",
       "      <td>4</td>\n",
       "      <td>89.341085</td>\n",
       "      <td>7.749169</td>\n",
       "      <td>0.035987</td>\n",
       "      <td>1108078.0</td>\n",
       "    </tr>\n",
       "    <tr>\n",
       "      <th>131</th>\n",
       "      <td>-38.284953</td>\n",
       "      <td>5</td>\n",
       "      <td>-9.188034</td>\n",
       "      <td>2</td>\n",
       "      <td>86.681465</td>\n",
       "      <td>4.099747</td>\n",
       "      <td>0.107682</td>\n",
       "      <td>1109061.0</td>\n",
       "    </tr>\n",
       "    <tr>\n",
       "      <th>132</th>\n",
       "      <td>-31.675361</td>\n",
       "      <td>5</td>\n",
       "      <td>-4.950495</td>\n",
       "      <td>2</td>\n",
       "      <td>71.848739</td>\n",
       "      <td>3.718912</td>\n",
       "      <td>0.154407</td>\n",
       "      <td>1109062.0</td>\n",
       "    </tr>\n",
       "    <tr>\n",
       "      <th>136</th>\n",
       "      <td>-21.462392</td>\n",
       "      <td>5</td>\n",
       "      <td>-23.106061</td>\n",
       "      <td>3</td>\n",
       "      <td>79.148753</td>\n",
       "      <td>5.007851</td>\n",
       "      <td>0.071465</td>\n",
       "      <td>1109069.0</td>\n",
       "    </tr>\n",
       "    <tr>\n",
       "      <th>148</th>\n",
       "      <td>-34.055939</td>\n",
       "      <td>5</td>\n",
       "      <td>-10.144928</td>\n",
       "      <td>3</td>\n",
       "      <td>77.088036</td>\n",
       "      <td>4.660000</td>\n",
       "      <td>0.113832</td>\n",
       "      <td>1110056.0</td>\n",
       "    </tr>\n",
       "    <tr>\n",
       "      <th>158</th>\n",
       "      <td>-13.216176</td>\n",
       "      <td>1</td>\n",
       "      <td>-22.734761</td>\n",
       "      <td>2</td>\n",
       "      <td>60.879121</td>\n",
       "      <td>4.650777</td>\n",
       "      <td>0.114558</td>\n",
       "      <td>1111052.0</td>\n",
       "    </tr>\n",
       "    <tr>\n",
       "      <th>161</th>\n",
       "      <td>-19.533397</td>\n",
       "      <td>2</td>\n",
       "      <td>0.000000</td>\n",
       "      <td>0</td>\n",
       "      <td>60.424710</td>\n",
       "      <td>6.199504</td>\n",
       "      <td>0.104364</td>\n",
       "      <td>1111058.0</td>\n",
       "    </tr>\n",
       "    <tr>\n",
       "      <th>165</th>\n",
       "      <td>-19.289054</td>\n",
       "      <td>5</td>\n",
       "      <td>-0.703400</td>\n",
       "      <td>1</td>\n",
       "      <td>63.270777</td>\n",
       "      <td>5.086880</td>\n",
       "      <td>0.089900</td>\n",
       "      <td>1111064.0</td>\n",
       "    </tr>\n",
       "    <tr>\n",
       "      <th>172</th>\n",
       "      <td>-31.643887</td>\n",
       "      <td>4</td>\n",
       "      <td>-28.940986</td>\n",
       "      <td>4</td>\n",
       "      <td>89.918256</td>\n",
       "      <td>4.383035</td>\n",
       "      <td>0.095144</td>\n",
       "      <td>1111076.0</td>\n",
       "    </tr>\n",
       "    <tr>\n",
       "      <th>174</th>\n",
       "      <td>-17.604891</td>\n",
       "      <td>5</td>\n",
       "      <td>1.239276</td>\n",
       "      <td>1</td>\n",
       "      <td>79.120879</td>\n",
       "      <td>4.778128</td>\n",
       "      <td>0.137257</td>\n",
       "      <td>1111078.0</td>\n",
       "    </tr>\n",
       "    <tr>\n",
       "      <th>187</th>\n",
       "      <td>-65.411820</td>\n",
       "      <td>4</td>\n",
       "      <td>-41.530055</td>\n",
       "      <td>5</td>\n",
       "      <td>81.382979</td>\n",
       "      <td>5.436329</td>\n",
       "      <td>0.058850</td>\n",
       "      <td>1112068.0</td>\n",
       "    </tr>\n",
       "    <tr>\n",
       "      <th>211</th>\n",
       "      <td>-25.230451</td>\n",
       "      <td>4</td>\n",
       "      <td>13.449132</td>\n",
       "      <td>1</td>\n",
       "      <td>70.023148</td>\n",
       "      <td>6.778701</td>\n",
       "      <td>0.032559</td>\n",
       "      <td>1114068.0</td>\n",
       "    </tr>\n",
       "    <tr>\n",
       "      <th>243</th>\n",
       "      <td>-23.014966</td>\n",
       "      <td>5</td>\n",
       "      <td>-4.640272</td>\n",
       "      <td>2</td>\n",
       "      <td>67.839196</td>\n",
       "      <td>4.722273</td>\n",
       "      <td>0.179184</td>\n",
       "      <td>1116054.0</td>\n",
       "    </tr>\n",
       "    <tr>\n",
       "      <th>251</th>\n",
       "      <td>-40.133254</td>\n",
       "      <td>5</td>\n",
       "      <td>-1.478743</td>\n",
       "      <td>2</td>\n",
       "      <td>75.630252</td>\n",
       "      <td>3.600454</td>\n",
       "      <td>0.220490</td>\n",
       "      <td>1116065.0</td>\n",
       "    </tr>\n",
       "    <tr>\n",
       "      <th>252</th>\n",
       "      <td>-32.945001</td>\n",
       "      <td>5</td>\n",
       "      <td>-0.839161</td>\n",
       "      <td>1</td>\n",
       "      <td>78.333333</td>\n",
       "      <td>4.226384</td>\n",
       "      <td>0.147374</td>\n",
       "      <td>1116066.0</td>\n",
       "    </tr>\n",
       "    <tr>\n",
       "      <th>281</th>\n",
       "      <td>-19.941327</td>\n",
       "      <td>5</td>\n",
       "      <td>17.117117</td>\n",
       "      <td>0</td>\n",
       "      <td>52.737752</td>\n",
       "      <td>5.409194</td>\n",
       "      <td>0.058971</td>\n",
       "      <td>1118058.0</td>\n",
       "    </tr>\n",
       "    <tr>\n",
       "      <th>291</th>\n",
       "      <td>-40.898711</td>\n",
       "      <td>2</td>\n",
       "      <td>-25.583658</td>\n",
       "      <td>5</td>\n",
       "      <td>88.372093</td>\n",
       "      <td>5.711804</td>\n",
       "      <td>0.044427</td>\n",
       "      <td>1119065.0</td>\n",
       "    </tr>\n",
       "    <tr>\n",
       "      <th>292</th>\n",
       "      <td>-54.382555</td>\n",
       "      <td>4</td>\n",
       "      <td>-35.067437</td>\n",
       "      <td>4</td>\n",
       "      <td>89.122373</td>\n",
       "      <td>5.746367</td>\n",
       "      <td>0.061636</td>\n",
       "      <td>1119066.0</td>\n",
       "    </tr>\n",
       "    <tr>\n",
       "      <th>293</th>\n",
       "      <td>-61.490638</td>\n",
       "      <td>4</td>\n",
       "      <td>-23.760684</td>\n",
       "      <td>4</td>\n",
       "      <td>86.467662</td>\n",
       "      <td>5.862678</td>\n",
       "      <td>0.042651</td>\n",
       "      <td>1119067.0</td>\n",
       "    </tr>\n",
       "    <tr>\n",
       "      <th>310</th>\n",
       "      <td>-60.356500</td>\n",
       "      <td>2</td>\n",
       "      <td>-6.984668</td>\n",
       "      <td>1</td>\n",
       "      <td>64.387211</td>\n",
       "      <td>5.431365</td>\n",
       "      <td>0.038236</td>\n",
       "      <td>1120066.0</td>\n",
       "    </tr>\n",
       "    <tr>\n",
       "      <th>316</th>\n",
       "      <td>-18.514990</td>\n",
       "      <td>2</td>\n",
       "      <td>-39.800641</td>\n",
       "      <td>2</td>\n",
       "      <td>74.067278</td>\n",
       "      <td>5.620063</td>\n",
       "      <td>0.032852</td>\n",
       "      <td>1120072.0</td>\n",
       "    </tr>\n",
       "    <tr>\n",
       "      <th>350</th>\n",
       "      <td>-50.871792</td>\n",
       "      <td>2</td>\n",
       "      <td>0.379816</td>\n",
       "      <td>0</td>\n",
       "      <td>55.145119</td>\n",
       "      <td>5.993350</td>\n",
       "      <td>0.017732</td>\n",
       "      <td>1122062.0</td>\n",
       "    </tr>\n",
       "    <tr>\n",
       "      <th>368</th>\n",
       "      <td>-82.499049</td>\n",
       "      <td>5</td>\n",
       "      <td>-64.542936</td>\n",
       "      <td>3</td>\n",
       "      <td>74.074074</td>\n",
       "      <td>4.095778</td>\n",
       "      <td>0.025112</td>\n",
       "      <td>1123068.0</td>\n",
       "    </tr>\n",
       "    <tr>\n",
       "      <th>369</th>\n",
       "      <td>-15.177349</td>\n",
       "      <td>2</td>\n",
       "      <td>-23.979592</td>\n",
       "      <td>2</td>\n",
       "      <td>72.472924</td>\n",
       "      <td>7.575863</td>\n",
       "      <td>0.033919</td>\n",
       "      <td>1123071.0</td>\n",
       "    </tr>\n",
       "    <tr>\n",
       "      <th>371</th>\n",
       "      <td>-35.470532</td>\n",
       "      <td>5</td>\n",
       "      <td>-8.098988</td>\n",
       "      <td>2</td>\n",
       "      <td>87.234043</td>\n",
       "      <td>4.800990</td>\n",
       "      <td>0.107494</td>\n",
       "      <td>1123073.0</td>\n",
       "    </tr>\n",
       "    <tr>\n",
       "      <th>372</th>\n",
       "      <td>-24.458639</td>\n",
       "      <td>2</td>\n",
       "      <td>-13.527397</td>\n",
       "      <td>2</td>\n",
       "      <td>59.440559</td>\n",
       "      <td>5.391161</td>\n",
       "      <td>0.073116</td>\n",
       "      <td>1123074.0</td>\n",
       "    </tr>\n",
       "    <tr>\n",
       "      <th>373</th>\n",
       "      <td>-36.396428</td>\n",
       "      <td>3</td>\n",
       "      <td>-8.381689</td>\n",
       "      <td>4</td>\n",
       "      <td>68.949772</td>\n",
       "      <td>3.300945</td>\n",
       "      <td>0.221386</td>\n",
       "      <td>1123075.0</td>\n",
       "    </tr>\n",
       "    <tr>\n",
       "      <th>378</th>\n",
       "      <td>-39.658110</td>\n",
       "      <td>3</td>\n",
       "      <td>-24.008811</td>\n",
       "      <td>3</td>\n",
       "      <td>64.174455</td>\n",
       "      <td>6.788057</td>\n",
       "      <td>0.008022</td>\n",
       "      <td>1123080.0</td>\n",
       "    </tr>\n",
       "    <tr>\n",
       "      <th>382</th>\n",
       "      <td>-44.188005</td>\n",
       "      <td>4</td>\n",
       "      <td>-33.160622</td>\n",
       "      <td>4</td>\n",
       "      <td>82.733813</td>\n",
       "      <td>5.456130</td>\n",
       "      <td>0.047405</td>\n",
       "      <td>1124054.0</td>\n",
       "    </tr>\n",
       "  </tbody>\n",
       "</table>\n",
       "</div>"
      ],
      "text/plain": [
       "     과거대비인구변화(%)  최근인구변화(연속감소년수)  과거대비사업체변화(%)  최근사업체변화(연속감소년수)  노후건축물비율(%)  \\\n",
       "1     -71.395349               3     -2.691790                1   77.192982   \n",
       "5     -17.639112               2    -45.133992                1   65.089723   \n",
       "7     -10.256026               4     -3.794240                4   75.576037   \n",
       "8     -64.354556               3     -6.558862                5   87.413555   \n",
       "18    -49.221646               2    -16.137566                4   90.170512   \n",
       "23    -64.764320               2    -12.184664                4   94.223827   \n",
       "34    -37.757063               5     -7.171776                1   88.413098   \n",
       "91    -42.260503               5    -20.799408                4   89.893617   \n",
       "96    -38.042701               4    -25.418060                4   77.196885   \n",
       "101   -16.016399               3     -9.674185                2   83.068783   \n",
       "104   -35.651936               3      0.782998                0   76.416185   \n",
       "122   -33.289194               5    -21.405049                4   83.194444   \n",
       "123   -53.440033               4    -36.621622                5   91.500000   \n",
       "124   -32.177664               3    -57.370892                4   89.341085   \n",
       "131   -38.284953               5     -9.188034                2   86.681465   \n",
       "132   -31.675361               5     -4.950495                2   71.848739   \n",
       "136   -21.462392               5    -23.106061                3   79.148753   \n",
       "148   -34.055939               5    -10.144928                3   77.088036   \n",
       "158   -13.216176               1    -22.734761                2   60.879121   \n",
       "161   -19.533397               2      0.000000                0   60.424710   \n",
       "165   -19.289054               5     -0.703400                1   63.270777   \n",
       "172   -31.643887               4    -28.940986                4   89.918256   \n",
       "174   -17.604891               5      1.239276                1   79.120879   \n",
       "187   -65.411820               4    -41.530055                5   81.382979   \n",
       "211   -25.230451               4     13.449132                1   70.023148   \n",
       "243   -23.014966               5     -4.640272                2   67.839196   \n",
       "251   -40.133254               5     -1.478743                2   75.630252   \n",
       "252   -32.945001               5     -0.839161                1   78.333333   \n",
       "281   -19.941327               5     17.117117                0   52.737752   \n",
       "291   -40.898711               2    -25.583658                5   88.372093   \n",
       "292   -54.382555               4    -35.067437                4   89.122373   \n",
       "293   -61.490638               4    -23.760684                4   86.467662   \n",
       "310   -60.356500               2     -6.984668                1   64.387211   \n",
       "316   -18.514990               2    -39.800641                2   74.067278   \n",
       "350   -50.871792               2      0.379816                0   55.145119   \n",
       "368   -82.499049               5    -64.542936                3   74.074074   \n",
       "369   -15.177349               2    -23.979592                2   72.472924   \n",
       "371   -35.470532               5     -8.098988                2   87.234043   \n",
       "372   -24.458639               2    -13.527397                2   59.440559   \n",
       "373   -36.396428               3     -8.381689                4   68.949772   \n",
       "378   -39.658110               3    -24.008811                3   64.174455   \n",
       "382   -44.188005               4    -33.160622                4   82.733813   \n",
       "\n",
       "       노인인구비율  기초생활 대상자 비율      행정동코드  \n",
       "1    4.398734     0.016852  1101054.0  \n",
       "5    6.406580     0.021841  1101058.0  \n",
       "7    4.275792     0.116744  1101061.0  \n",
       "8    5.176142     0.053336  1101063.0  \n",
       "18   4.079104     0.104970  1102054.0  \n",
       "23   4.045455     0.069302  1102060.0  \n",
       "34   5.094315     0.177594  1103053.0  \n",
       "91   6.585801     0.031246  1106089.0  \n",
       "96   6.794037     0.051702  1107055.0  \n",
       "101  5.119463     0.093365  1107062.0  \n",
       "104  5.159952     0.103489  1107068.0  \n",
       "122  6.138646     0.095925  1108076.0  \n",
       "123  4.530440     0.069479  1108077.0  \n",
       "124  7.749169     0.035987  1108078.0  \n",
       "131  4.099747     0.107682  1109061.0  \n",
       "132  3.718912     0.154407  1109062.0  \n",
       "136  5.007851     0.071465  1109069.0  \n",
       "148  4.660000     0.113832  1110056.0  \n",
       "158  4.650777     0.114558  1111052.0  \n",
       "161  6.199504     0.104364  1111058.0  \n",
       "165  5.086880     0.089900  1111064.0  \n",
       "172  4.383035     0.095144  1111076.0  \n",
       "174  4.778128     0.137257  1111078.0  \n",
       "187  5.436329     0.058850  1112068.0  \n",
       "211  6.778701     0.032559  1114068.0  \n",
       "243  4.722273     0.179184  1116054.0  \n",
       "251  3.600454     0.220490  1116065.0  \n",
       "252  4.226384     0.147374  1116066.0  \n",
       "281  5.409194     0.058971  1118058.0  \n",
       "291  5.711804     0.044427  1119065.0  \n",
       "292  5.746367     0.061636  1119066.0  \n",
       "293  5.862678     0.042651  1119067.0  \n",
       "310  5.431365     0.038236  1120066.0  \n",
       "316  5.620063     0.032852  1120072.0  \n",
       "350  5.993350     0.017732  1122062.0  \n",
       "368  4.095778     0.025112  1123068.0  \n",
       "369  7.575863     0.033919  1123071.0  \n",
       "371  4.800990     0.107494  1123073.0  \n",
       "372  5.391161     0.073116  1123074.0  \n",
       "373  3.300945     0.221386  1123075.0  \n",
       "378  6.788057     0.008022  1123080.0  \n",
       "382  5.456130     0.047405  1124054.0  "
      ]
     },
     "execution_count": 60,
     "metadata": {},
     "output_type": "execute_result"
    }
   ],
   "source": [
    "data_a_target"
   ]
  },
  {
   "cell_type": "code",
   "execution_count": 61,
   "id": "f3c27752-93c8-4fba-946a-39533c0c03a7",
   "metadata": {},
   "outputs": [],
   "source": [
    "data_a_target.to_csv('../Data/Preprocessing/gmm.csv',encoding='cp949',index=False) #csv로 내보내기"
   ]
  },
  {
   "cell_type": "code",
   "execution_count": null,
   "id": "cbb9b0e8-6576-4395-b2da-536b661d36d6",
   "metadata": {},
   "outputs": [],
   "source": []
  }
 ],
 "metadata": {
  "kernelspec": {
   "display_name": "Python 3",
   "language": "python",
   "name": "python3"
  },
  "language_info": {
   "codemirror_mode": {
    "name": "ipython",
    "version": 3
   },
   "file_extension": ".py",
   "mimetype": "text/x-python",
   "name": "python",
   "nbconvert_exporter": "python",
   "pygments_lexer": "ipython3",
   "version": "3.8.3"
  }
 },
 "nbformat": 4,
 "nbformat_minor": 5
}
